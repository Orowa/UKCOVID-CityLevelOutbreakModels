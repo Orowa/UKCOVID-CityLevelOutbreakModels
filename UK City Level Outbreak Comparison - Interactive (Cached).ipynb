{
 "cells": [
  {
   "cell_type": "code",
   "execution_count": 1,
   "metadata": {},
   "outputs": [
    {
     "data": {
      "text/html": [
       "        <script type=\"text/javascript\">\n",
       "        window.PlotlyConfig = {MathJaxConfig: 'local'};\n",
       "        if (window.MathJax) {MathJax.Hub.Config({SVG: {font: \"STIX-Web\"}});}\n",
       "        if (typeof require !== 'undefined') {\n",
       "        require.undef(\"plotly\");\n",
       "        requirejs.config({\n",
       "            paths: {\n",
       "                'plotly': ['https://cdn.plot.ly/plotly-latest.min']\n",
       "            }\n",
       "        });\n",
       "        require(['plotly'], function(Plotly) {\n",
       "            window._Plotly = Plotly;\n",
       "        });\n",
       "        }\n",
       "        </script>\n",
       "        "
      ]
     },
     "metadata": {},
     "output_type": "display_data"
    },
    {
     "data": {
      "application/javascript": [
       "require.config({\n",
       "    paths: {\n",
       "        datatables: 'https://cdn.datatables.net/1.10.19/js/jquery.dataTables.min',\n",
       "    }\n",
       "});\n",
       "\n",
       "$('head').append('<link rel=\"stylesheet\" type=\"text/css\" \\\n",
       "                href = \"https://cdn.datatables.net/1.10.19/css/jquery.dataTables.min.css\" > ');\n",
       "\n",
       "$('head').append('<style> table td { text-overflow: ellipsis; overflow: hidden; } </style>');\n",
       "\n",
       "$('head').append(`<script>\n",
       "function eval_functions(map_or_text) {\n",
       "    if (typeof map_or_text === \"string\") {\n",
       "        if (map_or_text.startsWith(\"function\")) {\n",
       "            try {\n",
       "                // Note: parenthesis are required around the whole expression for eval to return a value!\n",
       "                // See https://stackoverflow.com/a/7399078/911298.\n",
       "                //\n",
       "                // eval(\"local_fun = \" + map_or_text) would fail because local_fun is not declared\n",
       "                // (using var, let or const would work, but it would only be declared in the local scope\n",
       "                // and therefore the value could not be retrieved).\n",
       "                const func = eval(\"(\" + map_or_text + \")\");\n",
       "                if (typeof func !== \"function\") {\n",
       "                    // Note: backquotes are super convenient!\n",
       "                    // https://developer.mozilla.org/en-US/docs/Web/JavaScript/Reference/Template_literals\n",
       "                    console.error(\"Evaluated expression \" + map_or_text + \" is not a function (type is \" + typeof func + \")\");\n",
       "                    return map_or_text;\n",
       "                }\n",
       "                // Return the function\n",
       "                return func;\n",
       "            } catch (e) {\n",
       "                // Make sure to print the error with a second argument to console.error().\n",
       "                console.error(\"itables was not able to parse \" + map_or_text, e);\n",
       "            }\n",
       "        }\n",
       "    } else if (typeof map_or_text === \"object\") {\n",
       "        if (map_or_text instanceof Array) {\n",
       "            // Note: \"var\" is now superseded by \"let\" and \"const\".\n",
       "            // https://medium.com/javascript-scene/javascript-es6-var-let-or-const-ba58b8dcde75\n",
       "            const result = [];\n",
       "            // Note: \"for of\" is the best way to iterate through an iterable.\n",
       "            // https://developer.mozilla.org/en-US/docs/Web/JavaScript/Reference/Statements/for...of\n",
       "            for (const item of map_or_text) {\n",
       "                result.push(eval_functions(item));\n",
       "            }\n",
       "            return result;\n",
       "\n",
       "            // Alternatively, more functional approach in one line:\n",
       "            // return map_or_text.map(eval_functions);\n",
       "        } else {\n",
       "            const result = {};\n",
       "            // Object.keys() is safer than \"for in\" because otherwise you might have keys\n",
       "            // that aren't defined in the object itself.\n",
       "            //\n",
       "            // See https://stackoverflow.com/a/684692/911298.\n",
       "            for (const item of Object.keys(map_or_text)) {\n",
       "                result[item] = eval_functions(map_or_text[item]);\n",
       "            }\n",
       "            return result;\n",
       "        }\n",
       "    }\n",
       "\n",
       "    return map_or_text;\n",
       "}\n",
       "</` + 'script>');"
      ],
      "text/plain": [
       "<IPython.core.display.Javascript object>"
      ]
     },
     "metadata": {},
     "output_type": "display_data"
    }
   ],
   "source": [
    "import pandas as pd\n",
    "import numpy as np\n",
    "from scipy.integrate import odeint\n",
    "from Source.Classes import Model, epidemic\n",
    "import itables.interactive\n",
    "import ipywidgets as widgets\n",
    "from IPython.display import display\n",
    "\n",
    "# Define Generalized Logistic Growth Model\n",
    "\n",
    "def GLM(t, r, p, K, C_0 = 1):\n",
    "    def GLM_ode(C_t, t):\n",
    "        return r*pow(C_t, p)*(1-C_t/K)\n",
    "    GLM_int = odeint(GLM_ode, C_0, t)\n",
    "    return GLM_int[:,0]\n",
    "\n",
    "# Define default parameters for search\n",
    "\n",
    "par0 = {\"r\": 0.8, \"p\": 1, \"K\":\"0.2*pop\"} # assumed total outbreak size is 20% of pop\n",
    "parlower = {\"r\": 0, \"p\": 0, \"K\":\"0.1*pop\"} # assumed minimum outbreak size is 10% of pop\n",
    "parupper = {\"r\": 10, \"p\": 1, \"K\":\"0.8*pop\"} # assumed max outbreak size is 80% of pop\n",
    "\n",
    "# Initialise the Model\n",
    "\n",
    "GLM_Model = Model(\"GLM\", GLM, par0, parupper, parlower)\n",
    "\n",
    "# Load and clean data\n",
    "\n",
    "source = \"https://raw.githubusercontent.com/tomwhite/covid-19-uk-data/master/data/covid-19-cases-uk.csv\"\n",
    "utla_raw = pd.read_csv(source) # Raw Upper Tier Local Authority (UTLA) Case Counts utla_raw.to_csv(\"dailycases.csv\")\n",
    "popdata = pd.read_csv(\"paramfit_cache.csv\") # Load model fitted caches from 30/03/20\n",
    "\n",
    "# Clean data\n",
    "\n",
    "def str2num(s):\n",
    "    \n",
    "    '''\n",
    "    float <- str\n",
    "    \n",
    "    Accounts for irregular phrases such as '1 to 4' in the counts data\n",
    "    by taking the mean of all integers occuring in the phrase.\n",
    "    '''\n",
    "    \n",
    "    assert type(s) is str, \"Case counts is not a string\"\n",
    "    counts = [int(n) for n in s.split() if s.isdigit()]\n",
    "    if len(counts):\n",
    "        return np.mean(counts)\n",
    "    return np.nan\n",
    "        \n",
    "utla_raw.TotalCases = [str2num(s) for s in utla_raw.TotalCases]\n",
    "utla_raw.dropna(subset=['TotalCases'],inplace=True)\n",
    "utla_raw.Date = pd.to_datetime(utla_raw.Date)\n",
    "utla_raw = utla_raw[utla_raw.Date < pd.to_datetime('today').strftime(\"%m/%d/%Y\")] # remove today's data as it seems to be underreported\n",
    "\n",
    "# Load the data into the Epidemic class, register that cache is being used\n",
    "\n",
    "UKcases = epidemic(casedata = utla_raw, popdata = popdata)\n",
    "UKcases.all_fitted = True\n",
    "UKcases.all_fitted_bootstrap = True"
   ]
  },
  {
   "cell_type": "code",
   "execution_count": 2,
   "metadata": {},
   "outputs": [
    {
     "data": {
      "application/vnd.jupyter.widget-view+json": {
       "model_id": "84ba9512b00e44aaa613ed4842e15fa9",
       "version_major": 2,
       "version_minor": 0
      },
      "text/plain": [
       "Dropdown(description='Choose target city: ', options=('Barking and Dagenham', 'Barnet', 'Barnsley', 'Bath and …"
      ]
     },
     "metadata": {},
     "output_type": "display_data"
    },
    {
     "data": {
      "application/vnd.jupyter.widget-view+json": {
       "model_id": "1bbdf214850a470f9e940c50bb4ae311",
       "version_major": 2,
       "version_minor": 0
      },
      "text/plain": [
       "Dropdown(description='Include error bars: ', options=(False, True), value=False)"
      ]
     },
     "metadata": {},
     "output_type": "display_data"
    },
    {
     "data": {
      "application/vnd.jupyter.widget-view+json": {
       "model_id": "c89bf2cab2e9424382399f872a2e8f6e",
       "version_major": 2,
       "version_minor": 0
      },
      "text/plain": [
       "Output()"
      ]
     },
     "metadata": {},
     "output_type": "display_data"
    }
   ],
   "source": [
    "# Visualise and explore case counts and projections per city, where sufficient data available\n",
    "\n",
    "city_dropdown = widgets.Dropdown(options = np.sort(UKcases.popdata.Name.values), description=\"Choose target city: \")\n",
    "intervals_dropdown = widgets.Dropdown(options = [False, True], description=\"Include error bars: \")\n",
    "\n",
    "graph_output = widgets.Output()\n",
    "\n",
    "def and_filter(city, intervals):\n",
    "    graph_output.clear_output()\n",
    "    with graph_output:\n",
    "        UKcases.fit_target(city, GLM_Model, visualise=True, assess=False, intervals=intervals)\n",
    "\n",
    "def city_dropdown_eventhandler(change):\n",
    "    and_filter(change.new, intervals_dropdown.value)\n",
    "\n",
    "def intervals_dropdown_eventhandler(change):\n",
    "    and_filter(city_dropdown.value, change.new)\n",
    "    \n",
    "city_dropdown.observe(city_dropdown_eventhandler, names='value')\n",
    "intervals_dropdown.observe(intervals_dropdown_eventhandler, names='value')\n",
    "\n",
    "display(city_dropdown)\n",
    "display(intervals_dropdown)\n",
    "\n",
    "display(graph_output)"
   ]
  },
  {
   "cell_type": "code",
   "execution_count": 3,
   "metadata": {},
   "outputs": [
    {
     "data": {
      "text/html": [
       "<div><table id=\"feee9d71-e3c6-47d6-9f36-731e8f8b1002\" class=\"display\"><thead>\n",
       "    <tr style=\"text-align: right;\">\n",
       "      <th></th>\n",
       "      <th>Unnamed: 0</th>\n",
       "      <th>Code</th>\n",
       "      <th>Name</th>\n",
       "      <th>Geog</th>\n",
       "      <th>Area</th>\n",
       "      <th>Population</th>\n",
       "      <th>PopDensity</th>\n",
       "      <th>MedAge</th>\n",
       "      <th>r</th>\n",
       "      <th>p</th>\n",
       "      <th>K</th>\n",
       "      <th>r_se</th>\n",
       "      <th>p_se</th>\n",
       "      <th>K_se</th>\n",
       "      <th>LatestTotalCases</th>\n",
       "    </tr>\n",
       "  </thead></table>\n",
       "<script type=\"text/javascript\">\n",
       "require([\"datatables\"], function (datatables) {\n",
       "    $(document).ready(function () {        \n",
       "        var dt_args = {\"columnDefs\": [{\"width\": \"70px\", \"targets\": \"_all\"}], \"data\": [[0, 137, \"E06000020\", \"Telford and Wrekin\", \"Unitary Authority\", 290.0, 177799.0, 612.0, 39.4, 2.111644, 0.3064196, 142239.2, 1.014728, 0.209755, 63462.025342, 40.0], [1, 380, \"W06000018\", \"Caerphilly\", \"Unitary Authority\", 277.0, 181019.0, 653.0, 41.6, 1.894286, 0.1213053, 18101.9, 0.851043, 0.241034, 47380.359104, 23.0], [2, 226, \"E09000020\", \"Kensington and Chelsea\", \"London Borough\", 12.0, 156197.0, 12884.0, 39.4, 1.688543, 0.3474143, 124957.6, 0.557368, 0.081189, 44629.013289, 170.0], [3, 235, \"E09000003\", \"Barnet\", \"London Borough\", 87.0, 392140.0, 4520.0, 37.0, 1.544515, 0.3543301, 39214.0, 0.446951, 0.068896, 139061.670498, 124.0], [4, 373, \"W06000011\", \"Swansea\", \"Unitary Authority\", 380.0, 246466.0, 649.0, 39.6, 1.542405, 0.3516786, 24646.6, 0.905777, 0.283197, 86262.999624, 19.0], [5, 233, \"E09000033\", \"Westminster\", \"London Borough\", 21.0, 255324.0, 11883.0, 36.1, 1.359893, 0.4838129, 25532.4, 0.377057, 0.060163, 89363.399996, 241.0], [6, 63, \"E06000011\", \"East Riding of Yorkshire\", \"Unitary Authority\", 2405.0, 339614.0, 141.0, 48.8, 1.080853, 0.202002, 271691.2, 0.439727, 0.234128, 119656.360343, 35.0], [7, 229, \"E09000025\", \"Newham\", \"London Borough\", 36.0, 352005.0, 9723.0, 31.9, 1.007269, 0.665058, 281604.0, 0.195717, 0.054173, 120712.569157, 250.0], [8, 236, \"E09000004\", \"Bexley\", \"London Borough\", 61.0, 247258.0, 4082.0, 38.8, 0.999374, 0.560876, 197806.4, 0.346185, 0.088064, 81930.186137, 130.0], [9, 230, \"E09000028\", \"Southwark\", \"London Borough\", 29.0, 317256.0, 10992.0, 33.4, 0.911528, 0.6415748, 31725.6, 0.131159, 0.03586, 113213.904712, 368.0], [10, 224, \"E09000014\", \"Haringey\", \"London Borough\", 30.0, 270624.0, 9143.0, 35.4, 0.876476, 0.5764174, 216499.2, 0.213382, 0.071825, 96457.733125, 151.0], [11, 369, \"W06000023\", \"Powys\", \"Unitary Authority\", 5181.0, 132447.0, 26.0, 49.9, 0.872079, 9.920706e-31, 13244.7, 0.353337, 0.29997, 42484.405156, 8.0], [12, 39, \"E08000007\", \"Stockport\", \"Metropolitan District\", 126.0, 291775.0, 2315.0, 42.5, 0.852335, 0.5498657, 233420.0, 0.263836, 0.095318, 103473.492619, 93.0], [13, 372, \"W06000010\", \"Carmarthenshire\", \"Unitary Authority\", 2370.0, 187568.0, 79.0, 46.3, 0.829356, 6.24681e-14, 18756.8, 0.316283, 0.319188, 65648.503884, 8.0], [14, 227, \"E09000022\", \"Lambeth\", \"London Borough\", 27.0, 325917.0, 12156.0, 33.1, 0.80297, 0.6735737, 32591.7, 0.110935, 0.036938, 113681.587736, 366.0], [15, 374, \"W06000012\", \"Neath Port Talbot\", \"Unitary Authority\", 441.0, 142906.0, 324.0, 43.3, 0.801746, 0.09778173, 14290.6, 0.471516, 0.332026, 43311.997153, 15.0], [16, 277, \"E10000014\", \"Hampshire\", \"County\", 3679.0, 1376316.0, 374.0, 44.3, 0.794502, 0.6961074, 1101053.0, 0.11037, 0.032997, 484710.798277, 498.0], [17, 239, \"E09000008\", \"Croydon\", \"London Borough\", 86.0, 385346.0, 4455.0, 37.4, 0.791752, 0.6970092, 38534.6, 0.13595, 0.046567, 137504.616366, 313.0], [18, 205, \"E10000020\", \"Norfolk\", \"County\", 5380.0, 903680.0, 168.0, 45.6, 0.791212, 0.6727235, 722944.0, 0.185971, 0.068963, 320314.554927, 133.0], [19, 9, \"E06000057\", \"Northumberland\", \"Unitary Authority\", 5014.0, 320274.0, 64.0, 48.0, 0.785418, 0.6679479, 32027.4, 0.302896, 0.128174, 111505.330144, 67.0], [20, 157, \"E08000028\", \"Sandwell\", \"Metropolitan District\", 86.0, 327378.0, 3826.0, 36.5, 0.785201, 0.7020528, 32737.8, 0.181982, 0.067947, 104628.7204, 144.0], [21, 80, \"E08000019\", \"Sheffield\", \"Metropolitan District\", 368.0, 582506.0, 1583.0, 35.4, 0.77305, 0.7468282, 58250.6, 0.065733, 0.021965, 207813.688755, 428.0], [22, 241, \"E09000010\", \"Enfield\", \"London Borough\", 81.0, 333869.0, 4130.0, 36.1, 0.771596, 0.6178756, 33386.9, 0.141811, 0.059872, 116654.465644, 164.0], [23, 242, \"E09000011\", \"Greenwich\", \"London Borough\", 47.0, 286186.0, 6046.0, 34.7, 0.768905, 0.6432108, 28618.6, 0.113993, 0.046382, 95294.089378, 185.0], [24, 225, \"E09000019\", \"Islington\", \"London Borough\", 15.0, 239142.0, 16097.0, 32.1, 0.761967, 0.6230784, 23914.2, 0.134095, 0.06027, 85346.413443, 152.0], [25, 259, \"E06000044\", \"Portsmouth\", \"Unitary Authority\", 40.0, 215133.0, 5327.0, 33.9, 0.755474, 0.5873338, 21513.3, 0.258088, 0.106552, 75265.949457, 72.0], [26, 232, \"E09000032\", \"Wandsworth\", \"London Borough\", 34.0, 326474.0, 9528.0, 33.9, 0.755098, 0.6710552, 32647.4, 0.131752, 0.046284, 114244.770078, 314.0], [27, 38, \"E08000006\", \"Salford\", \"Metropolitan District\", 97.0, 254408.0, 2617.0, 35.0, 0.728416, 0.6753318, 25440.8, 0.169575, 0.080185, 87214.16249, 104.0], [28, 23, \"E06000006\", \"Halton\", \"Unitary Authority\", 79.0, 128432.0, 1624.0, 41.0, 0.713525, 0.2629038, 102745.6, 0.412388, 0.312824, 42279.596192, 19.0], [29, 220, \"E09000007\", \"Camden\", \"London Borough\", 22.0, 262226.0, 12035.0, 33.9, 0.707675, 0.5733284, 209780.8, 0.214036, 0.08606, 84043.416925, 127.0], [30, 237, \"E09000005\", \"Brent\", \"London Borough\", 43.0, 330795.0, 7652.0, 35.3, 0.699073, 0.7050188, 33079.5, 0.084299, 0.031993, 110208.681915, 359.0], [31, 159, \"E08000030\", \"Walsall\", \"Metropolitan District\", 104.0, 283378.0, 2725.0, 38.2, 0.662743, 0.7113708, 226702.4, 0.123968, 0.060429, 97171.994331, 151.0], [32, 160, \"E08000031\", \"Wolverhampton\", \"Metropolitan District\", 69.0, 262008.0, 3773.0, 37.7, 0.632895, 0.680311, 26200.8, 0.097659, 0.049212, 93345.041598, 175.0], [33, 243, \"E09000015\", \"Harrow\", \"London Borough\", 50.0, 250149.0, 4957.0, 38.0, 0.611656, 0.7164092, 25014.9, 0.072912, 0.033056, 88711.831653, 283.0], [34, 21, \"E06000049\", \"Cheshire East\", \"Unitary Authority\", 1166.0, 380790.0, 326.0, 46.2, 0.592709, 0.6323053, 304632.0, 0.197822, 0.135409, 133272.411564, 61.0], [35, 384, \"W06000022\", \"Newport\", \"Unitary Authority\", 191.0, 153302.0, 805.0, 38.8, 0.541765, 0.7570435, 15330.2, 0.166177, 0.148709, 53655.699964, 38.0], [36, 240, \"E09000009\", \"Ealing\", \"London Borough\", 56.0, 341982.0, 6157.0, 36.7, 0.538916, 0.7584, 34198.2, 0.078579, 0.042949, 119692.450618, 304.0], [37, 8, \"E06000002\", \"Middlesbrough\", \"Unitary Authority\", 54.0, 140545.0, 2608.0, 36.2, 0.535572, 0.7720677, 14054.5, 0.242699, 0.180546, 49842.311057, 33.0], [38, 136, \"E06000021\", \"Stoke-on-Trent\", \"Unitary Authority\", 93.0, 255833.0, 2738.0, 37.7, 0.530417, 0.6976204, 25583.3, 0.300289, 0.215842, 90842.650731, 33.0], [39, 302, \"E10000025\", \"Oxfordshire\", \"County\", 2605.0, 687524.0, 264.0, 39.8, 0.529478, 0.6927318, 550019.2, 0.086965, 0.060519, 227510.704479, 165.0], [40, 329, \"E06000022\", \"Bath and North East Somerset\", \"Unitary Authority\", 346.0, 192106.0, 555.0, 38.2, 0.522434, 0.6040254, 19210.6, 0.287603, 0.178392, 68126.330866, 39.0], [41, 271, \"E10000011\", \"East Sussex\", \"County\", 1709.0, 554590.0, 325.0, 47.8, 0.519663, 0.6533059, 55459.0, 0.261468, 0.178548, 196469.354115, 45.0], [42, 234, \"E09000002\", \"Barking and Dagenham\", \"London Borough\", 36.0, 211998.0, 5871.0, 32.3, 0.518975, 0.7069629, 21199.8, 0.113403, 0.06827, 72667.277869, 115.0], [43, 262, \"E06000045\", \"Southampton\", \"Unitary Authority\", 50.0, 252796.0, 5065.0, 32.2, 0.514925, 0.7209891, 202236.8, 0.16613, 0.122533, 86686.996401, 68.0], [44, 92, \"E10000007\", \"Derbyshire\", \"County\", 2547.0, 796142.0, 313.0, 45.5, 0.51223, 0.7485101, 79614.2, 0.075822, 0.042887, 283458.067199, 225.0], [45, 161, \"E10000034\", \"Worcestershire\", \"County\", 1741.0, 592057.0, 340.0, 45.0, 0.504639, 0.803884, 59205.7, 0.106094, 0.061363, 205071.278919, 146.0], [46, 170, \"E06000056\", \"Central Bedfordshire\", \"Unitary Authority\", 716.0, 283606.0, 396.0, 41.3, 0.501445, 0.7090077, 28360.6, 0.141419, 0.120882, 97240.13345, 60.0], [47, 248, \"E09000024\", \"Merton\", \"London Borough\", 38.0, 206186.0, 5480.0, 37.1, 0.497651, 0.7276036, 20618.6, 0.106597, 0.066367, 72165.099989, 172.0], [48, 246, \"E09000018\", \"Hounslow\", \"London Borough\", 56.0, 270782.0, 4837.0, 36.0, 0.477406, 0.741964, 27078.2, 0.095745, 0.060508, 96021.849419, 184.0], [49, 89, \"E06000016\", \"Leicester\", \"Unitary Authority\", 73.0, 355218.0, 4843.0, 31.6, 0.47314, 0.7149349, 35521.8, 0.147135, 0.107645, 121347.003962, 65.0], [50, 222, \"E09000012\", \"Hackney\", \"London Borough\", 19.0, 279665.0, 14681.0, 33.0, 0.467754, 0.7559765, 28102.72, 0.071982, 0.043179, 99797.795541, 189.0], [51, 223, \"E09000013\", \"Hammersmith and Fulham\", \"London Borough\", 16.0, 185426.0, 11308.0, 34.8, 0.457646, 0.7407507, 148340.8, 0.093936, 0.060195, 66134.946456, 158.0], [52, 341, \"E10000008\", \"Devon\", \"County\", 6564.0, 795286.0, 121.0, 47.3, 0.457175, 0.6431328, 636228.8, 0.119294, 0.089581, 283509.828649, 101.0], [53, 255, \"E06000043\", \"Brighton and Hove\", \"Unitary Authority\", 83.0, 290395.0, 3508.0, 35.4, 0.45364, 0.43977, 232316.0, 0.341003, 0.237644, 99360.192982, 33.0], [54, 228, \"E09000023\", \"Lewisham\", \"London Borough\", 35.0, 303536.0, 8636.0, 35.0, 0.44886, 0.7938617, 30353.6, 0.062519, 0.041362, 104075.439747, 248.0], [55, 174, \"E06000034\", \"Thurrock\", \"Unitary Authority\", 163.0, 172525.0, 1055.0, 36.9, 0.442498, 0.7192855, 17252.5, 0.235592, 0.206297, 61579.582778, 41.0], [56, 245, \"E09000017\", \"Hillingdon\", \"London Borough\", 116.0, 304824.0, 2635.0, 35.9, 0.442478, 0.770689, 30482.4, 0.075626, 0.050495, 107722.147619, 192.0], [57, 25, \"E10000006\", \"Cumbria\", \"County\", 6767.0, 498888.0, 74.0, 47.6, 0.441101, 0.8253312, 49888.8, 0.047036, 0.030022, 176459.068189, 340.0], [58, 16, \"E08000023\", \"South Tyneside\", \"Metropolitan District\", 64.0, 150265.0, 2334.0, 43.5, 0.439581, 0.7728895, 15026.5, 0.289127, 0.257085, 51530.160264, 31.0], [59, 154, \"E08000025\", \"Birmingham\", \"Metropolitan District\", 268.0, 1141374.0, 4262.0, 32.6, 0.438595, 0.8681067, 114137.4, 0.044382, 0.028311, 405208.193538, 578.0], [60, 231, \"E09000030\", \"Tower Hamlets\", \"London Borough\", 20.0, 317705.0, 16057.0, 31.3, 0.433832, 0.7968596, 254164.0, 0.057113, 0.045736, 112626.903667, 195.0], [61, 68, \"E10000023\", \"North Yorkshire\", \"County\", 8038.0, 614505.0, 76.0, 47.8, 0.42025, 0.8089898, 61450.5, 0.104792, 0.090294, 219221.38275, 108.0], [62, 194, \"E10000015\", \"Hertfordshire\", \"County\", 1643.0, 1184365.0, 721.0, 40.0, 0.418931, 0.8136219, 947492.0, 0.048965, 0.035616, 414407.657145, 339.0], [63, 238, \"E09000006\", \"Bromley\", \"London Borough\", 150.0, 331096.0, 2205.0, 40.6, 0.412223, 0.8337672, 33109.6, 0.046657, 0.033393, 115746.00973, 277.0], [64, 266, \"E10000002\", \"Buckinghamshire\", \"County\", 1565.0, 540059.0, 345.0, 42.0, 0.403958, 0.7676241, 432047.2, 0.081029, 0.068039, 192723.017007, 140.0], [65, 125, \"E10000024\", \"Nottinghamshire\", \"County\", 2085.0, 823126.0, 395.0, 43.8, 0.385035, 0.8303042, 82312.6, 0.053261, 0.046906, 282240.224638, 216.0], [66, 308, \"E10000030\", \"Surrey\", \"County\", 1663.0, 1189934.0, 716.0, 42.0, 0.381666, 0.8784199, 118993.4, 0.036982, 0.029212, 424724.768002, 358.0], [67, 336, \"E06000026\", \"Plymouth\", \"Unitary Authority\", 80.0, 263100.0, 3296.0, 38.3, 0.381487, 0.751535, 26310.0, 0.144676, 0.160885, 93799.726049, 44.0], [68, 252, \"E09000031\", \"Waltham Forest\", \"London Borough\", 39.0, 276700.0, 7130.0, 34.9, 0.378499, 0.8601195, 27670.0, 0.044485, 0.036538, 98757.746568, 196.0], [69, 65, \"E06000012\", \"North East Lincolnshire\", \"Unitary Authority\", 192.0, 159821.0, 833.0, 42.4, 0.376907, 1.0, 127856.8, 0.142103, 0.153631, 48765.051068, 20.0], [70, 244, \"E09000016\", \"Havering\", \"London Borough\", 112.0, 257810.0, 2295.0, 39.2, 0.3765, 0.8098078, 25781.0, 0.074549, 0.064137, 91419.598599, 118.0], [71, 333, \"E06000059\", \"Dorset\", \"Unitary Authority\", 2491.0, 376484.0, 151.0, 50.5, 0.376417, 0.7414188, 37648.4, 0.145229, 0.157868, 133026.396901, 45.0], [72, 265, \"E06000041\", \"Wokingham\", \"Unitary Authority\", 179.0, 167979.0, 939.0, 41.6, 0.373791, 0.4419343, 134383.2, 0.283938, 0.28647, 55729.866925, 23.0], [73, 101, \"E10000018\", \"Leicestershire\", \"County\", 2083.0, 698268.0, 335.0, 43.2, 0.371799, 0.8131781, 69826.81, 0.051569, 0.05191, 223766.129337, 146.0], [74, 158, \"E08000029\", \"Solihull\", \"Metropolitan District\", 178.0, 214909.0, 1205.0, 43.3, 0.370297, 0.9404725, 21490.9, 0.091481, 0.086815, 71330.850967, 87.0], [75, 88, \"E06000015\", \"Derby\", \"Unitary Authority\", 78.0, 257174.0, 3296.0, 36.9, 0.366936, 0.8573606, 25717.4, 0.068058, 0.075569, 91069.103036, 118.0], [76, 90, \"E06000018\", \"Nottingham\", \"Unitary Authority\", 75.0, 331069.0, 4437.0, 29.7, 0.350928, 0.78712, 33106.9, 0.084735, 0.082611, 115872.472889, 99.0], [77, 337, \"E06000025\", \"South Gloucestershire\", \"Unitary Authority\", 497.0, 282644.0, 569.0, 40.7, 0.347857, 0.7811764, 226115.2, 0.080149, 0.090121, 94050.910092, 58.0], [78, 40, \"E08000008\", \"Tameside\", \"Metropolitan District\", 103.0, 225197.0, 2183.0, 40.2, 0.346711, 0.7333758, 22519.7, 0.07489, 0.086525, 79894.153074, 62.0], [79, 22, \"E06000050\", \"Cheshire West and Chester\", \"Unitary Authority\", 917.0, 340502.0, 371.0, 44.4, 0.341614, 0.7515545, 272401.6, 0.105398, 0.141368, 121535.83539, 45.0], [80, 250, \"E09000027\", \"Richmond upon Thames\", \"London Borough\", 57.0, 196904.0, 3430.0, 40.7, 0.336375, 0.8595591, 19690.4, 0.048294, 0.057187, 70229.784468, 112.0], [81, 175, \"E10000003\", \"Cambridgeshire\", \"County\", 3046.0, 651482.0, 214.0, 41.0, 0.329265, 0.8675105, 67081.36, 0.074605, 0.087593, 227892.555241, 109.0], [82, 249, \"E09000026\", \"Redbridge\", \"London Borough\", 56.0, 303858.0, 5386.0, 35.5, 0.321472, 0.8658317, 30385.8, 0.05256, 0.05692, 105961.011048, 161.0], [83, 169, \"E06000055\", \"Bedford\", \"Unitary Authority\", 476.0, 171623.0, 360.0, 40.2, 0.321243, 0.921073, 17162.3, 0.071409, 0.092168, 48936.366727, 34.0], [84, 251, \"E09000029\", \"Sutton\", \"London Borough\", 44.0, 204525.0, 4665.0, 39.2, 0.313631, 0.8651955, 163620.0, 0.03315, 0.043365, 68125.260044, 111.0], [85, 35, \"E08000003\", \"Manchester\", \"Metropolitan District\", 116.0, 547627.0, 4735.0, 30.0, 0.312932, 0.8230806, 438101.6, 0.073082, 0.080302, 194832.852426, 109.0], [86, 181, \"E10000012\", \"Essex\", \"County\", 3464.0, 1477764.0, 427.0, 42.8, 0.310538, 0.9244642, 1182211.0, 0.030437, 0.032034, 527154.579229, 301.0], [87, 254, \"E06000036\", \"Bracknell Forest\", \"Unitary Authority\", 109.0, 121676.0, 1112.0, 39.1, 0.309668, 0.491193, 97340.8, 0.179815, 0.258959, 41725.660228, 21.0], [88, 261, \"E06000039\", \"Slough\", \"Unitary Authority\", 33.0, 149112.0, 4582.0, 34.8, 0.309605, 0.8496467, 119289.6, 0.055939, 0.079361, 47817.662612, 73.0], [89, 86, \"E08000036\", \"Wakefield\", \"Metropolitan District\", 339.0, 345038.0, 1019.0, 41.8, 0.307167, 0.9214654, 40689.24, 0.089622, 0.102036, 119139.038052, 62.0], [90, 350, \"E10000013\", \"Gloucestershire\", \"County\", 2653.0, 633558.0, 239.0, 44.3, 0.30546, 0.8498913, 66036.89, 0.059843, 0.06859, 220055.110844, 109.0], [91, 289, \"E10000016\", \"Kent\", \"County\", 3545.0, 1568623.0, 442.0, 42.1, 0.300842, 0.9366716, 156862.3, 0.033858, 0.037005, 522769.354863, 296.0], [92, 320, \"E10000032\", \"West Sussex\", \"County\", 1991.0, 858852.0, 431.0, 45.1, 0.300091, 0.8624105, 85885.2, 0.048808, 0.062077, 306551.09845, 113.0], [93, 138, \"E10000028\", \"Staffordshire\", \"County\", 2620.0, 875219.0, 334.0, 44.6, 0.296123, 0.9302962, 87521.9, 0.033547, 0.037265, 306326.649989, 256.0], [94, 339, \"E06000027\", \"Torbay\", \"Unitary Authority\", 63.0, 135780.0, 2159.0, 48.6, 0.295614, 0.6454506, 108624.0, 0.130163, 0.171948, 47522.999517, 35.0], [95, 147, \"E10000031\", \"Warwickshire\", \"County\", 1975.0, 571010.0, 289.0, 43.1, 0.291385, 0.9086197, 57101.0, 0.030954, 0.039022, 202495.501525, 148.0], [96, 135, \"E06000051\", \"Shropshire\", \"Unitary Authority\", 3197.0, 320274.0, 100.0, 47.4, 0.286015, 0.883903, 32027.4, 0.069972, 0.094935, 113556.421265, 78.0], [97, 263, \"E06000037\", \"West Berkshire\", \"Unitary Authority\", 704.0, 158527.0, 225.0, 43.2, 0.285501, 0.8793409, 15852.7, 0.097376, 0.144818, 56080.620535, 41.0], [98, 37, \"E08000005\", \"Rochdale\", \"Metropolitan District\", 158.0, 220001.0, 1391.0, 38.1, 0.284779, 0.9030691, 176000.8, 0.082934, 0.091797, 70392.594284, 78.0], [99, 57, \"E08000011\", \"Knowsley\", \"Metropolitan District\", 87.0, 149571.0, 1729.0, 39.6, 0.282494, 0.975391, 119656.8, 0.044845, 0.067663, 51292.168239, 34.0], [100, 340, \"E06000054\", \"Wiltshire\", \"Unitary Authority\", 3255.0, 498064.0, 153.0, 44.6, 0.274293, 0.8383624, 49806.4, 0.081745, 0.10815, 174322.399935, 76.0], [101, 78, \"E08000017\", \"Doncaster\", \"Metropolitan District\", 568.0, 310542.0, 547.0, 41.3, 0.273731, 0.9490408, 31054.2, 0.067545, 0.10349, 106163.363691, 49.0], [102, 156, \"E08000027\", \"Dudley\", \"Metropolitan District\", 98.0, 320626.0, 3273.0, 42.1, 0.2731, 0.9411378, 32062.6, 0.041698, 0.052896, 113627.745573, 136.0], [103, 332, \"E06000052\", \"Cornwall\", \"Unitary Authority\", 3546.0, 565968.0, 160.0, 47.2, 0.271376, 0.8326328, 56596.8, 0.08786, 0.116744, 198088.799222, 69.0], [104, 85, \"E08000035\", \"Leeds\", \"Metropolitan District\", 552.0, 789194.0, 1430.0, 35.4, 0.267468, 0.9087676, 78919.4, 0.036307, 0.047657, 277210.994555, 129.0], [105, 14, \"E08000021\", \"Newcastle upon Tyne\", \"Metropolitan District\", 113.0, 300196.0, 2646.0, 32.4, 0.258546, 0.9544076, 30140.41, 0.031652, 0.044183, 96149.10512, 186.0], [106, 43, \"E10000017\", \"Lancashire\", \"County\", 2903.0, 1210053.0, 417.0, 42.7, 0.253735, 0.9877899, 968042.4, 0.019588, 0.024718, 403224.165859, 278.0], [107, 41, \"E08000009\", \"Trafford\", \"Metropolitan District\", 106.0, 236370.0, 2229.0, 40.6, 0.252967, 0.8863282, 189096.0, 0.068148, 0.095577, 83811.050141, 86.0], [108, 331, \"E06000023\", \"Bristol, City of\", \"Unitary Authority\", 110.0, 463405.0, 4224.0, 32.5, 0.249031, 0.8993207, 46340.5, 0.052348, 0.081025, 148614.948838, 92.0], [109, 60, \"E08000013\", \"St. Helens\", \"Metropolitan District\", 136.0, 180049.0, 1320.0, 43.0, 0.245613, 1.0, 18004.9, 0.043983, 0.059088, 57756.171486, 49.0], [110, 213, \"E10000029\", \"Suffolk\", \"County\", 3801.0, 758556.0, 200.0, 45.1, 0.240858, 0.9640446, 75855.6, 0.047121, 0.066582, 265494.587345, 100.0], [111, 5, \"E06000047\", \"County Durham\", \"Unitary Authority\", 2226.0, 526980.0, 237.0, 43.5, 0.230039, 1.0, 421584.0, 0.0358, 0.05434, 160519.050884, 100.0], [112, 58, \"E08000012\", \"Liverpool\", \"Metropolitan District\", 112.0, 494814.0, 4424.0, 34.7, 0.22949, 1.0, 395851.2, 0.015459, 0.018747, 150853.54687, 197.0], [113, 13, \"E08000037\", \"Gateshead\", \"Metropolitan District\", 142.0, 202508.0, 1423.0, 41.3, 0.228734, 1.0, 162006.4, 0.062309, 0.091922, 71631.267214, 52.0], [114, 264, \"E06000040\", \"Windsor and Maidenhead\", \"Unitary Authority\", 197.0, 150906.0, 768.0, 42.1, 0.228186, 0.9289496, 120724.8, 0.076504, 0.13192, 43124.981522, 48.0], [115, 36, \"E08000004\", \"Oldham\", \"Metropolitan District\", 142.0, 235623.0, 1655.0, 37.1, 0.224569, 0.9508141, 188498.4, 0.044609, 0.068975, 83560.389591, 101.0], [116, 260, \"E06000038\", \"Reading\", \"Unitary Authority\", 40.0, 163203.0, 4040.0, 34.4, 0.223508, 0.9097654, 16320.3, 0.078088, 0.175914, 52330.674446, 28.0], [117, 84, \"E08000034\", \"Kirklees\", \"Metropolitan District\", 409.0, 438727.0, 1074.0, 39.4, 0.222757, 1.0, 350981.6, 0.01585, 0.02636, 125376.683377, 72.0], [118, 377, \"W06000015\", \"Cardiff\", \"Unitary Authority\", 141.0, 364248.0, 2585.0, 33.6, 0.220554, 1.0, 291398.4, 0.057, 0.133874, 121371.348969, 28.0], [119, 117, \"E10000021\", \"Northamptonshire\", \"County\", 2364.0, 747622.0, 316.0, 40.8, 0.2194, 1.0, 598097.6, 0.018759, 0.02806, 228116.600604, 153.0], [120, 247, \"E09000021\", \"Kingston upon Thames\", \"London Borough\", 37.0, 175470.0, 4709.0, 37.2, 0.219343, 0.9548092, 17563.06, 0.036275, 0.066756, 51617.453055, 92.0], [121, 79, \"E08000018\", \"Rotherham\", \"Metropolitan District\", 287.0, 264671.0, 924.0, 42.1, 0.214391, 1.0, 211736.8, 0.040964, 0.065025, 75636.038155, 70.0], [122, 17, \"E08000024\", \"Sunderland\", \"Metropolitan District\", 137.0, 277417.0, 2018.0, 42.2, 0.213968, 1.0, 221933.6, 0.018831, 0.033279, 72659.955582, 86.0], [123, 59, \"E08000014\", \"Sefton\", \"Metropolitan District\", 155.0, 275396.0, 1777.0, 46.4, 0.211401, 1.0, 220316.8, 0.087559, 0.119345, 76983.829438, 57.0], [124, 10, \"E06000003\", \"Redcar and Cleveland\", \"Unitary Authority\", 245.0, 136718.0, 558.0, 45.0, 0.211202, 1.0, 109374.4, 0.062746, 0.111434, 46884.464413, 34.0], [125, 134, \"E06000019\", \"Herefordshire, County of\", \"Unitary Authority\", 2180.0, 192107.0, 88.0, 47.0, 0.209566, 0.8774531, 19210.7, 0.087093, 0.184313, 64022.858056, 25.0], [126, 20, \"E06000009\", \"Blackpool\", \"Unitary Authority\", 35.0, 139305.0, 3997.0, 43.5, 0.208063, 0.754374, 111444.0, 0.163084, 0.359039, 49228.182194, 18.0], [127, 11, \"E06000004\", \"Stockton-on-Tees\", \"Unitary Authority\", 205.0, 197213.0, 962.0, 40.4, 0.207809, 0.9696582, 157770.4, 0.079825, 0.146717, 69897.994763, 43.0], [128, 7, \"E06000001\", \"Hartlepool\", \"Unitary Authority\", 94.0, 93242.0, 997.0, 41.8, 0.204723, 1.0, 74593.6, 0.166287, 0.280636, 29910.196344, 12.0], [129, 33, \"E08000001\", \"Bolton\", \"Metropolitan District\", 140.0, 285372.0, 2041.0, 38.8, 0.203055, 0.8993407, 228297.6, 0.057191, 0.111602, 96949.883725, 47.0], [130, 19, \"E06000008\", \"Blackburn with Darwen\", \"Unitary Authority\", 137.0, 148942.0, 1087.0, 36.3, 0.200968, 1.0, 119153.6, 0.143918, 0.313077, 52129.699201, 14.0], [131, 258, \"E06000042\", \"Milton Keynes\", \"Unitary Authority\", 309.0, 268607.0, 870.0, 37.6, 0.198057, 1.0, 214885.6, 0.022376, 0.040564, 89517.757697, 94.0], [132, 155, \"E08000026\", \"Coventry\", \"Metropolitan District\", 99.0, 366785.0, 3718.0, 32.1, 0.195678, 1.0, 293428.0, 0.023616, 0.043508, 85150.909177, 101.0], [133, 83, \"E08000033\", \"Calderdale\", \"Metropolitan District\", 364.0, 210082.0, 577.0, 42.2, 0.190421, 1.0, 168065.6, 0.063242, 0.125044, 67390.166601, 39.0], [134, 109, \"E10000019\", \"Lincolnshire\", \"County\", 5937.0, 755833.0, 127.0, 45.7, 0.189319, 1.0, 604666.4, 0.030262, 0.059624, 242222.299988, 78.0], [135, 77, \"E08000016\", \"Barnsley\", \"Metropolitan District\", 329.0, 245199.0, 745.0, 42.5, 0.18853, 1.0, 196159.2, 0.032335, 0.059992, 64159.265962, 79.0], [136, 357, \"E10000027\", \"Somerset\", \"County\", 3451.0, 559399.0, 162.0, 47.0, 0.185416, 0.9361319, 447519.2, 0.046505, 0.097274, 191833.856095, 46.0], [137, 171, \"E06000032\", \"Luton\", \"Unitary Authority\", 43.0, 214109.0, 4939.0, 34.2, 0.185356, 1.0, 171287.2, 0.036523, 0.060137, 65302.689892, 69.0], [138, 257, \"E06000035\", \"Medway\", \"Unitary Authority\", 194.0, 277855.0, 1436.0, 38.1, 0.184998, 1.0, 222284.0, 0.031833, 0.059308, 84769.66775, 72.0], [139, 335, \"E06000024\", \"North Somerset\", \"Unitary Authority\", 374.0, 213919.0, 572.0, 45.9, 0.184456, 0.969044, 21391.9, 0.058963, 0.126855, 71292.058354, 36.0], [140, 15, \"E08000022\", \"North Tyneside\", \"Metropolitan District\", 82.0, 205985.0, 2502.0, 43.4, 0.183799, 1.0, 164788.0, 0.027779, 0.051703, 62469.645175, 71.0], [141, 34, \"E08000002\", \"Bury\", \"Metropolitan District\", 99.0, 190108.0, 1911.0, 40.4, 0.17691, 1.0, 152086.4, 0.021063, 0.037378, 49792.329708, 59.0], [142, 6, \"E06000005\", \"Darlington\", \"Unitary Authority\", 197.0, 106566.0, 540.0, 43.1, 0.174191, 1.0, 85252.8, 0.141524, 0.246675, 27628.201886, 16.0], [143, 82, \"E08000032\", \"Bradford\", \"Metropolitan District\", 366.0, 537173.0, 1466.0, 36.2, 0.173727, 1.0, 429738.4, 0.057169, 0.099357, 172314.5153, 63.0], [144, 61, \"E08000015\", \"Wirral\", \"Metropolitan District\", 157.0, 323235.0, 2058.0, 44.3, 0.172038, 1.0, 258588.0, 0.029799, 0.074207, 98626.408719, 56.0], [145, 330, \"E06000058\", \"Bournemouth, Christchurch and Poole\", \"Unitary Authority\", 161.0, 395784.0, 2453.0, 42.4, 0.17165, 0.9752847, 316627.2, 0.038367, 0.101189, 125007.504234, 39.0], [146, 24, \"E06000007\", \"Warrington\", \"Unitary Authority\", 181.0, 209547.0, 1160.0, 42.2, 0.165436, 1.0, 167637.6, 0.057198, 0.137549, 67205.932632, 22.0], [147, 42, \"E08000010\", \"Wigan\", \"Metropolitan District\", 188.0, 326088.0, 1733.0, 42.2, 0.163629, 1.0, 260870.4, 0.049168, 0.118049, 104602.60508, 53.0], [148, 173, \"E06000033\", \"Southend-on-Sea\", \"Unitary Authority\", 42.0, 182463.0, 4370.0, 41.6, 0.143863, 1.0, 145970.4, 0.052066, 0.150216, 47776.413634, 31.0], [149, 67, \"E06000014\", \"York\", \"Unitary Authority\", 272.0, 209893.0, 772.0, 37.6, 0.143216, 1.0, 167914.4, 0.033443, 0.113505, 64034.944605, 30.0], [150, 338, \"E06000030\", \"Swindon\", \"Unitary Authority\", 230.0, 221996.0, 965.0, 39.8, 0.139393, 1.0, 177596.8, 0.064265, 0.174508, 75579.963083, 28.0], [151, 371, \"W06000009\", \"Pembrokeshire\", \"Unitary Authority\", 1619.0, 125055.0, 77.0, 48.0, 0.132886, 9.306109e-11, 12505.5, 0.078037, 0.414301, 37546.456791, 2.0], [152, 172, \"E06000031\", \"Peterborough\", \"Unitary Authority\", 343.0, 201041.0, 585.0, 36.5, 0.131098, 1.0, 160832.8, 0.036571, 0.113226, 68934.47741, 24.0], [153, 66, \"E06000013\", \"North Lincolnshire\", \"Unitary Authority\", 846.0, 172005.0, 203.0, 44.1, 0.130766, 1.0, 137604.0, 0.091008, 0.295068, 55175.809214, 15.0], [154, 256, \"E06000046\", \"Isle of Wight\", \"Unitary Authority\", 380.0, 141538.0, 373.0, 50.1, 0.097806, 1.0, 113230.4, 0.076047, 0.341268, 46283.782362, 11.0], [155, 64, \"E06000010\", \"Kingston upon Hull, City of\", \"Unitary Authority\", 71.0, 260645.0, 3648.0, 35.6, 0.080775, 1.0, 208516.0, 0.077673, 0.431404, 87323.207144, 11.0]]};\n",
       "        dt_args = eval_functions(dt_args);\n",
       "        table = $('#feee9d71-e3c6-47d6-9f36-731e8f8b1002').DataTable(dt_args);\n",
       "    });\n",
       "})\n",
       "</script>\n",
       "</div>\n"
      ],
      "text/plain": [
       "     Unnamed: 0       Code                         Name               Geog  \\\n",
       "0           137  E06000020           Telford and Wrekin  Unitary Authority   \n",
       "1           380  W06000018                   Caerphilly  Unitary Authority   \n",
       "2           226  E09000020       Kensington and Chelsea     London Borough   \n",
       "3           235  E09000003                       Barnet     London Borough   \n",
       "4           373  W06000011                      Swansea  Unitary Authority   \n",
       "..          ...        ...                          ...                ...   \n",
       "151         371  W06000009                Pembrokeshire  Unitary Authority   \n",
       "152         172  E06000031                 Peterborough  Unitary Authority   \n",
       "153          66  E06000013           North Lincolnshire  Unitary Authority   \n",
       "154         256  E06000046                Isle of Wight  Unitary Authority   \n",
       "155          64  E06000010  Kingston upon Hull, City of  Unitary Authority   \n",
       "\n",
       "       Area  Population  PopDensity  MedAge         r             p  \\\n",
       "0     290.0    177799.0       612.0    39.4  2.111644  3.064196e-01   \n",
       "1     277.0    181019.0       653.0    41.6  1.894286  1.213053e-01   \n",
       "2      12.0    156197.0     12884.0    39.4  1.688543  3.474143e-01   \n",
       "3      87.0    392140.0      4520.0    37.0  1.544515  3.543301e-01   \n",
       "4     380.0    246466.0       649.0    39.6  1.542405  3.516786e-01   \n",
       "..      ...         ...         ...     ...       ...           ...   \n",
       "151  1619.0    125055.0        77.0    48.0  0.132886  9.306109e-11   \n",
       "152   343.0    201041.0       585.0    36.5  0.131098  1.000000e+00   \n",
       "153   846.0    172005.0       203.0    44.1  0.130766  1.000000e+00   \n",
       "154   380.0    141538.0       373.0    50.1  0.097806  1.000000e+00   \n",
       "155    71.0    260645.0      3648.0    35.6  0.080775  1.000000e+00   \n",
       "\n",
       "                 K      r_se      p_se           K_se  LatestTotalCases  \n",
       "0    142239.199980  1.014728  0.209755   63462.025342              40.0  \n",
       "1     18101.900001  0.851043  0.241034   47380.359104              23.0  \n",
       "2    124957.600000  0.557368  0.081189   44629.013289             170.0  \n",
       "3     39214.000000  0.446951  0.068896  139061.670498             124.0  \n",
       "4     24646.600000  0.905777  0.283197   86262.999624              19.0  \n",
       "..             ...       ...       ...            ...               ...  \n",
       "151   12505.500011  0.078037  0.414301   37546.456791               2.0  \n",
       "152  160832.799984  0.036571  0.113226   68934.477410              24.0  \n",
       "153  137604.000000  0.091008  0.295068   55175.809214              15.0  \n",
       "154  113230.400000  0.076047  0.341268   46283.782362              11.0  \n",
       "155  208515.999998  0.077673  0.431404   87323.207144              11.0  \n",
       "\n",
       "[156 rows x 15 columns]"
      ]
     },
     "execution_count": 3,
     "metadata": {},
     "output_type": "execute_result"
    }
   ],
   "source": [
    "# View table of fitted parameters (and standard errors)\n",
    "\n",
    "UKcases.popdata.sort_values(by=['r', 'p'],ascending=False)"
   ]
  },
  {
   "cell_type": "code",
   "execution_count": 4,
   "metadata": {},
   "outputs": [
    {
     "data": {
      "application/vnd.plotly.v1+json": {
       "config": {
        "plotlyServerURL": "https://plot.ly"
       },
       "data": [
        {
         "error_x": {
          "array": [
           1.0147275023883036,
           0.8510426560324499,
           0.5573675536004324,
           0.44695075117725536,
           0.905776707103447,
           0.3770568558215384,
           0.4397268424214012,
           0.1957173959711125,
           0.3461850586054372,
           0.13115927640324873,
           0.2133824810280632,
           0.35333653140018306,
           0.2638358864429657,
           0.31628270734737945,
           0.1109348857231158,
           0.4715161603929584,
           0.11037006888523516,
           0.13594966756383414,
           0.1859707179257996,
           0.3028957799590254,
           0.18198176395731452,
           0.06573280253568936,
           0.14181054704982327,
           0.11399268431564395,
           0.13409514632957728,
           0.2580881670897521,
           0.13175166480725772,
           0.1695754805213729,
           0.4123878281465084,
           0.2140361709462256,
           0.08429902008353657,
           0.12396803594302408,
           0.09765905825393613,
           0.07291150923177743,
           0.19782168404176206,
           0.16617738939640406,
           0.0785786064954314,
           0.2426986324479941,
           0.3002893298872941,
           0.08696475380825029,
           0.28760331325598393,
           0.26146792520086715,
           0.113403363504934,
           0.1661303503145189,
           0.0758217131494958,
           0.10609402834378616,
           0.14141895326066165,
           0.10659710721972517,
           0.0957454498826988,
           0.14713468185264691,
           0.07198177426990453,
           0.09393580185492943,
           0.11929393379333715,
           0.34100263965454,
           0.06251940742440606,
           0.2355924824852486,
           0.07562550899034749,
           0.0470355024695058,
           0.2891265501034216,
           0.04438163918996938,
           0.05711279834083389,
           0.10479197800861934,
           0.04896458233155568,
           0.04665700922218119,
           0.0810289196304455,
           0.05326077930496041,
           0.03698158916906018,
           0.14467601631783686,
           0.0444847313009189,
           0.14210255719413892,
           0.07454906641012582,
           0.14522863006895434,
           0.28393783964339925,
           0.05156944063618134,
           0.09148139193387723,
           0.0680578944108805,
           0.0847351976767975,
           0.0801485194916024,
           0.07488962042092044,
           0.10539833971845898,
           0.04829417865752979,
           0.07460526309499503,
           0.05256046254178172,
           0.0714094331183909,
           0.033149727941226025,
           0.07308201971039191,
           0.03043746580295005,
           0.17981492632460572,
           0.05593937416698906,
           0.0896221387405575,
           0.0598427459904561,
           0.03385771333685453,
           0.04880848125154223,
           0.033547323363209404,
           0.1301632929728077,
           0.030953575419227573,
           0.0699721583953207,
           0.0973760761514546,
           0.08293369384730492,
           0.044845115962131234,
           0.08174534066676005,
           0.06754476943077077,
           0.041698401018387,
           0.08785959788997705,
           0.03630692796534064,
           0.03165155110833128,
           0.0195879937268162,
           0.06814797592289068,
           0.052347782588694464,
           0.04398332902273313,
           0.047120636540881534,
           0.035799961441921734,
           0.015458686072978359,
           0.06230892611571561,
           0.07650446563480875,
           0.04460894149068033,
           0.07808783414116068,
           0.015850454697844518,
           0.0570001083076257,
           0.01875924146756671,
           0.03627492890293761,
           0.04096389414320239,
           0.01883064969969131,
           0.08755850691245973,
           0.06274561192344802,
           0.08709321286472176,
           0.16308363725433647,
           0.07982454868671335,
           0.16628674389191167,
           0.057190504733929025,
           0.14391829204535686,
           0.022376339405082785,
           0.023616385728056456,
           0.06324230571517116,
           0.03026211549189465,
           0.032334883744314716,
           0.04650452052204102,
           0.03652274609354759,
           0.03183250125320631,
           0.058962523427618874,
           0.027779113030356038,
           0.021062557216997103,
           0.14152361463311405,
           0.05716925844615276,
           0.02979852343924265,
           0.03836695328882106,
           0.05719774088850078,
           0.049167853702541536,
           0.052065782739973886,
           0.033442952377401185,
           0.064264984773088,
           0.07803652227318543,
           0.036570713565431776,
           0.09100777220433544,
           0.07604705834863887,
           0.0776731953999437
          ],
          "arrayminus": [
           1.0147275023883036,
           0.8510426560324499,
           0.5573675536004324,
           0.44695075117725536,
           0.905776707103447,
           0.3770568558215384,
           0.4397268424214012,
           0.1957173959711125,
           0.3461850586054372,
           0.13115927640324873,
           0.2133824810280632,
           0.35333653140018306,
           0.2638358864429657,
           0.31628270734737945,
           0.1109348857231158,
           0.4715161603929584,
           0.11037006888523516,
           0.13594966756383414,
           0.1859707179257996,
           0.3028957799590254,
           0.18198176395731452,
           0.06573280253568936,
           0.14181054704982327,
           0.11399268431564395,
           0.13409514632957728,
           0.2580881670897521,
           0.13175166480725772,
           0.1695754805213729,
           0.4123878281465084,
           0.2140361709462256,
           0.08429902008353657,
           0.12396803594302408,
           0.09765905825393613,
           0.07291150923177743,
           0.19782168404176206,
           0.16617738939640406,
           0.0785786064954314,
           0.2426986324479941,
           0.3002893298872941,
           0.08696475380825029,
           0.28760331325598393,
           0.26146792520086715,
           0.113403363504934,
           0.1661303503145189,
           0.0758217131494958,
           0.10609402834378616,
           0.14141895326066165,
           0.10659710721972517,
           0.0957454498826988,
           0.14713468185264691,
           0.07198177426990453,
           0.09393580185492943,
           0.11929393379333715,
           0.34100263965454,
           0.06251940742440606,
           0.2355924824852486,
           0.07562550899034749,
           0.0470355024695058,
           0.2891265501034216,
           0.04438163918996938,
           0.05711279834083389,
           0.10479197800861934,
           0.04896458233155568,
           0.04665700922218119,
           0.0810289196304455,
           0.05326077930496041,
           0.03698158916906018,
           0.14467601631783686,
           0.0444847313009189,
           0.14210255719413892,
           0.07454906641012582,
           0.14522863006895434,
           0.28393783964339925,
           0.05156944063618134,
           0.09148139193387723,
           0.0680578944108805,
           0.0847351976767975,
           0.0801485194916024,
           0.07488962042092044,
           0.10539833971845898,
           0.04829417865752979,
           0.07460526309499503,
           0.05256046254178172,
           0.0714094331183909,
           0.033149727941226025,
           0.07308201971039191,
           0.03043746580295005,
           0.17981492632460572,
           0.05593937416698906,
           0.0896221387405575,
           0.0598427459904561,
           0.03385771333685453,
           0.04880848125154223,
           0.033547323363209404,
           0.1301632929728077,
           0.030953575419227573,
           0.0699721583953207,
           0.0973760761514546,
           0.08293369384730492,
           0.044845115962131234,
           0.08174534066676005,
           0.06754476943077077,
           0.041698401018387,
           0.08785959788997705,
           0.03630692796534064,
           0.03165155110833128,
           0.0195879937268162,
           0.06814797592289068,
           0.052347782588694464,
           0.04398332902273313,
           0.047120636540881534,
           0.035799961441921734,
           0.015458686072978359,
           0.06230892611571561,
           0.07650446563480875,
           0.04460894149068033,
           0.07808783414116068,
           0.015850454697844518,
           0.0570001083076257,
           0.01875924146756671,
           0.03627492890293761,
           0.04096389414320239,
           0.01883064969969131,
           0.08755850691245973,
           0.06274561192344802,
           0.08709321286472176,
           0.16308363725433647,
           0.07982454868671335,
           0.16628674389191167,
           0.057190504733929025,
           0.14391829204535686,
           0.022376339405082785,
           0.023616385728056456,
           0.06324230571517116,
           0.03026211549189465,
           0.032334883744314716,
           0.04650452052204102,
           0.03652274609354759,
           0.03183250125320631,
           0.058962523427618874,
           0.027779113030356038,
           0.021062557216997103,
           0.14152361463311405,
           0.05716925844615276,
           0.02979852343924265,
           0.03836695328882106,
           0.05719774088850078,
           0.049167853702541536,
           0.052065782739973886,
           0.033442952377401185,
           0.064264984773088,
           0.07803652227318543,
           0.036570713565431776,
           0.09100777220433544,
           0.07604705834863887,
           0.0776731953999437
          ],
          "color": "rgba(147,112,219,0.1)",
          "symmetric": false,
          "type": "data",
          "visible": true
         },
         "error_y": {
          "array": [
           0.2097548580716595,
           0.24103396297203344,
           0.08118890673578809,
           0.06889595220330791,
           0.2831971172705945,
           0.0601625026108993,
           0.2341280804971606,
           0.05417329492270243,
           0.08806375299622915,
           0.03585951619960978,
           0.07182538028658687,
           0.29997044208352913,
           0.09531792968752538,
           0.31918829633220946,
           0.03693810548563085,
           0.3320256196699756,
           0.03299717131968407,
           0.04656688772900335,
           0.06896298042470039,
           0.12817356690246293,
           0.06794699090788278,
           0.021965264911940452,
           0.05987165114316776,
           0.046382408580961834,
           0.060269979500019874,
           0.1065521255630206,
           0.04628403255653718,
           0.08018488894893289,
           0.3128237671032218,
           0.08606006678764995,
           0.03199322031088648,
           0.060428561651588227,
           0.049211954901290496,
           0.03305555958024788,
           0.13540865040209002,
           0.14870890012129226,
           0.04294863154735321,
           0.18054559995946928,
           0.21584168717480626,
           0.06051889575500885,
           0.17839173445900872,
           0.1785477876224803,
           0.06826953485141528,
           0.12253281223236,
           0.04288663855662965,
           0.061362868926852124,
           0.12088176254883885,
           0.06636698333457038,
           0.06050848069621891,
           0.10764505838654044,
           0.0431792468311616,
           0.06019517447809373,
           0.08958144474865977,
           0.23764444820527306,
           0.041362189586436136,
           0.2062974926553757,
           0.050495148105835226,
           0.03002195602436442,
           0.22711050598264126,
           0.028311399473009487,
           0.04573630656747299,
           0.09029400297181096,
           0.03561622154741228,
           0.033393232747472475,
           0.06803928195238021,
           0.04690608434509514,
           0.029211871968740588,
           0.16088523283351927,
           0.03653783415541125,
           3.0792035587978717e-12,
           0.0641369338293125,
           0.15786766380324005,
           0.2864702655312094,
           0.05191042412581593,
           0.05952747739172082,
           0.07556854209296804,
           0.08261063862131894,
           0.09012132476252292,
           0.0865246936372787,
           0.14136766825755756,
           0.05718727646769255,
           0.08759271862257514,
           0.056919800705255826,
           0.07892703199655915,
           0.043364776128093266,
           0.08030247642470026,
           0.032034054341097684,
           0.2589588295564149,
           0.07936125397461945,
           0.07853457799103458,
           0.06858983781796803,
           0.03700532023041357,
           0.062077279680149415,
           0.03726521762279507,
           0.1719483252738609,
           0.03902210801023905,
           0.09493515362122644,
           0.12065914264595512,
           0.09179651414545044,
           0.02460900023910395,
           0.10815033802649764,
           0.05095916709065562,
           0.052895663916881185,
           0.11674390915018322,
           0.04765696268391472,
           0.044183011650801636,
           0.012210058298012028,
           0.0955767539092496,
           0.08102544178120691,
           5.340172748447003e-14,
           0.035955387637716996,
           0,
           0,
           7.771561172376096e-16,
           0.07105041723398842,
           0.0491859282415148,
           0.09023464147854787,
           0,
           0,
           7.771561172376096e-16,
           0.04519080637306683,
           0,
           0,
           0,
           0,
           0.12254686923798852,
           0.2456259543018684,
           0.03034175308207998,
           9.71445146547012e-14,
           0.10065929540742213,
           0,
           0,
           0,
           6.890044090823721e-13,
           0,
           0,
           0.0638680639354322,
           0,
           0,
           0.03095596007317003,
           0,
           0,
           1.354472090042691e-14,
           0,
           0,
           0.024715328310565554,
           0,
           0,
           0,
           6.753464454334335e-11,
           1.2155831896620839e-12,
           0.41430076412513067,
           2.7555735471196385e-13,
           0,
           4.440892098500626e-16,
           2.7200464103316335e-14
          ],
          "arrayminus": [
           0.2097548580716595,
           0.1213053348382421,
           0.08118890673578809,
           0.06889595220330791,
           0.2831971172705945,
           0.0601625026108993,
           0.20200201327476705,
           0.05417329492270243,
           0.08806375299622915,
           0.03585951619960978,
           0.07182538028658687,
           9.92070638253009e-31,
           0.09531792968752538,
           6.246810103215091e-14,
           0.03693810548563085,
           0.09778173370130057,
           0.03299717131968407,
           0.04656688772900335,
           0.06896298042470039,
           0.12817356690246293,
           0.06794699090788278,
           0.021965264911940452,
           0.05987165114316776,
           0.046382408580961834,
           0.060269979500019874,
           0.1065521255630206,
           0.04628403255653718,
           0.08018488894893289,
           0.2629038172338447,
           0.08606006678764995,
           0.03199322031088648,
           0.060428561651588227,
           0.049211954901290496,
           0.03305555958024788,
           0.13540865040209002,
           0.14870890012129226,
           0.04294863154735321,
           0.18054559995946928,
           0.21584168717480626,
           0.06051889575500885,
           0.17839173445900872,
           0.1785477876224803,
           0.06826953485141528,
           0.12253281223236,
           0.04288663855662965,
           0.061362868926852124,
           0.12088176254883885,
           0.06636698333457038,
           0.06050848069621891,
           0.10764505838654044,
           0.0431792468311616,
           0.06019517447809373,
           0.08958144474865977,
           0.23764444820527306,
           0.041362189586436136,
           0.2062974926553757,
           0.050495148105835226,
           0.03002195602436442,
           0.2570846710547339,
           0.028311399473009487,
           0.04573630656747299,
           0.09029400297181096,
           0.03561622154741228,
           0.033393232747472475,
           0.06803928195238021,
           0.04690608434509514,
           0.029211871968740588,
           0.16088523283351927,
           0.03653783415541125,
           0.1536313393720526,
           0.0641369338293125,
           0.15786766380324005,
           0.2864702655312094,
           0.05191042412581593,
           0.08681499990397616,
           0.07556854209296804,
           0.08261063862131894,
           0.09012132476252292,
           0.0865246936372787,
           0.14136766825755756,
           0.05718727646769255,
           0.08759271862257514,
           0.056919800705255826,
           0.09216830684593694,
           0.043364776128093266,
           0.08030247642470026,
           0.032034054341097684,
           0.2589588295564149,
           0.07936125397461945,
           0.10203632453086883,
           0.06858983781796803,
           0.03700532023041357,
           0.062077279680149415,
           0.03726521762279507,
           0.1719483252738609,
           0.03902210801023905,
           0.09493515362122644,
           0.14481765194022814,
           0.09179651414545044,
           0.06766251768433147,
           0.10815033802649764,
           0.10349018210588228,
           0.052895663916881185,
           0.11674390915018322,
           0.04765696268391472,
           0.044183011650801636,
           0.0247177867288576,
           0.0955767539092496,
           0.08102544178120691,
           0.05908751399537498,
           0.06658230336955613,
           0.054339702681954066,
           0.018747447183653627,
           0.09192209767793584,
           0.13192002915310586,
           0.06897484945222346,
           0.17591387413115106,
           0.02636037363828083,
           0.1338736980799564,
           0.02805985770737966,
           0.066756478102486,
           0.06502478561193444,
           0.0332787892834064,
           0.11934524408640268,
           0.11143446237103533,
           0.18431278640520016,
           0.3590389538832079,
           0.1467173063831856,
           0.2806361997067998,
           0.1116022560928324,
           0.3130765620659179,
           0.040563642582336704,
           0.04350825387178947,
           0.12504370358050335,
           0.05962426043805729,
           0.05999178733287629,
           0.09727370027573376,
           0.06013739924270445,
           0.05930768136021576,
           0.1268550628715955,
           0.051703123998899835,
           0.03737829751132943,
           0.246674607467225,
           0.09935678014535446,
           0.07420652861512132,
           0.10118862841292277,
           0.1375487580122699,
           0.11804926905540646,
           0.1502161616661698,
           0.11350494403043733,
           0.17450798959148447,
           9.306109063052935e-11,
           0.113225773800681,
           0.2950680011772861,
           0.34126760901463704,
           0.431404207693998
          ],
          "color": "rgba(147,112,219,0.1)",
          "symmetric": false,
          "type": "data",
          "visible": true
         },
         "hovertemplate": "<br><b>%{text}</b><br>Growth rate (r): %{x:.2f}<br>Growth dampening (p): %{y:.2f}",
         "line": {
          "color": "rgba(255, 153, 51, 1.0)",
          "dash": "solid",
          "shape": "linear",
          "width": 1.3
         },
         "marker": {
          "size": [
           11.06663836234181,
           9.406482647787449,
           15.407395311150786,
           14.460844696815112,
           8.83331693749932,
           16.454390800471963,
           10.666044184468241,
           16.564382753586738,
           14.602603351366746,
           17.724248814506794,
           15.051839510444772,
           6.238324625039507,
           13.597798479459769,
           6.238324625039507,
           17.7079000002041,
           8.12415060330663,
           18.63180023107396,
           17.238609571620458,
           14.671047384665261,
           12.614077858172898,
           14.909439898728003,
           18.17736958674539,
           15.299599283472595,
           15.661067475234972,
           15.07164156253883,
           12.829998357048165,
           17.24817895772476,
           13.933172697424117,
           8.83331693749932,
           14.532561259375774,
           17.649967165464837,
           15.051839510444772,
           15.494357921770543,
           16.93634069292971,
           12.332621592519935,
           10.912758479179157,
           17.151083104218664,
           10.489522684399441,
           10.489522684399441,
           15.317836421701742,
           10.990684938388938,
           11.419987469310959,
           14.234796385089751,
           12.658523115528322,
           16.24830120661326,
           14.950819865125009,
           12.2830336866663,
           15.442483430440358,
           15.644807272826958,
           12.523161809686911,
           15.725241045178928,
           15.187785099080902,
           13.84536155052378,
           10.489522684399441,
           16.540286238494947,
           11.140716200112923,
           15.772486116083344,
           17.48683685283062,
           10.30196161345544,
           19.078721606017133,
           15.81899867569124,
           14.04639368137266,
           17.478000322141348,
           16.872052518562015,
           14.824927267827912,
           16.125835223052498,
           17.6415989592021,
           11.352568901754783,
           15.83434397769155,
           8.987196820661973,
           14.312053873396994,
           11.419987469310959,
           9.406482647787449,
           14.950819865125009,
           13.397724355963751,
           14.312053873396994,
           13.785359550403768,
           12.181329031639258,
           12.381403155135274,
           11.419987469310959,
           14.155496613885283,
           14.07404364668743,
           15.24421309495339,
           10.579081573848484,
           14.128590603937003,
           14.07404364668743,
           17.121330794246624,
           9.13356731317027,
           12.871378323445173,
           12.381403155135274,
           14.07404364668743,
           17.07107836297218,
           14.182163456137022,
           16.635532333438686,
           10.666044184468241,
           14.991636821292344,
           13.070126480068776,
           11.140716200112923,
           13.070126480068776,
           10.579081573848484,
           12.992200020858993,
           11.675460894331879,
           14.737964657208156,
           12.702319513791778,
           14.579437213085015,
           15.677240021139605,
           16.88286334107191,
           13.363041888760522,
           13.565365731147121,
           11.675460894331879,
           13.815510557964275,
           13.815510557964275,
           15.849611186213966,
           11.853731155744283,
           11.613603032723674,
           13.84536155052378,
           9.996613530525611,
           12.829998357048165,
           9.996613530525611,
           15.091313764177306,
           13.565365731147121,
           12.745485726148079,
           13.363041888760522,
           12.129153803503652,
           10.579081573848484,
           9.656627474604601,
           8.671115273688493,
           11.283600347080688,
           7.4547199493640015,
           11.550442805130174,
           7.917171988845775,
           13.629884346810012,
           13.84536155052378,
           10.990684938388938,
           13.070126480068776,
           13.108343557401064,
           11.485924189467285,
           12.702319513791778,
           12.829998357048165,
           10.75055681536833,
           12.788039631123947,
           12.23261233171716,
           8.317766166719343,
           12.429404179174597,
           12.076055072205449,
           10.990684938388938,
           9.273127360074948,
           11.910875740656365,
           10.30196161345544,
           10.203592144986466,
           9.996613530525611,
           2.0794415416798357,
           9.534161491043838,
           8.12415060330663,
           7.193685818395112,
           7.193685818395112
          ],
          "symbol": "circle"
         },
         "mode": "markers",
         "name": "p",
         "text": [
          "Telford and Wrekin (latest total cases: 40)",
          "Caerphilly (latest total cases: 23)",
          "Kensington and Chelsea (latest total cases: 170)",
          "Barnet (latest total cases: 124)",
          "Swansea (latest total cases: 19)",
          "Westminster (latest total cases: 241)",
          "East Riding of Yorkshire (latest total cases: 35)",
          "Newham (latest total cases: 250)",
          "Bexley (latest total cases: 130)",
          "Southwark (latest total cases: 368)",
          "Haringey (latest total cases: 151)",
          "Powys (latest total cases: 8)",
          "Stockport (latest total cases: 93)",
          "Carmarthenshire (latest total cases: 8)",
          "Lambeth (latest total cases: 366)",
          "Neath Port Talbot (latest total cases: 15)",
          "Hampshire (latest total cases: 498)",
          "Croydon (latest total cases: 313)",
          "Norfolk (latest total cases: 133)",
          "Northumberland (latest total cases: 67)",
          "Sandwell (latest total cases: 144)",
          "Sheffield (latest total cases: 428)",
          "Enfield (latest total cases: 164)",
          "Greenwich (latest total cases: 185)",
          "Islington (latest total cases: 152)",
          "Portsmouth (latest total cases: 72)",
          "Wandsworth (latest total cases: 314)",
          "Salford (latest total cases: 104)",
          "Halton (latest total cases: 19)",
          "Camden (latest total cases: 127)",
          "Brent (latest total cases: 359)",
          "Walsall (latest total cases: 151)",
          "Wolverhampton (latest total cases: 175)",
          "Harrow (latest total cases: 283)",
          "Cheshire East (latest total cases: 61)",
          "Newport (latest total cases: 38)",
          "Ealing (latest total cases: 304)",
          "Middlesbrough (latest total cases: 33)",
          "Stoke-on-Trent (latest total cases: 33)",
          "Oxfordshire (latest total cases: 165)",
          "Bath and North East Somerset (latest total cases: 39)",
          "East Sussex (latest total cases: 45)",
          "Barking and Dagenham (latest total cases: 115)",
          "Southampton (latest total cases: 68)",
          "Derbyshire (latest total cases: 225)",
          "Worcestershire (latest total cases: 146)",
          "Central Bedfordshire (latest total cases: 60)",
          "Merton (latest total cases: 172)",
          "Hounslow (latest total cases: 184)",
          "Leicester (latest total cases: 65)",
          "Hackney (latest total cases: 189)",
          "Hammersmith and Fulham (latest total cases: 158)",
          "Devon (latest total cases: 101)",
          "Brighton and Hove (latest total cases: 33)",
          "Lewisham (latest total cases: 248)",
          "Thurrock (latest total cases: 41)",
          "Hillingdon (latest total cases: 192)",
          "Cumbria (latest total cases: 340)",
          "South Tyneside (latest total cases: 31)",
          "Birmingham (latest total cases: 578)",
          "Tower Hamlets (latest total cases: 195)",
          "North Yorkshire (latest total cases: 108)",
          "Hertfordshire (latest total cases: 339)",
          "Bromley (latest total cases: 277)",
          "Buckinghamshire (latest total cases: 140)",
          "Nottinghamshire (latest total cases: 216)",
          "Surrey (latest total cases: 358)",
          "Plymouth (latest total cases: 44)",
          "Waltham Forest (latest total cases: 196)",
          "North East Lincolnshire (latest total cases: 20)",
          "Havering (latest total cases: 118)",
          "Dorset (latest total cases: 45)",
          "Wokingham (latest total cases: 23)",
          "Leicestershire (latest total cases: 146)",
          "Solihull (latest total cases: 87)",
          "Derby (latest total cases: 118)",
          "Nottingham (latest total cases: 99)",
          "South Gloucestershire (latest total cases: 58)",
          "Tameside (latest total cases: 62)",
          "Cheshire West and Chester (latest total cases: 45)",
          "Richmond upon Thames (latest total cases: 112)",
          "Cambridgeshire (latest total cases: 109)",
          "Redbridge (latest total cases: 161)",
          "Bedford (latest total cases: 34)",
          "Sutton (latest total cases: 111)",
          "Manchester (latest total cases: 109)",
          "Essex (latest total cases: 301)",
          "Bracknell Forest (latest total cases: 21)",
          "Slough (latest total cases: 73)",
          "Wakefield (latest total cases: 62)",
          "Gloucestershire (latest total cases: 109)",
          "Kent (latest total cases: 296)",
          "West Sussex (latest total cases: 113)",
          "Staffordshire (latest total cases: 256)",
          "Torbay (latest total cases: 35)",
          "Warwickshire (latest total cases: 148)",
          "Shropshire (latest total cases: 78)",
          "West Berkshire (latest total cases: 41)",
          "Rochdale (latest total cases: 78)",
          "Knowsley (latest total cases: 34)",
          "Wiltshire (latest total cases: 76)",
          "Doncaster (latest total cases: 49)",
          "Dudley (latest total cases: 136)",
          "Cornwall (latest total cases: 69)",
          "Leeds (latest total cases: 129)",
          "Newcastle upon Tyne (latest total cases: 186)",
          "Lancashire (latest total cases: 278)",
          "Trafford (latest total cases: 86)",
          "Bristol, City of (latest total cases: 92)",
          "St. Helens (latest total cases: 49)",
          "Suffolk (latest total cases: 100)",
          "County Durham (latest total cases: 100)",
          "Liverpool (latest total cases: 197)",
          "Gateshead (latest total cases: 52)",
          "Windsor and Maidenhead (latest total cases: 48)",
          "Oldham (latest total cases: 101)",
          "Reading (latest total cases: 28)",
          "Kirklees (latest total cases: 72)",
          "Cardiff (latest total cases: 28)",
          "Northamptonshire (latest total cases: 153)",
          "Kingston upon Thames (latest total cases: 92)",
          "Rotherham (latest total cases: 70)",
          "Sunderland (latest total cases: 86)",
          "Sefton (latest total cases: 57)",
          "Redcar and Cleveland (latest total cases: 34)",
          "Herefordshire, County of (latest total cases: 25)",
          "Blackpool (latest total cases: 18)",
          "Stockton-on-Tees (latest total cases: 43)",
          "Hartlepool (latest total cases: 12)",
          "Bolton (latest total cases: 47)",
          "Blackburn with Darwen (latest total cases: 14)",
          "Milton Keynes (latest total cases: 94)",
          "Coventry (latest total cases: 101)",
          "Calderdale (latest total cases: 39)",
          "Lincolnshire (latest total cases: 78)",
          "Barnsley (latest total cases: 79)",
          "Somerset (latest total cases: 46)",
          "Luton (latest total cases: 69)",
          "Medway (latest total cases: 72)",
          "North Somerset (latest total cases: 36)",
          "North Tyneside (latest total cases: 71)",
          "Bury (latest total cases: 59)",
          "Darlington (latest total cases: 16)",
          "Bradford (latest total cases: 63)",
          "Wirral (latest total cases: 56)",
          "Bournemouth, Christchurch and Poole (latest total cases: 39)",
          "Warrington (latest total cases: 22)",
          "Wigan (latest total cases: 53)",
          "Southend-on-Sea (latest total cases: 31)",
          "York (latest total cases: 30)",
          "Swindon (latest total cases: 28)",
          "Pembrokeshire (latest total cases: 2)",
          "Peterborough (latest total cases: 24)",
          "North Lincolnshire (latest total cases: 15)",
          "Isle of Wight (latest total cases: 11)",
          "Kingston upon Hull, City of (latest total cases: 11)"
         ],
         "type": "scatter",
         "x": [
          2.111644229563135,
          1.894285688209976,
          1.6885429875839348,
          1.5445148851700432,
          1.5424047718763123,
          1.3598927458866463,
          1.0808533421020776,
          1.0072689454909105,
          0.9993738694890568,
          0.911528274666556,
          0.8764760961077201,
          0.8720794891846743,
          0.8523352227394027,
          0.8293560352759995,
          0.8029700802104844,
          0.8017456756928937,
          0.7945024831730079,
          0.7917521749091236,
          0.7912118536966241,
          0.7854182355311157,
          0.7852005269271591,
          0.7730500085806324,
          0.7715961927606725,
          0.7689053212127837,
          0.7619666633207103,
          0.7554740171595721,
          0.7550984502925643,
          0.7284162288513327,
          0.713525151615067,
          0.70767528787236,
          0.6990726798848828,
          0.6627425707757477,
          0.6328945067776467,
          0.611656177754256,
          0.5927094324933979,
          0.5417654253522821,
          0.5389155095061152,
          0.5355724780005205,
          0.530417018075781,
          0.5294777311303827,
          0.5224335831567432,
          0.5196632361894918,
          0.5189749266152278,
          0.5149245119059188,
          0.5122298875648345,
          0.5046389190830685,
          0.5014451527965224,
          0.4976510129674453,
          0.4774055305325598,
          0.4731395954096192,
          0.4677536211365185,
          0.4576464621457207,
          0.4571751239617622,
          0.4536396936097565,
          0.4488603963116822,
          0.44249759776872205,
          0.4424778010950552,
          0.44110129220865496,
          0.4395812402845104,
          0.4385951246691681,
          0.4338324509595255,
          0.4202495132826052,
          0.4189312740589963,
          0.41222334636143226,
          0.40395821158228135,
          0.3850350210583832,
          0.3816656119172449,
          0.3814873739960011,
          0.3784989899263627,
          0.3769070514406155,
          0.3765000192809122,
          0.3764173635747605,
          0.3737908414317414,
          0.3717994266514307,
          0.3702965939179253,
          0.3669364235483799,
          0.3509275415861043,
          0.3478571309094651,
          0.3467111935430368,
          0.34161383646981297,
          0.3363749809831729,
          0.3292652037874805,
          0.32147200775231,
          0.3212433177273599,
          0.3136306589051265,
          0.31293219143211354,
          0.3105376185343203,
          0.3096678479324072,
          0.30960508262123465,
          0.30716749234618423,
          0.3054603915641452,
          0.3008416892218482,
          0.30009055063525736,
          0.2961225346190701,
          0.29561409888035184,
          0.29138548766055256,
          0.2860145816650849,
          0.28550135555205824,
          0.2847788070063334,
          0.2824940840985551,
          0.2742926962823768,
          0.27373073802521314,
          0.2731004913464497,
          0.2713763499429655,
          0.2674679647978893,
          0.2585455927584662,
          0.2537353858564567,
          0.25296713479543714,
          0.2490311138953337,
          0.2456132546761137,
          0.2408583594565217,
          0.23003946878962825,
          0.2294898636398761,
          0.22873417762477144,
          0.22818643559182944,
          0.22456872808000686,
          0.22350750082743184,
          0.2227567452101573,
          0.22055449090779453,
          0.21940026262048304,
          0.21934291520590185,
          0.2143908086348751,
          0.2139678366219557,
          0.21140081104603375,
          0.21120221389294466,
          0.2095662060693438,
          0.2080633786390692,
          0.20780936022975816,
          0.20472276475268888,
          0.20305505451884154,
          0.20096812977478312,
          0.19805715357278755,
          0.19567847167317845,
          0.1904209379649577,
          0.18931906593936204,
          0.1885299829377632,
          0.1854157787655573,
          0.1853561269606834,
          0.18499816137858047,
          0.18445641800773568,
          0.18379916432770474,
          0.17691000937125745,
          0.17419091497217853,
          0.17372693667196354,
          0.1720382639308413,
          0.17165047094739472,
          0.16543604882941834,
          0.16362890707644154,
          0.14386276244671267,
          0.1432158740245722,
          0.1393933925819566,
          0.13288563141162846,
          0.13109848652708062,
          0.13076583105757494,
          0.0978059310908481,
          0.08077518356469847
         ],
         "y": [
          0.3064195891734076,
          0.1213053348382421,
          0.34741432001605965,
          0.3543301136428541,
          0.3516786380622455,
          0.4838129147373194,
          0.20200201327476705,
          0.6650580342713268,
          0.560876009952097,
          0.6415748216178634,
          0.5764173547871401,
          9.92070638253009e-31,
          0.5498656622548557,
          6.246810103215091e-14,
          0.6735736917538251,
          0.09778173370130057,
          0.696107376219036,
          0.6970092002944314,
          0.6727235275262485,
          0.6679479272494169,
          0.7020528094370233,
          0.7468281920206131,
          0.6178756065384469,
          0.6432108062296582,
          0.6230783812265525,
          0.5873337949919609,
          0.6710552414049056,
          0.6753317645030837,
          0.2629038172338447,
          0.5733283647448466,
          0.7050188222599787,
          0.7113708042020009,
          0.6803109701677318,
          0.7164091718157358,
          0.63230528735674,
          0.7570435232481995,
          0.7583999837159945,
          0.7720677152437698,
          0.6976204486917537,
          0.6927318213722221,
          0.6040253688819971,
          0.6533058672724819,
          0.7069629379477518,
          0.7209890918776766,
          0.7485101440852883,
          0.8038839600702186,
          0.7090076560730116,
          0.7276036080150687,
          0.7419640485773711,
          0.7149348630258043,
          0.7559765140857532,
          0.7407506706225239,
          0.643132780621966,
          0.43977003107531104,
          0.7938616913787009,
          0.7192854589162331,
          0.7706890436670194,
          0.8253312144315115,
          0.7728894940173587,
          0.8681067259739988,
          0.7968595790817828,
          0.8089898456003476,
          0.8136219436156943,
          0.8337672445002822,
          0.7676240822500897,
          0.830304249225128,
          0.8784198533416742,
          0.7515350294198611,
          0.8601195133568834,
          0.9999999999969208,
          0.8098077745681151,
          0.7414188060205213,
          0.4419343496472762,
          0.8131780747710816,
          0.9404725226082792,
          0.8573605862647208,
          0.7871199779101594,
          0.7811763634949873,
          0.7333757881995921,
          0.7515545435740705,
          0.8595590697447419,
          0.8675105096073754,
          0.8658316876864156,
          0.9210729680034409,
          0.8651954998898632,
          0.8230806158192296,
          0.9244642227978844,
          0.491193046489552,
          0.8496467360917445,
          0.9214654220089654,
          0.8498913165466996,
          0.9366716311039948,
          0.8624105375435109,
          0.930296196214862,
          0.6454505637756731,
          0.9086197302809232,
          0.8839029500039626,
          0.8793408573540449,
          0.9030690558726832,
          0.975390999760896,
          0.8383624402401182,
          0.9490408329093444,
          0.9411377857742366,
          0.8326328332571471,
          0.9087675653089671,
          0.9544075920952448,
          0.987789941701988,
          0.8863282256941997,
          0.8993206784037825,
          0.9999999999999466,
          0.964044612362283,
          1,
          1,
          0.9999999999999992,
          0.9289495827660116,
          0.9508140717584852,
          0.9097653585214521,
          1,
          1,
          0.9999999999999992,
          0.9548091936269332,
          1,
          1,
          1,
          1,
          0.8774531307620115,
          0.7543740456981316,
          0.96965824691792,
          0.9999999999999029,
          0.8993407045925779,
          1,
          1,
          1,
          0.999999999999311,
          1,
          1,
          0.9361319360645678,
          1,
          1,
          0.96904403992683,
          1,
          1,
          0.9999999999999865,
          1,
          1,
          0.9752846716894344,
          1,
          1,
          1,
          0.9999999999324654,
          0.9999999999987844,
          9.306109063052935e-11,
          0.9999999999997244,
          1,
          0.9999999999999996,
          0.9999999999999728
         ]
        }
       ],
       "layout": {
        "legend": {
         "bgcolor": "#F5F6F9",
         "font": {
          "color": "#4D5663"
         }
        },
        "paper_bgcolor": "#F5F6F9",
        "plot_bgcolor": "#F5F6F9",
        "template": {
         "data": {
          "bar": [
           {
            "error_x": {
             "color": "#2a3f5f"
            },
            "error_y": {
             "color": "#2a3f5f"
            },
            "marker": {
             "line": {
              "color": "#E5ECF6",
              "width": 0.5
             }
            },
            "type": "bar"
           }
          ],
          "barpolar": [
           {
            "marker": {
             "line": {
              "color": "#E5ECF6",
              "width": 0.5
             }
            },
            "type": "barpolar"
           }
          ],
          "carpet": [
           {
            "aaxis": {
             "endlinecolor": "#2a3f5f",
             "gridcolor": "white",
             "linecolor": "white",
             "minorgridcolor": "white",
             "startlinecolor": "#2a3f5f"
            },
            "baxis": {
             "endlinecolor": "#2a3f5f",
             "gridcolor": "white",
             "linecolor": "white",
             "minorgridcolor": "white",
             "startlinecolor": "#2a3f5f"
            },
            "type": "carpet"
           }
          ],
          "choropleth": [
           {
            "colorbar": {
             "outlinewidth": 0,
             "ticks": ""
            },
            "type": "choropleth"
           }
          ],
          "contour": [
           {
            "colorbar": {
             "outlinewidth": 0,
             "ticks": ""
            },
            "colorscale": [
             [
              0,
              "#0d0887"
             ],
             [
              0.1111111111111111,
              "#46039f"
             ],
             [
              0.2222222222222222,
              "#7201a8"
             ],
             [
              0.3333333333333333,
              "#9c179e"
             ],
             [
              0.4444444444444444,
              "#bd3786"
             ],
             [
              0.5555555555555556,
              "#d8576b"
             ],
             [
              0.6666666666666666,
              "#ed7953"
             ],
             [
              0.7777777777777778,
              "#fb9f3a"
             ],
             [
              0.8888888888888888,
              "#fdca26"
             ],
             [
              1,
              "#f0f921"
             ]
            ],
            "type": "contour"
           }
          ],
          "contourcarpet": [
           {
            "colorbar": {
             "outlinewidth": 0,
             "ticks": ""
            },
            "type": "contourcarpet"
           }
          ],
          "heatmap": [
           {
            "colorbar": {
             "outlinewidth": 0,
             "ticks": ""
            },
            "colorscale": [
             [
              0,
              "#0d0887"
             ],
             [
              0.1111111111111111,
              "#46039f"
             ],
             [
              0.2222222222222222,
              "#7201a8"
             ],
             [
              0.3333333333333333,
              "#9c179e"
             ],
             [
              0.4444444444444444,
              "#bd3786"
             ],
             [
              0.5555555555555556,
              "#d8576b"
             ],
             [
              0.6666666666666666,
              "#ed7953"
             ],
             [
              0.7777777777777778,
              "#fb9f3a"
             ],
             [
              0.8888888888888888,
              "#fdca26"
             ],
             [
              1,
              "#f0f921"
             ]
            ],
            "type": "heatmap"
           }
          ],
          "heatmapgl": [
           {
            "colorbar": {
             "outlinewidth": 0,
             "ticks": ""
            },
            "colorscale": [
             [
              0,
              "#0d0887"
             ],
             [
              0.1111111111111111,
              "#46039f"
             ],
             [
              0.2222222222222222,
              "#7201a8"
             ],
             [
              0.3333333333333333,
              "#9c179e"
             ],
             [
              0.4444444444444444,
              "#bd3786"
             ],
             [
              0.5555555555555556,
              "#d8576b"
             ],
             [
              0.6666666666666666,
              "#ed7953"
             ],
             [
              0.7777777777777778,
              "#fb9f3a"
             ],
             [
              0.8888888888888888,
              "#fdca26"
             ],
             [
              1,
              "#f0f921"
             ]
            ],
            "type": "heatmapgl"
           }
          ],
          "histogram": [
           {
            "marker": {
             "colorbar": {
              "outlinewidth": 0,
              "ticks": ""
             }
            },
            "type": "histogram"
           }
          ],
          "histogram2d": [
           {
            "colorbar": {
             "outlinewidth": 0,
             "ticks": ""
            },
            "colorscale": [
             [
              0,
              "#0d0887"
             ],
             [
              0.1111111111111111,
              "#46039f"
             ],
             [
              0.2222222222222222,
              "#7201a8"
             ],
             [
              0.3333333333333333,
              "#9c179e"
             ],
             [
              0.4444444444444444,
              "#bd3786"
             ],
             [
              0.5555555555555556,
              "#d8576b"
             ],
             [
              0.6666666666666666,
              "#ed7953"
             ],
             [
              0.7777777777777778,
              "#fb9f3a"
             ],
             [
              0.8888888888888888,
              "#fdca26"
             ],
             [
              1,
              "#f0f921"
             ]
            ],
            "type": "histogram2d"
           }
          ],
          "histogram2dcontour": [
           {
            "colorbar": {
             "outlinewidth": 0,
             "ticks": ""
            },
            "colorscale": [
             [
              0,
              "#0d0887"
             ],
             [
              0.1111111111111111,
              "#46039f"
             ],
             [
              0.2222222222222222,
              "#7201a8"
             ],
             [
              0.3333333333333333,
              "#9c179e"
             ],
             [
              0.4444444444444444,
              "#bd3786"
             ],
             [
              0.5555555555555556,
              "#d8576b"
             ],
             [
              0.6666666666666666,
              "#ed7953"
             ],
             [
              0.7777777777777778,
              "#fb9f3a"
             ],
             [
              0.8888888888888888,
              "#fdca26"
             ],
             [
              1,
              "#f0f921"
             ]
            ],
            "type": "histogram2dcontour"
           }
          ],
          "mesh3d": [
           {
            "colorbar": {
             "outlinewidth": 0,
             "ticks": ""
            },
            "type": "mesh3d"
           }
          ],
          "parcoords": [
           {
            "line": {
             "colorbar": {
              "outlinewidth": 0,
              "ticks": ""
             }
            },
            "type": "parcoords"
           }
          ],
          "pie": [
           {
            "automargin": true,
            "type": "pie"
           }
          ],
          "scatter": [
           {
            "marker": {
             "colorbar": {
              "outlinewidth": 0,
              "ticks": ""
             }
            },
            "type": "scatter"
           }
          ],
          "scatter3d": [
           {
            "line": {
             "colorbar": {
              "outlinewidth": 0,
              "ticks": ""
             }
            },
            "marker": {
             "colorbar": {
              "outlinewidth": 0,
              "ticks": ""
             }
            },
            "type": "scatter3d"
           }
          ],
          "scattercarpet": [
           {
            "marker": {
             "colorbar": {
              "outlinewidth": 0,
              "ticks": ""
             }
            },
            "type": "scattercarpet"
           }
          ],
          "scattergeo": [
           {
            "marker": {
             "colorbar": {
              "outlinewidth": 0,
              "ticks": ""
             }
            },
            "type": "scattergeo"
           }
          ],
          "scattergl": [
           {
            "marker": {
             "colorbar": {
              "outlinewidth": 0,
              "ticks": ""
             }
            },
            "type": "scattergl"
           }
          ],
          "scattermapbox": [
           {
            "marker": {
             "colorbar": {
              "outlinewidth": 0,
              "ticks": ""
             }
            },
            "type": "scattermapbox"
           }
          ],
          "scatterpolar": [
           {
            "marker": {
             "colorbar": {
              "outlinewidth": 0,
              "ticks": ""
             }
            },
            "type": "scatterpolar"
           }
          ],
          "scatterpolargl": [
           {
            "marker": {
             "colorbar": {
              "outlinewidth": 0,
              "ticks": ""
             }
            },
            "type": "scatterpolargl"
           }
          ],
          "scatterternary": [
           {
            "marker": {
             "colorbar": {
              "outlinewidth": 0,
              "ticks": ""
             }
            },
            "type": "scatterternary"
           }
          ],
          "surface": [
           {
            "colorbar": {
             "outlinewidth": 0,
             "ticks": ""
            },
            "colorscale": [
             [
              0,
              "#0d0887"
             ],
             [
              0.1111111111111111,
              "#46039f"
             ],
             [
              0.2222222222222222,
              "#7201a8"
             ],
             [
              0.3333333333333333,
              "#9c179e"
             ],
             [
              0.4444444444444444,
              "#bd3786"
             ],
             [
              0.5555555555555556,
              "#d8576b"
             ],
             [
              0.6666666666666666,
              "#ed7953"
             ],
             [
              0.7777777777777778,
              "#fb9f3a"
             ],
             [
              0.8888888888888888,
              "#fdca26"
             ],
             [
              1,
              "#f0f921"
             ]
            ],
            "type": "surface"
           }
          ],
          "table": [
           {
            "cells": {
             "fill": {
              "color": "#EBF0F8"
             },
             "line": {
              "color": "white"
             }
            },
            "header": {
             "fill": {
              "color": "#C8D4E3"
             },
             "line": {
              "color": "white"
             }
            },
            "type": "table"
           }
          ]
         },
         "layout": {
          "annotationdefaults": {
           "arrowcolor": "#2a3f5f",
           "arrowhead": 0,
           "arrowwidth": 1
          },
          "coloraxis": {
           "colorbar": {
            "outlinewidth": 0,
            "ticks": ""
           }
          },
          "colorscale": {
           "diverging": [
            [
             0,
             "#8e0152"
            ],
            [
             0.1,
             "#c51b7d"
            ],
            [
             0.2,
             "#de77ae"
            ],
            [
             0.3,
             "#f1b6da"
            ],
            [
             0.4,
             "#fde0ef"
            ],
            [
             0.5,
             "#f7f7f7"
            ],
            [
             0.6,
             "#e6f5d0"
            ],
            [
             0.7,
             "#b8e186"
            ],
            [
             0.8,
             "#7fbc41"
            ],
            [
             0.9,
             "#4d9221"
            ],
            [
             1,
             "#276419"
            ]
           ],
           "sequential": [
            [
             0,
             "#0d0887"
            ],
            [
             0.1111111111111111,
             "#46039f"
            ],
            [
             0.2222222222222222,
             "#7201a8"
            ],
            [
             0.3333333333333333,
             "#9c179e"
            ],
            [
             0.4444444444444444,
             "#bd3786"
            ],
            [
             0.5555555555555556,
             "#d8576b"
            ],
            [
             0.6666666666666666,
             "#ed7953"
            ],
            [
             0.7777777777777778,
             "#fb9f3a"
            ],
            [
             0.8888888888888888,
             "#fdca26"
            ],
            [
             1,
             "#f0f921"
            ]
           ],
           "sequentialminus": [
            [
             0,
             "#0d0887"
            ],
            [
             0.1111111111111111,
             "#46039f"
            ],
            [
             0.2222222222222222,
             "#7201a8"
            ],
            [
             0.3333333333333333,
             "#9c179e"
            ],
            [
             0.4444444444444444,
             "#bd3786"
            ],
            [
             0.5555555555555556,
             "#d8576b"
            ],
            [
             0.6666666666666666,
             "#ed7953"
            ],
            [
             0.7777777777777778,
             "#fb9f3a"
            ],
            [
             0.8888888888888888,
             "#fdca26"
            ],
            [
             1,
             "#f0f921"
            ]
           ]
          },
          "colorway": [
           "#636efa",
           "#EF553B",
           "#00cc96",
           "#ab63fa",
           "#FFA15A",
           "#19d3f3",
           "#FF6692",
           "#B6E880",
           "#FF97FF",
           "#FECB52"
          ],
          "font": {
           "color": "#2a3f5f"
          },
          "geo": {
           "bgcolor": "white",
           "lakecolor": "white",
           "landcolor": "#E5ECF6",
           "showlakes": true,
           "showland": true,
           "subunitcolor": "white"
          },
          "hoverlabel": {
           "align": "left"
          },
          "hovermode": "closest",
          "mapbox": {
           "style": "light"
          },
          "paper_bgcolor": "white",
          "plot_bgcolor": "#E5ECF6",
          "polar": {
           "angularaxis": {
            "gridcolor": "white",
            "linecolor": "white",
            "ticks": ""
           },
           "bgcolor": "#E5ECF6",
           "radialaxis": {
            "gridcolor": "white",
            "linecolor": "white",
            "ticks": ""
           }
          },
          "scene": {
           "xaxis": {
            "backgroundcolor": "#E5ECF6",
            "gridcolor": "white",
            "gridwidth": 2,
            "linecolor": "white",
            "showbackground": true,
            "ticks": "",
            "zerolinecolor": "white"
           },
           "yaxis": {
            "backgroundcolor": "#E5ECF6",
            "gridcolor": "white",
            "gridwidth": 2,
            "linecolor": "white",
            "showbackground": true,
            "ticks": "",
            "zerolinecolor": "white"
           },
           "zaxis": {
            "backgroundcolor": "#E5ECF6",
            "gridcolor": "white",
            "gridwidth": 2,
            "linecolor": "white",
            "showbackground": true,
            "ticks": "",
            "zerolinecolor": "white"
           }
          },
          "shapedefaults": {
           "line": {
            "color": "#2a3f5f"
           }
          },
          "ternary": {
           "aaxis": {
            "gridcolor": "white",
            "linecolor": "white",
            "ticks": ""
           },
           "baxis": {
            "gridcolor": "white",
            "linecolor": "white",
            "ticks": ""
           },
           "bgcolor": "#E5ECF6",
           "caxis": {
            "gridcolor": "white",
            "linecolor": "white",
            "ticks": ""
           }
          },
          "title": {
           "x": 0.05
          },
          "xaxis": {
           "automargin": true,
           "gridcolor": "white",
           "linecolor": "white",
           "ticks": "",
           "title": {
            "standoff": 15
           },
           "zerolinecolor": "white",
           "zerolinewidth": 2
          },
          "yaxis": {
           "automargin": true,
           "gridcolor": "white",
           "linecolor": "white",
           "ticks": "",
           "title": {
            "standoff": 15
           },
           "zerolinecolor": "white",
           "zerolinewidth": 2
          }
         }
        },
        "title": {
         "font": {
          "color": "#4D5663"
         },
         "text": "Growth rate vs growth rate dampening per city in England + Wales"
        },
        "xaxis": {
         "gridcolor": "#E1E5ED",
         "showgrid": true,
         "tickfont": {
          "color": "#4D5663"
         },
         "title": {
          "font": {
           "color": "#4D5663"
          },
          "text": "Growth rate (r)"
         },
         "zerolinecolor": "#E1E5ED"
        },
        "yaxis": {
         "autorange": "reversed",
         "gridcolor": "#E1E5ED",
         "showgrid": true,
         "tickfont": {
          "color": "#4D5663"
         },
         "title": {
          "font": {
           "color": "#4D5663"
          },
          "text": "Growth rate dampening (p)"
         },
         "zerolinecolor": "#E1E5ED"
        }
       }
      },
      "text/html": [
       "<div>\n",
       "        \n",
       "        \n",
       "            <div id=\"b13adda8-0f85-4f25-b588-178b3f9d7a43\" class=\"plotly-graph-div\" style=\"height:525px; width:100%;\"></div>\n",
       "            <script type=\"text/javascript\">\n",
       "                require([\"plotly\"], function(Plotly) {\n",
       "                    window.PLOTLYENV=window.PLOTLYENV || {};\n",
       "                    \n",
       "                if (document.getElementById(\"b13adda8-0f85-4f25-b588-178b3f9d7a43\")) {\n",
       "                    Plotly.newPlot(\n",
       "                        'b13adda8-0f85-4f25-b588-178b3f9d7a43',\n",
       "                        [{\"error_x\": {\"array\": [1.0147275023883036, 0.8510426560324499, 0.5573675536004324, 0.44695075117725536, 0.905776707103447, 0.3770568558215384, 0.4397268424214012, 0.1957173959711125, 0.3461850586054372, 0.13115927640324873, 0.2133824810280632, 0.35333653140018306, 0.2638358864429657, 0.31628270734737945, 0.1109348857231158, 0.4715161603929584, 0.11037006888523516, 0.13594966756383414, 0.1859707179257996, 0.3028957799590254, 0.18198176395731452, 0.06573280253568936, 0.14181054704982327, 0.11399268431564395, 0.13409514632957728, 0.2580881670897521, 0.13175166480725772, 0.1695754805213729, 0.4123878281465084, 0.2140361709462256, 0.08429902008353657, 0.12396803594302408, 0.09765905825393613, 0.07291150923177743, 0.19782168404176206, 0.16617738939640406, 0.0785786064954314, 0.2426986324479941, 0.3002893298872941, 0.08696475380825029, 0.28760331325598393, 0.26146792520086715, 0.113403363504934, 0.1661303503145189, 0.0758217131494958, 0.10609402834378616, 0.14141895326066165, 0.10659710721972517, 0.0957454498826988, 0.14713468185264691, 0.07198177426990453, 0.09393580185492943, 0.11929393379333715, 0.34100263965454, 0.06251940742440606, 0.2355924824852486, 0.07562550899034749, 0.0470355024695058, 0.2891265501034216, 0.04438163918996938, 0.05711279834083389, 0.10479197800861934, 0.04896458233155568, 0.04665700922218119, 0.0810289196304455, 0.05326077930496041, 0.03698158916906018, 0.14467601631783686, 0.0444847313009189, 0.14210255719413892, 0.07454906641012582, 0.14522863006895434, 0.28393783964339925, 0.05156944063618134, 0.09148139193387723, 0.0680578944108805, 0.0847351976767975, 0.0801485194916024, 0.07488962042092044, 0.10539833971845898, 0.04829417865752979, 0.07460526309499503, 0.05256046254178172, 0.0714094331183909, 0.033149727941226025, 0.07308201971039191, 0.03043746580295005, 0.17981492632460572, 0.05593937416698906, 0.0896221387405575, 0.0598427459904561, 0.03385771333685453, 0.04880848125154223, 0.033547323363209404, 0.1301632929728077, 0.030953575419227573, 0.0699721583953207, 0.0973760761514546, 0.08293369384730492, 0.044845115962131234, 0.08174534066676005, 0.06754476943077077, 0.041698401018387, 0.08785959788997705, 0.03630692796534064, 0.03165155110833128, 0.0195879937268162, 0.06814797592289068, 0.052347782588694464, 0.04398332902273313, 0.047120636540881534, 0.035799961441921734, 0.015458686072978359, 0.06230892611571561, 0.07650446563480875, 0.04460894149068033, 0.07808783414116068, 0.015850454697844518, 0.0570001083076257, 0.01875924146756671, 0.03627492890293761, 0.04096389414320239, 0.01883064969969131, 0.08755850691245973, 0.06274561192344802, 0.08709321286472176, 0.16308363725433647, 0.07982454868671335, 0.16628674389191167, 0.057190504733929025, 0.14391829204535686, 0.022376339405082785, 0.023616385728056456, 0.06324230571517116, 0.03026211549189465, 0.032334883744314716, 0.04650452052204102, 0.03652274609354759, 0.03183250125320631, 0.058962523427618874, 0.027779113030356038, 0.021062557216997103, 0.14152361463311405, 0.05716925844615276, 0.02979852343924265, 0.03836695328882106, 0.05719774088850078, 0.049167853702541536, 0.052065782739973886, 0.033442952377401185, 0.064264984773088, 0.07803652227318543, 0.036570713565431776, 0.09100777220433544, 0.07604705834863887, 0.0776731953999437], \"arrayminus\": [1.0147275023883036, 0.8510426560324499, 0.5573675536004324, 0.44695075117725536, 0.905776707103447, 0.3770568558215384, 0.4397268424214012, 0.1957173959711125, 0.3461850586054372, 0.13115927640324873, 0.2133824810280632, 0.35333653140018306, 0.2638358864429657, 0.31628270734737945, 0.1109348857231158, 0.4715161603929584, 0.11037006888523516, 0.13594966756383414, 0.1859707179257996, 0.3028957799590254, 0.18198176395731452, 0.06573280253568936, 0.14181054704982327, 0.11399268431564395, 0.13409514632957728, 0.2580881670897521, 0.13175166480725772, 0.1695754805213729, 0.4123878281465084, 0.2140361709462256, 0.08429902008353657, 0.12396803594302408, 0.09765905825393613, 0.07291150923177743, 0.19782168404176206, 0.16617738939640406, 0.0785786064954314, 0.2426986324479941, 0.3002893298872941, 0.08696475380825029, 0.28760331325598393, 0.26146792520086715, 0.113403363504934, 0.1661303503145189, 0.0758217131494958, 0.10609402834378616, 0.14141895326066165, 0.10659710721972517, 0.0957454498826988, 0.14713468185264691, 0.07198177426990453, 0.09393580185492943, 0.11929393379333715, 0.34100263965454, 0.06251940742440606, 0.2355924824852486, 0.07562550899034749, 0.0470355024695058, 0.2891265501034216, 0.04438163918996938, 0.05711279834083389, 0.10479197800861934, 0.04896458233155568, 0.04665700922218119, 0.0810289196304455, 0.05326077930496041, 0.03698158916906018, 0.14467601631783686, 0.0444847313009189, 0.14210255719413892, 0.07454906641012582, 0.14522863006895434, 0.28393783964339925, 0.05156944063618134, 0.09148139193387723, 0.0680578944108805, 0.0847351976767975, 0.0801485194916024, 0.07488962042092044, 0.10539833971845898, 0.04829417865752979, 0.07460526309499503, 0.05256046254178172, 0.0714094331183909, 0.033149727941226025, 0.07308201971039191, 0.03043746580295005, 0.17981492632460572, 0.05593937416698906, 0.0896221387405575, 0.0598427459904561, 0.03385771333685453, 0.04880848125154223, 0.033547323363209404, 0.1301632929728077, 0.030953575419227573, 0.0699721583953207, 0.0973760761514546, 0.08293369384730492, 0.044845115962131234, 0.08174534066676005, 0.06754476943077077, 0.041698401018387, 0.08785959788997705, 0.03630692796534064, 0.03165155110833128, 0.0195879937268162, 0.06814797592289068, 0.052347782588694464, 0.04398332902273313, 0.047120636540881534, 0.035799961441921734, 0.015458686072978359, 0.06230892611571561, 0.07650446563480875, 0.04460894149068033, 0.07808783414116068, 0.015850454697844518, 0.0570001083076257, 0.01875924146756671, 0.03627492890293761, 0.04096389414320239, 0.01883064969969131, 0.08755850691245973, 0.06274561192344802, 0.08709321286472176, 0.16308363725433647, 0.07982454868671335, 0.16628674389191167, 0.057190504733929025, 0.14391829204535686, 0.022376339405082785, 0.023616385728056456, 0.06324230571517116, 0.03026211549189465, 0.032334883744314716, 0.04650452052204102, 0.03652274609354759, 0.03183250125320631, 0.058962523427618874, 0.027779113030356038, 0.021062557216997103, 0.14152361463311405, 0.05716925844615276, 0.02979852343924265, 0.03836695328882106, 0.05719774088850078, 0.049167853702541536, 0.052065782739973886, 0.033442952377401185, 0.064264984773088, 0.07803652227318543, 0.036570713565431776, 0.09100777220433544, 0.07604705834863887, 0.0776731953999437], \"color\": \"rgba(147,112,219,0.1)\", \"symmetric\": false, \"type\": \"data\", \"visible\": true}, \"error_y\": {\"array\": [0.2097548580716595, 0.24103396297203344, 0.08118890673578809, 0.06889595220330791, 0.2831971172705945, 0.0601625026108993, 0.2341280804971606, 0.05417329492270243, 0.08806375299622915, 0.03585951619960978, 0.07182538028658687, 0.29997044208352913, 0.09531792968752538, 0.31918829633220946, 0.03693810548563085, 0.3320256196699756, 0.03299717131968407, 0.04656688772900335, 0.06896298042470039, 0.12817356690246293, 0.06794699090788278, 0.021965264911940452, 0.05987165114316776, 0.046382408580961834, 0.060269979500019874, 0.1065521255630206, 0.04628403255653718, 0.08018488894893289, 0.3128237671032218, 0.08606006678764995, 0.03199322031088648, 0.060428561651588227, 0.049211954901290496, 0.03305555958024788, 0.13540865040209002, 0.14870890012129226, 0.04294863154735321, 0.18054559995946928, 0.21584168717480626, 0.06051889575500885, 0.17839173445900872, 0.1785477876224803, 0.06826953485141528, 0.12253281223236, 0.04288663855662965, 0.061362868926852124, 0.12088176254883885, 0.06636698333457038, 0.06050848069621891, 0.10764505838654044, 0.0431792468311616, 0.06019517447809373, 0.08958144474865977, 0.23764444820527306, 0.041362189586436136, 0.2062974926553757, 0.050495148105835226, 0.03002195602436442, 0.22711050598264126, 0.028311399473009487, 0.04573630656747299, 0.09029400297181096, 0.03561622154741228, 0.033393232747472475, 0.06803928195238021, 0.04690608434509514, 0.029211871968740588, 0.16088523283351927, 0.03653783415541125, 3.0792035587978717e-12, 0.0641369338293125, 0.15786766380324005, 0.2864702655312094, 0.05191042412581593, 0.05952747739172082, 0.07556854209296804, 0.08261063862131894, 0.09012132476252292, 0.0865246936372787, 0.14136766825755756, 0.05718727646769255, 0.08759271862257514, 0.056919800705255826, 0.07892703199655915, 0.043364776128093266, 0.08030247642470026, 0.032034054341097684, 0.2589588295564149, 0.07936125397461945, 0.07853457799103458, 0.06858983781796803, 0.03700532023041357, 0.062077279680149415, 0.03726521762279507, 0.1719483252738609, 0.03902210801023905, 0.09493515362122644, 0.12065914264595512, 0.09179651414545044, 0.02460900023910395, 0.10815033802649764, 0.05095916709065562, 0.052895663916881185, 0.11674390915018322, 0.04765696268391472, 0.044183011650801636, 0.012210058298012028, 0.0955767539092496, 0.08102544178120691, 5.340172748447003e-14, 0.035955387637716996, 0.0, 0.0, 7.771561172376096e-16, 0.07105041723398842, 0.0491859282415148, 0.09023464147854787, 0.0, 0.0, 7.771561172376096e-16, 0.04519080637306683, 0.0, 0.0, 0.0, 0.0, 0.12254686923798852, 0.2456259543018684, 0.03034175308207998, 9.71445146547012e-14, 0.10065929540742213, 0.0, 0.0, 0.0, 6.890044090823721e-13, 0.0, 0.0, 0.0638680639354322, 0.0, 0.0, 0.03095596007317003, 0.0, 0.0, 1.354472090042691e-14, 0.0, 0.0, 0.024715328310565554, 0.0, 0.0, 0.0, 6.753464454334335e-11, 1.2155831896620839e-12, 0.41430076412513067, 2.7555735471196385e-13, 0.0, 4.440892098500626e-16, 2.7200464103316335e-14], \"arrayminus\": [0.2097548580716595, 0.1213053348382421, 0.08118890673578809, 0.06889595220330791, 0.2831971172705945, 0.0601625026108993, 0.20200201327476705, 0.05417329492270243, 0.08806375299622915, 0.03585951619960978, 0.07182538028658687, 9.92070638253009e-31, 0.09531792968752538, 6.246810103215091e-14, 0.03693810548563085, 0.09778173370130057, 0.03299717131968407, 0.04656688772900335, 0.06896298042470039, 0.12817356690246293, 0.06794699090788278, 0.021965264911940452, 0.05987165114316776, 0.046382408580961834, 0.060269979500019874, 0.1065521255630206, 0.04628403255653718, 0.08018488894893289, 0.2629038172338447, 0.08606006678764995, 0.03199322031088648, 0.060428561651588227, 0.049211954901290496, 0.03305555958024788, 0.13540865040209002, 0.14870890012129226, 0.04294863154735321, 0.18054559995946928, 0.21584168717480626, 0.06051889575500885, 0.17839173445900872, 0.1785477876224803, 0.06826953485141528, 0.12253281223236, 0.04288663855662965, 0.061362868926852124, 0.12088176254883885, 0.06636698333457038, 0.06050848069621891, 0.10764505838654044, 0.0431792468311616, 0.06019517447809373, 0.08958144474865977, 0.23764444820527306, 0.041362189586436136, 0.2062974926553757, 0.050495148105835226, 0.03002195602436442, 0.2570846710547339, 0.028311399473009487, 0.04573630656747299, 0.09029400297181096, 0.03561622154741228, 0.033393232747472475, 0.06803928195238021, 0.04690608434509514, 0.029211871968740588, 0.16088523283351927, 0.03653783415541125, 0.1536313393720526, 0.0641369338293125, 0.15786766380324005, 0.2864702655312094, 0.05191042412581593, 0.08681499990397616, 0.07556854209296804, 0.08261063862131894, 0.09012132476252292, 0.0865246936372787, 0.14136766825755756, 0.05718727646769255, 0.08759271862257514, 0.056919800705255826, 0.09216830684593694, 0.043364776128093266, 0.08030247642470026, 0.032034054341097684, 0.2589588295564149, 0.07936125397461945, 0.10203632453086883, 0.06858983781796803, 0.03700532023041357, 0.062077279680149415, 0.03726521762279507, 0.1719483252738609, 0.03902210801023905, 0.09493515362122644, 0.14481765194022814, 0.09179651414545044, 0.06766251768433147, 0.10815033802649764, 0.10349018210588228, 0.052895663916881185, 0.11674390915018322, 0.04765696268391472, 0.044183011650801636, 0.0247177867288576, 0.0955767539092496, 0.08102544178120691, 0.05908751399537498, 0.06658230336955613, 0.054339702681954066, 0.018747447183653627, 0.09192209767793584, 0.13192002915310586, 0.06897484945222346, 0.17591387413115106, 0.02636037363828083, 0.1338736980799564, 0.02805985770737966, 0.066756478102486, 0.06502478561193444, 0.0332787892834064, 0.11934524408640268, 0.11143446237103533, 0.18431278640520016, 0.3590389538832079, 0.1467173063831856, 0.2806361997067998, 0.1116022560928324, 0.3130765620659179, 0.040563642582336704, 0.04350825387178947, 0.12504370358050335, 0.05962426043805729, 0.05999178733287629, 0.09727370027573376, 0.06013739924270445, 0.05930768136021576, 0.1268550628715955, 0.051703123998899835, 0.03737829751132943, 0.246674607467225, 0.09935678014535446, 0.07420652861512132, 0.10118862841292277, 0.1375487580122699, 0.11804926905540646, 0.1502161616661698, 0.11350494403043733, 0.17450798959148447, 9.306109063052935e-11, 0.113225773800681, 0.2950680011772861, 0.34126760901463704, 0.431404207693998], \"color\": \"rgba(147,112,219,0.1)\", \"symmetric\": false, \"type\": \"data\", \"visible\": true}, \"hovertemplate\": \"<br><b>%{text}</b><br>Growth rate (r): %{x:.2f}<br>Growth dampening (p): %{y:.2f}\", \"line\": {\"color\": \"rgba(255, 153, 51, 1.0)\", \"dash\": \"solid\", \"shape\": \"linear\", \"width\": 1.3}, \"marker\": {\"size\": [11.06663836234181, 9.406482647787449, 15.407395311150786, 14.460844696815112, 8.83331693749932, 16.454390800471963, 10.666044184468241, 16.564382753586738, 14.602603351366746, 17.724248814506794, 15.051839510444772, 6.238324625039507, 13.597798479459769, 6.238324625039507, 17.7079000002041, 8.12415060330663, 18.63180023107396, 17.238609571620458, 14.671047384665261, 12.614077858172898, 14.909439898728003, 18.17736958674539, 15.299599283472595, 15.661067475234972, 15.07164156253883, 12.829998357048165, 17.24817895772476, 13.933172697424117, 8.83331693749932, 14.532561259375774, 17.649967165464837, 15.051839510444772, 15.494357921770543, 16.93634069292971, 12.332621592519935, 10.912758479179157, 17.151083104218664, 10.489522684399441, 10.489522684399441, 15.317836421701742, 10.990684938388938, 11.419987469310959, 14.234796385089751, 12.658523115528322, 16.24830120661326, 14.950819865125009, 12.2830336866663, 15.442483430440358, 15.644807272826958, 12.523161809686911, 15.725241045178928, 15.187785099080902, 13.84536155052378, 10.489522684399441, 16.540286238494947, 11.140716200112923, 15.772486116083344, 17.48683685283062, 10.30196161345544, 19.078721606017133, 15.81899867569124, 14.04639368137266, 17.478000322141348, 16.872052518562015, 14.824927267827912, 16.125835223052498, 17.6415989592021, 11.352568901754783, 15.83434397769155, 8.987196820661973, 14.312053873396994, 11.419987469310959, 9.406482647787449, 14.950819865125009, 13.397724355963751, 14.312053873396994, 13.785359550403768, 12.181329031639258, 12.381403155135274, 11.419987469310959, 14.155496613885283, 14.07404364668743, 15.24421309495339, 10.579081573848484, 14.128590603937003, 14.07404364668743, 17.121330794246624, 9.13356731317027, 12.871378323445173, 12.381403155135274, 14.07404364668743, 17.07107836297218, 14.182163456137022, 16.635532333438686, 10.666044184468241, 14.991636821292344, 13.070126480068776, 11.140716200112923, 13.070126480068776, 10.579081573848484, 12.992200020858993, 11.675460894331879, 14.737964657208156, 12.702319513791778, 14.579437213085015, 15.677240021139605, 16.88286334107191, 13.363041888760522, 13.565365731147121, 11.675460894331879, 13.815510557964275, 13.815510557964275, 15.849611186213966, 11.853731155744283, 11.613603032723674, 13.84536155052378, 9.996613530525611, 12.829998357048165, 9.996613530525611, 15.091313764177306, 13.565365731147121, 12.745485726148079, 13.363041888760522, 12.129153803503652, 10.579081573848484, 9.656627474604601, 8.671115273688493, 11.283600347080688, 7.4547199493640015, 11.550442805130174, 7.917171988845775, 13.629884346810012, 13.84536155052378, 10.990684938388938, 13.070126480068776, 13.108343557401064, 11.485924189467285, 12.702319513791778, 12.829998357048165, 10.75055681536833, 12.788039631123947, 12.23261233171716, 8.317766166719343, 12.429404179174597, 12.076055072205449, 10.990684938388938, 9.273127360074948, 11.910875740656365, 10.30196161345544, 10.203592144986466, 9.996613530525611, 2.0794415416798357, 9.534161491043838, 8.12415060330663, 7.193685818395112, 7.193685818395112], \"symbol\": \"circle\"}, \"mode\": \"markers\", \"name\": \"p\", \"text\": [\"Telford and Wrekin (latest total cases: 40)\", \"Caerphilly (latest total cases: 23)\", \"Kensington and Chelsea (latest total cases: 170)\", \"Barnet (latest total cases: 124)\", \"Swansea (latest total cases: 19)\", \"Westminster (latest total cases: 241)\", \"East Riding of Yorkshire (latest total cases: 35)\", \"Newham (latest total cases: 250)\", \"Bexley (latest total cases: 130)\", \"Southwark (latest total cases: 368)\", \"Haringey (latest total cases: 151)\", \"Powys (latest total cases: 8)\", \"Stockport (latest total cases: 93)\", \"Carmarthenshire (latest total cases: 8)\", \"Lambeth (latest total cases: 366)\", \"Neath Port Talbot (latest total cases: 15)\", \"Hampshire (latest total cases: 498)\", \"Croydon (latest total cases: 313)\", \"Norfolk (latest total cases: 133)\", \"Northumberland (latest total cases: 67)\", \"Sandwell (latest total cases: 144)\", \"Sheffield (latest total cases: 428)\", \"Enfield (latest total cases: 164)\", \"Greenwich (latest total cases: 185)\", \"Islington (latest total cases: 152)\", \"Portsmouth (latest total cases: 72)\", \"Wandsworth (latest total cases: 314)\", \"Salford (latest total cases: 104)\", \"Halton (latest total cases: 19)\", \"Camden (latest total cases: 127)\", \"Brent (latest total cases: 359)\", \"Walsall (latest total cases: 151)\", \"Wolverhampton (latest total cases: 175)\", \"Harrow (latest total cases: 283)\", \"Cheshire East (latest total cases: 61)\", \"Newport (latest total cases: 38)\", \"Ealing (latest total cases: 304)\", \"Middlesbrough (latest total cases: 33)\", \"Stoke-on-Trent (latest total cases: 33)\", \"Oxfordshire (latest total cases: 165)\", \"Bath and North East Somerset (latest total cases: 39)\", \"East Sussex (latest total cases: 45)\", \"Barking and Dagenham (latest total cases: 115)\", \"Southampton (latest total cases: 68)\", \"Derbyshire (latest total cases: 225)\", \"Worcestershire (latest total cases: 146)\", \"Central Bedfordshire (latest total cases: 60)\", \"Merton (latest total cases: 172)\", \"Hounslow (latest total cases: 184)\", \"Leicester (latest total cases: 65)\", \"Hackney (latest total cases: 189)\", \"Hammersmith and Fulham (latest total cases: 158)\", \"Devon (latest total cases: 101)\", \"Brighton and Hove (latest total cases: 33)\", \"Lewisham (latest total cases: 248)\", \"Thurrock (latest total cases: 41)\", \"Hillingdon (latest total cases: 192)\", \"Cumbria (latest total cases: 340)\", \"South Tyneside (latest total cases: 31)\", \"Birmingham (latest total cases: 578)\", \"Tower Hamlets (latest total cases: 195)\", \"North Yorkshire (latest total cases: 108)\", \"Hertfordshire (latest total cases: 339)\", \"Bromley (latest total cases: 277)\", \"Buckinghamshire (latest total cases: 140)\", \"Nottinghamshire (latest total cases: 216)\", \"Surrey (latest total cases: 358)\", \"Plymouth (latest total cases: 44)\", \"Waltham Forest (latest total cases: 196)\", \"North East Lincolnshire (latest total cases: 20)\", \"Havering (latest total cases: 118)\", \"Dorset (latest total cases: 45)\", \"Wokingham (latest total cases: 23)\", \"Leicestershire (latest total cases: 146)\", \"Solihull (latest total cases: 87)\", \"Derby (latest total cases: 118)\", \"Nottingham (latest total cases: 99)\", \"South Gloucestershire (latest total cases: 58)\", \"Tameside (latest total cases: 62)\", \"Cheshire West and Chester (latest total cases: 45)\", \"Richmond upon Thames (latest total cases: 112)\", \"Cambridgeshire (latest total cases: 109)\", \"Redbridge (latest total cases: 161)\", \"Bedford (latest total cases: 34)\", \"Sutton (latest total cases: 111)\", \"Manchester (latest total cases: 109)\", \"Essex (latest total cases: 301)\", \"Bracknell Forest (latest total cases: 21)\", \"Slough (latest total cases: 73)\", \"Wakefield (latest total cases: 62)\", \"Gloucestershire (latest total cases: 109)\", \"Kent (latest total cases: 296)\", \"West Sussex (latest total cases: 113)\", \"Staffordshire (latest total cases: 256)\", \"Torbay (latest total cases: 35)\", \"Warwickshire (latest total cases: 148)\", \"Shropshire (latest total cases: 78)\", \"West Berkshire (latest total cases: 41)\", \"Rochdale (latest total cases: 78)\", \"Knowsley (latest total cases: 34)\", \"Wiltshire (latest total cases: 76)\", \"Doncaster (latest total cases: 49)\", \"Dudley (latest total cases: 136)\", \"Cornwall (latest total cases: 69)\", \"Leeds (latest total cases: 129)\", \"Newcastle upon Tyne (latest total cases: 186)\", \"Lancashire (latest total cases: 278)\", \"Trafford (latest total cases: 86)\", \"Bristol, City of (latest total cases: 92)\", \"St. Helens (latest total cases: 49)\", \"Suffolk (latest total cases: 100)\", \"County Durham (latest total cases: 100)\", \"Liverpool (latest total cases: 197)\", \"Gateshead (latest total cases: 52)\", \"Windsor and Maidenhead (latest total cases: 48)\", \"Oldham (latest total cases: 101)\", \"Reading (latest total cases: 28)\", \"Kirklees (latest total cases: 72)\", \"Cardiff (latest total cases: 28)\", \"Northamptonshire (latest total cases: 153)\", \"Kingston upon Thames (latest total cases: 92)\", \"Rotherham (latest total cases: 70)\", \"Sunderland (latest total cases: 86)\", \"Sefton (latest total cases: 57)\", \"Redcar and Cleveland (latest total cases: 34)\", \"Herefordshire, County of (latest total cases: 25)\", \"Blackpool (latest total cases: 18)\", \"Stockton-on-Tees (latest total cases: 43)\", \"Hartlepool (latest total cases: 12)\", \"Bolton (latest total cases: 47)\", \"Blackburn with Darwen (latest total cases: 14)\", \"Milton Keynes (latest total cases: 94)\", \"Coventry (latest total cases: 101)\", \"Calderdale (latest total cases: 39)\", \"Lincolnshire (latest total cases: 78)\", \"Barnsley (latest total cases: 79)\", \"Somerset (latest total cases: 46)\", \"Luton (latest total cases: 69)\", \"Medway (latest total cases: 72)\", \"North Somerset (latest total cases: 36)\", \"North Tyneside (latest total cases: 71)\", \"Bury (latest total cases: 59)\", \"Darlington (latest total cases: 16)\", \"Bradford (latest total cases: 63)\", \"Wirral (latest total cases: 56)\", \"Bournemouth, Christchurch and Poole (latest total cases: 39)\", \"Warrington (latest total cases: 22)\", \"Wigan (latest total cases: 53)\", \"Southend-on-Sea (latest total cases: 31)\", \"York (latest total cases: 30)\", \"Swindon (latest total cases: 28)\", \"Pembrokeshire (latest total cases: 2)\", \"Peterborough (latest total cases: 24)\", \"North Lincolnshire (latest total cases: 15)\", \"Isle of Wight (latest total cases: 11)\", \"Kingston upon Hull, City of (latest total cases: 11)\"], \"type\": \"scatter\", \"x\": [2.111644229563135, 1.894285688209976, 1.6885429875839348, 1.5445148851700432, 1.5424047718763123, 1.3598927458866463, 1.0808533421020776, 1.0072689454909105, 0.9993738694890568, 0.911528274666556, 0.8764760961077201, 0.8720794891846743, 0.8523352227394027, 0.8293560352759995, 0.8029700802104844, 0.8017456756928937, 0.7945024831730079, 0.7917521749091236, 0.7912118536966241, 0.7854182355311157, 0.7852005269271591, 0.7730500085806324, 0.7715961927606725, 0.7689053212127837, 0.7619666633207103, 0.7554740171595721, 0.7550984502925643, 0.7284162288513327, 0.713525151615067, 0.70767528787236, 0.6990726798848828, 0.6627425707757477, 0.6328945067776467, 0.611656177754256, 0.5927094324933979, 0.5417654253522821, 0.5389155095061152, 0.5355724780005205, 0.530417018075781, 0.5294777311303827, 0.5224335831567432, 0.5196632361894918, 0.5189749266152278, 0.5149245119059188, 0.5122298875648345, 0.5046389190830685, 0.5014451527965224, 0.4976510129674453, 0.4774055305325598, 0.4731395954096192, 0.4677536211365185, 0.4576464621457207, 0.4571751239617622, 0.4536396936097565, 0.4488603963116822, 0.44249759776872205, 0.4424778010950552, 0.44110129220865496, 0.4395812402845104, 0.4385951246691681, 0.4338324509595255, 0.4202495132826052, 0.4189312740589963, 0.41222334636143226, 0.40395821158228135, 0.3850350210583832, 0.3816656119172449, 0.3814873739960011, 0.3784989899263627, 0.3769070514406155, 0.3765000192809122, 0.3764173635747605, 0.3737908414317414, 0.3717994266514307, 0.3702965939179253, 0.3669364235483799, 0.3509275415861043, 0.3478571309094651, 0.3467111935430368, 0.34161383646981297, 0.3363749809831729, 0.3292652037874805, 0.32147200775231, 0.3212433177273599, 0.3136306589051265, 0.31293219143211354, 0.3105376185343203, 0.3096678479324072, 0.30960508262123465, 0.30716749234618423, 0.3054603915641452, 0.3008416892218482, 0.30009055063525736, 0.2961225346190701, 0.29561409888035184, 0.29138548766055256, 0.2860145816650849, 0.28550135555205824, 0.2847788070063334, 0.2824940840985551, 0.2742926962823768, 0.27373073802521314, 0.2731004913464497, 0.2713763499429655, 0.2674679647978893, 0.2585455927584662, 0.2537353858564567, 0.25296713479543714, 0.2490311138953337, 0.2456132546761137, 0.2408583594565217, 0.23003946878962825, 0.2294898636398761, 0.22873417762477144, 0.22818643559182944, 0.22456872808000686, 0.22350750082743184, 0.2227567452101573, 0.22055449090779453, 0.21940026262048304, 0.21934291520590185, 0.2143908086348751, 0.2139678366219557, 0.21140081104603375, 0.21120221389294466, 0.2095662060693438, 0.2080633786390692, 0.20780936022975816, 0.20472276475268888, 0.20305505451884154, 0.20096812977478312, 0.19805715357278755, 0.19567847167317845, 0.1904209379649577, 0.18931906593936204, 0.1885299829377632, 0.1854157787655573, 0.1853561269606834, 0.18499816137858047, 0.18445641800773568, 0.18379916432770474, 0.17691000937125745, 0.17419091497217853, 0.17372693667196354, 0.1720382639308413, 0.17165047094739472, 0.16543604882941834, 0.16362890707644154, 0.14386276244671267, 0.1432158740245722, 0.1393933925819566, 0.13288563141162846, 0.13109848652708062, 0.13076583105757494, 0.0978059310908481, 0.08077518356469847], \"y\": [0.3064195891734076, 0.1213053348382421, 0.34741432001605965, 0.3543301136428541, 0.3516786380622455, 0.4838129147373194, 0.20200201327476705, 0.6650580342713268, 0.560876009952097, 0.6415748216178634, 0.5764173547871401, 9.92070638253009e-31, 0.5498656622548557, 6.246810103215091e-14, 0.6735736917538251, 0.09778173370130057, 0.696107376219036, 0.6970092002944314, 0.6727235275262485, 0.6679479272494169, 0.7020528094370233, 0.7468281920206131, 0.6178756065384469, 0.6432108062296582, 0.6230783812265525, 0.5873337949919609, 0.6710552414049056, 0.6753317645030837, 0.2629038172338447, 0.5733283647448466, 0.7050188222599787, 0.7113708042020009, 0.6803109701677318, 0.7164091718157358, 0.63230528735674, 0.7570435232481995, 0.7583999837159945, 0.7720677152437698, 0.6976204486917537, 0.6927318213722221, 0.6040253688819971, 0.6533058672724819, 0.7069629379477518, 0.7209890918776766, 0.7485101440852883, 0.8038839600702186, 0.7090076560730116, 0.7276036080150687, 0.7419640485773711, 0.7149348630258043, 0.7559765140857532, 0.7407506706225239, 0.643132780621966, 0.43977003107531104, 0.7938616913787009, 0.7192854589162331, 0.7706890436670194, 0.8253312144315115, 0.7728894940173587, 0.8681067259739988, 0.7968595790817828, 0.8089898456003476, 0.8136219436156943, 0.8337672445002822, 0.7676240822500897, 0.830304249225128, 0.8784198533416742, 0.7515350294198611, 0.8601195133568834, 0.9999999999969208, 0.8098077745681151, 0.7414188060205213, 0.4419343496472762, 0.8131780747710816, 0.9404725226082792, 0.8573605862647208, 0.7871199779101594, 0.7811763634949873, 0.7333757881995921, 0.7515545435740705, 0.8595590697447419, 0.8675105096073754, 0.8658316876864156, 0.9210729680034409, 0.8651954998898632, 0.8230806158192296, 0.9244642227978844, 0.491193046489552, 0.8496467360917445, 0.9214654220089654, 0.8498913165466996, 0.9366716311039948, 0.8624105375435109, 0.930296196214862, 0.6454505637756731, 0.9086197302809232, 0.8839029500039626, 0.8793408573540449, 0.9030690558726832, 0.975390999760896, 0.8383624402401182, 0.9490408329093444, 0.9411377857742366, 0.8326328332571471, 0.9087675653089671, 0.9544075920952448, 0.987789941701988, 0.8863282256941997, 0.8993206784037825, 0.9999999999999466, 0.964044612362283, 1.0, 1.0, 0.9999999999999992, 0.9289495827660116, 0.9508140717584852, 0.9097653585214521, 1.0, 1.0, 0.9999999999999992, 0.9548091936269332, 1.0, 1.0, 1.0, 1.0, 0.8774531307620115, 0.7543740456981316, 0.96965824691792, 0.9999999999999029, 0.8993407045925779, 1.0, 1.0, 1.0, 0.999999999999311, 1.0, 1.0, 0.9361319360645678, 1.0, 1.0, 0.96904403992683, 1.0, 1.0, 0.9999999999999865, 1.0, 1.0, 0.9752846716894344, 1.0, 1.0, 1.0, 0.9999999999324654, 0.9999999999987844, 9.306109063052935e-11, 0.9999999999997244, 1.0, 0.9999999999999996, 0.9999999999999728]}],\n",
       "                        {\"legend\": {\"bgcolor\": \"#F5F6F9\", \"font\": {\"color\": \"#4D5663\"}}, \"paper_bgcolor\": \"#F5F6F9\", \"plot_bgcolor\": \"#F5F6F9\", \"template\": {\"data\": {\"bar\": [{\"error_x\": {\"color\": \"#2a3f5f\"}, \"error_y\": {\"color\": \"#2a3f5f\"}, \"marker\": {\"line\": {\"color\": \"#E5ECF6\", \"width\": 0.5}}, \"type\": \"bar\"}], \"barpolar\": [{\"marker\": {\"line\": {\"color\": \"#E5ECF6\", \"width\": 0.5}}, \"type\": \"barpolar\"}], \"carpet\": [{\"aaxis\": {\"endlinecolor\": \"#2a3f5f\", \"gridcolor\": \"white\", \"linecolor\": \"white\", \"minorgridcolor\": \"white\", \"startlinecolor\": \"#2a3f5f\"}, \"baxis\": {\"endlinecolor\": \"#2a3f5f\", \"gridcolor\": \"white\", \"linecolor\": \"white\", \"minorgridcolor\": \"white\", \"startlinecolor\": \"#2a3f5f\"}, \"type\": \"carpet\"}], \"choropleth\": [{\"colorbar\": {\"outlinewidth\": 0, \"ticks\": \"\"}, \"type\": \"choropleth\"}], \"contour\": [{\"colorbar\": {\"outlinewidth\": 0, \"ticks\": \"\"}, \"colorscale\": [[0.0, \"#0d0887\"], [0.1111111111111111, \"#46039f\"], [0.2222222222222222, \"#7201a8\"], [0.3333333333333333, \"#9c179e\"], [0.4444444444444444, \"#bd3786\"], [0.5555555555555556, \"#d8576b\"], [0.6666666666666666, \"#ed7953\"], [0.7777777777777778, \"#fb9f3a\"], [0.8888888888888888, \"#fdca26\"], [1.0, \"#f0f921\"]], \"type\": \"contour\"}], \"contourcarpet\": [{\"colorbar\": {\"outlinewidth\": 0, \"ticks\": \"\"}, \"type\": \"contourcarpet\"}], \"heatmap\": [{\"colorbar\": {\"outlinewidth\": 0, \"ticks\": \"\"}, \"colorscale\": [[0.0, \"#0d0887\"], [0.1111111111111111, \"#46039f\"], [0.2222222222222222, \"#7201a8\"], [0.3333333333333333, \"#9c179e\"], [0.4444444444444444, \"#bd3786\"], [0.5555555555555556, \"#d8576b\"], [0.6666666666666666, \"#ed7953\"], [0.7777777777777778, \"#fb9f3a\"], [0.8888888888888888, \"#fdca26\"], [1.0, \"#f0f921\"]], \"type\": \"heatmap\"}], \"heatmapgl\": [{\"colorbar\": {\"outlinewidth\": 0, \"ticks\": \"\"}, \"colorscale\": [[0.0, \"#0d0887\"], [0.1111111111111111, \"#46039f\"], [0.2222222222222222, \"#7201a8\"], [0.3333333333333333, \"#9c179e\"], [0.4444444444444444, \"#bd3786\"], [0.5555555555555556, \"#d8576b\"], [0.6666666666666666, \"#ed7953\"], [0.7777777777777778, \"#fb9f3a\"], [0.8888888888888888, \"#fdca26\"], [1.0, \"#f0f921\"]], \"type\": \"heatmapgl\"}], \"histogram\": [{\"marker\": {\"colorbar\": {\"outlinewidth\": 0, \"ticks\": \"\"}}, \"type\": \"histogram\"}], \"histogram2d\": [{\"colorbar\": {\"outlinewidth\": 0, \"ticks\": \"\"}, \"colorscale\": [[0.0, \"#0d0887\"], [0.1111111111111111, \"#46039f\"], [0.2222222222222222, \"#7201a8\"], [0.3333333333333333, \"#9c179e\"], [0.4444444444444444, \"#bd3786\"], [0.5555555555555556, \"#d8576b\"], [0.6666666666666666, \"#ed7953\"], [0.7777777777777778, \"#fb9f3a\"], [0.8888888888888888, \"#fdca26\"], [1.0, \"#f0f921\"]], \"type\": \"histogram2d\"}], \"histogram2dcontour\": [{\"colorbar\": {\"outlinewidth\": 0, \"ticks\": \"\"}, \"colorscale\": [[0.0, \"#0d0887\"], [0.1111111111111111, \"#46039f\"], [0.2222222222222222, \"#7201a8\"], [0.3333333333333333, \"#9c179e\"], [0.4444444444444444, \"#bd3786\"], [0.5555555555555556, \"#d8576b\"], [0.6666666666666666, \"#ed7953\"], [0.7777777777777778, \"#fb9f3a\"], [0.8888888888888888, \"#fdca26\"], [1.0, \"#f0f921\"]], \"type\": \"histogram2dcontour\"}], \"mesh3d\": [{\"colorbar\": {\"outlinewidth\": 0, \"ticks\": \"\"}, \"type\": \"mesh3d\"}], \"parcoords\": [{\"line\": {\"colorbar\": {\"outlinewidth\": 0, \"ticks\": \"\"}}, \"type\": \"parcoords\"}], \"pie\": [{\"automargin\": true, \"type\": \"pie\"}], \"scatter\": [{\"marker\": {\"colorbar\": {\"outlinewidth\": 0, \"ticks\": \"\"}}, \"type\": \"scatter\"}], \"scatter3d\": [{\"line\": {\"colorbar\": {\"outlinewidth\": 0, \"ticks\": \"\"}}, \"marker\": {\"colorbar\": {\"outlinewidth\": 0, \"ticks\": \"\"}}, \"type\": \"scatter3d\"}], \"scattercarpet\": [{\"marker\": {\"colorbar\": {\"outlinewidth\": 0, \"ticks\": \"\"}}, \"type\": \"scattercarpet\"}], \"scattergeo\": [{\"marker\": {\"colorbar\": {\"outlinewidth\": 0, \"ticks\": \"\"}}, \"type\": \"scattergeo\"}], \"scattergl\": [{\"marker\": {\"colorbar\": {\"outlinewidth\": 0, \"ticks\": \"\"}}, \"type\": \"scattergl\"}], \"scattermapbox\": [{\"marker\": {\"colorbar\": {\"outlinewidth\": 0, \"ticks\": \"\"}}, \"type\": \"scattermapbox\"}], \"scatterpolar\": [{\"marker\": {\"colorbar\": {\"outlinewidth\": 0, \"ticks\": \"\"}}, \"type\": \"scatterpolar\"}], \"scatterpolargl\": [{\"marker\": {\"colorbar\": {\"outlinewidth\": 0, \"ticks\": \"\"}}, \"type\": \"scatterpolargl\"}], \"scatterternary\": [{\"marker\": {\"colorbar\": {\"outlinewidth\": 0, \"ticks\": \"\"}}, \"type\": \"scatterternary\"}], \"surface\": [{\"colorbar\": {\"outlinewidth\": 0, \"ticks\": \"\"}, \"colorscale\": [[0.0, \"#0d0887\"], [0.1111111111111111, \"#46039f\"], [0.2222222222222222, \"#7201a8\"], [0.3333333333333333, \"#9c179e\"], [0.4444444444444444, \"#bd3786\"], [0.5555555555555556, \"#d8576b\"], [0.6666666666666666, \"#ed7953\"], [0.7777777777777778, \"#fb9f3a\"], [0.8888888888888888, \"#fdca26\"], [1.0, \"#f0f921\"]], \"type\": \"surface\"}], \"table\": [{\"cells\": {\"fill\": {\"color\": \"#EBF0F8\"}, \"line\": {\"color\": \"white\"}}, \"header\": {\"fill\": {\"color\": \"#C8D4E3\"}, \"line\": {\"color\": \"white\"}}, \"type\": \"table\"}]}, \"layout\": {\"annotationdefaults\": {\"arrowcolor\": \"#2a3f5f\", \"arrowhead\": 0, \"arrowwidth\": 1}, \"coloraxis\": {\"colorbar\": {\"outlinewidth\": 0, \"ticks\": \"\"}}, \"colorscale\": {\"diverging\": [[0, \"#8e0152\"], [0.1, \"#c51b7d\"], [0.2, \"#de77ae\"], [0.3, \"#f1b6da\"], [0.4, \"#fde0ef\"], [0.5, \"#f7f7f7\"], [0.6, \"#e6f5d0\"], [0.7, \"#b8e186\"], [0.8, \"#7fbc41\"], [0.9, \"#4d9221\"], [1, \"#276419\"]], \"sequential\": [[0.0, \"#0d0887\"], [0.1111111111111111, \"#46039f\"], [0.2222222222222222, \"#7201a8\"], [0.3333333333333333, \"#9c179e\"], [0.4444444444444444, \"#bd3786\"], [0.5555555555555556, \"#d8576b\"], [0.6666666666666666, \"#ed7953\"], [0.7777777777777778, \"#fb9f3a\"], [0.8888888888888888, \"#fdca26\"], [1.0, \"#f0f921\"]], \"sequentialminus\": [[0.0, \"#0d0887\"], [0.1111111111111111, \"#46039f\"], [0.2222222222222222, \"#7201a8\"], [0.3333333333333333, \"#9c179e\"], [0.4444444444444444, \"#bd3786\"], [0.5555555555555556, \"#d8576b\"], [0.6666666666666666, \"#ed7953\"], [0.7777777777777778, \"#fb9f3a\"], [0.8888888888888888, \"#fdca26\"], [1.0, \"#f0f921\"]]}, \"colorway\": [\"#636efa\", \"#EF553B\", \"#00cc96\", \"#ab63fa\", \"#FFA15A\", \"#19d3f3\", \"#FF6692\", \"#B6E880\", \"#FF97FF\", \"#FECB52\"], \"font\": {\"color\": \"#2a3f5f\"}, \"geo\": {\"bgcolor\": \"white\", \"lakecolor\": \"white\", \"landcolor\": \"#E5ECF6\", \"showlakes\": true, \"showland\": true, \"subunitcolor\": \"white\"}, \"hoverlabel\": {\"align\": \"left\"}, \"hovermode\": \"closest\", \"mapbox\": {\"style\": \"light\"}, \"paper_bgcolor\": \"white\", \"plot_bgcolor\": \"#E5ECF6\", \"polar\": {\"angularaxis\": {\"gridcolor\": \"white\", \"linecolor\": \"white\", \"ticks\": \"\"}, \"bgcolor\": \"#E5ECF6\", \"radialaxis\": {\"gridcolor\": \"white\", \"linecolor\": \"white\", \"ticks\": \"\"}}, \"scene\": {\"xaxis\": {\"backgroundcolor\": \"#E5ECF6\", \"gridcolor\": \"white\", \"gridwidth\": 2, \"linecolor\": \"white\", \"showbackground\": true, \"ticks\": \"\", \"zerolinecolor\": \"white\"}, \"yaxis\": {\"backgroundcolor\": \"#E5ECF6\", \"gridcolor\": \"white\", \"gridwidth\": 2, \"linecolor\": \"white\", \"showbackground\": true, \"ticks\": \"\", \"zerolinecolor\": \"white\"}, \"zaxis\": {\"backgroundcolor\": \"#E5ECF6\", \"gridcolor\": \"white\", \"gridwidth\": 2, \"linecolor\": \"white\", \"showbackground\": true, \"ticks\": \"\", \"zerolinecolor\": \"white\"}}, \"shapedefaults\": {\"line\": {\"color\": \"#2a3f5f\"}}, \"ternary\": {\"aaxis\": {\"gridcolor\": \"white\", \"linecolor\": \"white\", \"ticks\": \"\"}, \"baxis\": {\"gridcolor\": \"white\", \"linecolor\": \"white\", \"ticks\": \"\"}, \"bgcolor\": \"#E5ECF6\", \"caxis\": {\"gridcolor\": \"white\", \"linecolor\": \"white\", \"ticks\": \"\"}}, \"title\": {\"x\": 0.05}, \"xaxis\": {\"automargin\": true, \"gridcolor\": \"white\", \"linecolor\": \"white\", \"ticks\": \"\", \"title\": {\"standoff\": 15}, \"zerolinecolor\": \"white\", \"zerolinewidth\": 2}, \"yaxis\": {\"automargin\": true, \"gridcolor\": \"white\", \"linecolor\": \"white\", \"ticks\": \"\", \"title\": {\"standoff\": 15}, \"zerolinecolor\": \"white\", \"zerolinewidth\": 2}}}, \"title\": {\"font\": {\"color\": \"#4D5663\"}, \"text\": \"Growth rate vs growth rate dampening per city in England + Wales\"}, \"xaxis\": {\"gridcolor\": \"#E1E5ED\", \"showgrid\": true, \"tickfont\": {\"color\": \"#4D5663\"}, \"title\": {\"font\": {\"color\": \"#4D5663\"}, \"text\": \"Growth rate (r)\"}, \"zerolinecolor\": \"#E1E5ED\"}, \"yaxis\": {\"autorange\": \"reversed\", \"gridcolor\": \"#E1E5ED\", \"showgrid\": true, \"tickfont\": {\"color\": \"#4D5663\"}, \"title\": {\"font\": {\"color\": \"#4D5663\"}, \"text\": \"Growth rate dampening (p)\"}, \"zerolinecolor\": \"#E1E5ED\"}},\n",
       "                        {\"responsive\": true}\n",
       "                    ).then(function(){\n",
       "                            \n",
       "var gd = document.getElementById('b13adda8-0f85-4f25-b588-178b3f9d7a43');\n",
       "var x = new MutationObserver(function (mutations, observer) {{\n",
       "        var display = window.getComputedStyle(gd).display;\n",
       "        if (!display || display === 'none') {{\n",
       "            console.log([gd, 'removed!']);\n",
       "            Plotly.purge(gd);\n",
       "            observer.disconnect();\n",
       "        }}\n",
       "}});\n",
       "\n",
       "// Listen for the removal of the full notebook cells\n",
       "var notebookContainer = gd.closest('#notebook-container');\n",
       "if (notebookContainer) {{\n",
       "    x.observe(notebookContainer, {childList: true});\n",
       "}}\n",
       "\n",
       "// Listen for the clearing of the current output cell\n",
       "var outputEl = gd.closest('.output');\n",
       "if (outputEl) {{\n",
       "    x.observe(outputEl, {childList: true});\n",
       "}}\n",
       "\n",
       "                        })\n",
       "                };\n",
       "                });\n",
       "            </script>\n",
       "        </div>"
      ]
     },
     "metadata": {},
     "output_type": "display_data"
    }
   ],
   "source": [
    "# Plot with confidence intervals\n",
    "\n",
    "fig = UKcases.popdata.iplot(x=\"r\",y=\"p\",mode=\"markers\",\n",
    "                            size=np.log(UKcases.popdata.LatestTotalCases)*3,\n",
    "                            xTitle=\"Growth rate (r)\", yTitle=\"Growth rate dampening (p)\",\n",
    "                            title=\"Growth rate vs growth rate dampening per city in England + Wales\",\n",
    "                            asFigure=True)\n",
    "\n",
    "fig.update_yaxes(autorange=\"reversed\")\n",
    "\n",
    "r_se_up = np.where(UKcases.popdata.r.values+UKcases.popdata.r_se.values>10, 10-UKcases.popdata.r.values, UKcases.popdata.r_se.values)\n",
    "r_se_down = np.where(UKcases.popdata.r.values-UKcases.popdata.r_se.values<0, UKcases.popdata.r.values, UKcases.popdata.r_se.values)\n",
    "\n",
    "p_se_up = np.where(UKcases.popdata.p.values+UKcases.popdata.p_se.values>1, 1-UKcases.popdata.p.values, UKcases.popdata.p_se.values)\n",
    "p_se_down = np.where(UKcases.popdata.p.values-UKcases.popdata.p_se.values<0, UKcases.popdata.p.values, UKcases.popdata.p_se.values)\n",
    "\n",
    "fig.update_traces(hovertemplate = '<br><b>%{text}</b>'\n",
    "                                  '<br>Growth rate (r): %{x:.2f}'\n",
    "                                  '<br>Growth dampening (p): %{y:.2f}',\n",
    "                  text = [x+\" (latest total cases: \"+str(int(y))+\")\" for (x,y) in zip(UKcases.popdata.Name.values, UKcases.popdata.LatestTotalCases.values)],\n",
    "                  error_y=dict(\n",
    "                            type='data', # value of error bar given in data coordinates\n",
    "                            symmetric=False,\n",
    "                            array = p_se_up,\n",
    "                            arrayminus = p_se_down,\n",
    "                            color='rgba(147,112,219,0.1)',\n",
    "                            visible=True),\n",
    "                  error_x=dict(\n",
    "                            type='data', # value of error bar given in data coordinates\n",
    "                            symmetric=False,\n",
    "                            array=r_se_up,\n",
    "                            arrayminus=r_se_down,\n",
    "                            color='rgba(147,112,219,0.1)',\n",
    "                            visible=True),\n",
    "                                )\n",
    "\n",
    "fig.show()"
   ]
  }
 ],
 "metadata": {
  "kernelspec": {
   "display_name": "Python 3",
   "language": "python",
   "name": "python3"
  },
  "language_info": {
   "codemirror_mode": {
    "name": "ipython",
    "version": 3
   },
   "file_extension": ".py",
   "mimetype": "text/x-python",
   "name": "python",
   "nbconvert_exporter": "python",
   "pygments_lexer": "ipython3",
   "version": "3.8.2"
  }
 },
 "nbformat": 4,
 "nbformat_minor": 4
}
