{
 "cells": [
  {
   "cell_type": "code",
   "execution_count": 1,
   "metadata": {},
   "outputs": [
    {
     "data": {
      "text/html": [
       "        <script type=\"text/javascript\">\n",
       "        window.PlotlyConfig = {MathJaxConfig: 'local'};\n",
       "        if (window.MathJax) {MathJax.Hub.Config({SVG: {font: \"STIX-Web\"}});}\n",
       "        if (typeof require !== 'undefined') {\n",
       "        require.undef(\"plotly\");\n",
       "        requirejs.config({\n",
       "            paths: {\n",
       "                'plotly': ['https://cdn.plot.ly/plotly-latest.min']\n",
       "            }\n",
       "        });\n",
       "        require(['plotly'], function(Plotly) {\n",
       "            window._Plotly = Plotly;\n",
       "        });\n",
       "        }\n",
       "        </script>\n",
       "        "
      ]
     },
     "metadata": {},
     "output_type": "display_data"
    },
    {
     "data": {
      "application/javascript": [
       "require.config({\n",
       "    paths: {\n",
       "        datatables: 'https://cdn.datatables.net/1.10.19/js/jquery.dataTables.min',\n",
       "    }\n",
       "});\n",
       "\n",
       "$('head').append('<link rel=\"stylesheet\" type=\"text/css\" \\\n",
       "                href = \"https://cdn.datatables.net/1.10.19/css/jquery.dataTables.min.css\" > ');\n",
       "\n",
       "$('head').append('<style> table td { text-overflow: ellipsis; overflow: hidden; } </style>');\n",
       "\n",
       "$('head').append(`<script>\n",
       "function eval_functions(map_or_text) {\n",
       "    if (typeof map_or_text === \"string\") {\n",
       "        if (map_or_text.startsWith(\"function\")) {\n",
       "            try {\n",
       "                // Note: parenthesis are required around the whole expression for eval to return a value!\n",
       "                // See https://stackoverflow.com/a/7399078/911298.\n",
       "                //\n",
       "                // eval(\"local_fun = \" + map_or_text) would fail because local_fun is not declared\n",
       "                // (using var, let or const would work, but it would only be declared in the local scope\n",
       "                // and therefore the value could not be retrieved).\n",
       "                const func = eval(\"(\" + map_or_text + \")\");\n",
       "                if (typeof func !== \"function\") {\n",
       "                    // Note: backquotes are super convenient!\n",
       "                    // https://developer.mozilla.org/en-US/docs/Web/JavaScript/Reference/Template_literals\n",
       "                    console.error(\"Evaluated expression \" + map_or_text + \" is not a function (type is \" + typeof func + \")\");\n",
       "                    return map_or_text;\n",
       "                }\n",
       "                // Return the function\n",
       "                return func;\n",
       "            } catch (e) {\n",
       "                // Make sure to print the error with a second argument to console.error().\n",
       "                console.error(\"itables was not able to parse \" + map_or_text, e);\n",
       "            }\n",
       "        }\n",
       "    } else if (typeof map_or_text === \"object\") {\n",
       "        if (map_or_text instanceof Array) {\n",
       "            // Note: \"var\" is now superseded by \"let\" and \"const\".\n",
       "            // https://medium.com/javascript-scene/javascript-es6-var-let-or-const-ba58b8dcde75\n",
       "            const result = [];\n",
       "            // Note: \"for of\" is the best way to iterate through an iterable.\n",
       "            // https://developer.mozilla.org/en-US/docs/Web/JavaScript/Reference/Statements/for...of\n",
       "            for (const item of map_or_text) {\n",
       "                result.push(eval_functions(item));\n",
       "            }\n",
       "            return result;\n",
       "\n",
       "            // Alternatively, more functional approach in one line:\n",
       "            // return map_or_text.map(eval_functions);\n",
       "        } else {\n",
       "            const result = {};\n",
       "            // Object.keys() is safer than \"for in\" because otherwise you might have keys\n",
       "            // that aren't defined in the object itself.\n",
       "            //\n",
       "            // See https://stackoverflow.com/a/684692/911298.\n",
       "            for (const item of Object.keys(map_or_text)) {\n",
       "                result[item] = eval_functions(map_or_text[item]);\n",
       "            }\n",
       "            return result;\n",
       "        }\n",
       "    }\n",
       "\n",
       "    return map_or_text;\n",
       "}\n",
       "</` + 'script>');"
      ],
      "text/plain": [
       "<IPython.core.display.Javascript object>"
      ]
     },
     "metadata": {},
     "output_type": "display_data"
    }
   ],
   "source": [
    "import pandas as pd\n",
    "import numpy as np\n",
    "from scipy.integrate import odeint\n",
    "from Source.Classes import Model, epidemic\n",
    "import itables.interactive"
   ]
  },
  {
   "cell_type": "code",
   "execution_count": 2,
   "metadata": {},
   "outputs": [],
   "source": [
    "# Define Generalized Logistic Growth Model\n",
    "\n",
    "def GLM(t, r, p, K, C_0 = 1):\n",
    "    def GLM_ode(C_t, t):\n",
    "        return r*pow(C_t, p)*(1-C_t/K)\n",
    "    GLM_int = odeint(GLM_ode, C_0, t)\n",
    "    return GLM_int[:,0]\n",
    "\n",
    "# Define default parameters for search\n",
    "\n",
    "par0 = {\"r\": 0.8, \"p\": 1, \"K\":\"0.2*pop\"} # assumed total outbreak size is 20% of pop\n",
    "parlower = {\"r\": 0, \"p\": 0, \"K\":\"0.1*pop\"} # assumed minimum outbreak size is 10% of pop\n",
    "parupper = {\"r\": 10, \"p\": 1, \"K\":\"0.8*pop\"} # assumed max outbreak size is 80% of pop\n",
    "\n",
    "# Initialise the Model\n",
    "\n",
    "GLM_Model = Model(\"GLM\", GLM, par0, parupper, parlower)"
   ]
  },
  {
   "cell_type": "code",
   "execution_count": 3,
   "metadata": {},
   "outputs": [],
   "source": [
    "# Load data\n",
    "\n",
    "source = \"https://raw.githubusercontent.com/tomwhite/covid-19-uk-data/master/data/covid-19-cases-uk.csv\"\n",
    "utla_raw = pd.read_csv(source) # Raw Upper Tier Local Authority (UTLA) Case Counts utla_raw.to_csv(\"dailycases.csv\")\n",
    "popdata = pd.read_csv(\"popdata.csv\")"
   ]
  },
  {
   "cell_type": "code",
   "execution_count": 4,
   "metadata": {},
   "outputs": [],
   "source": [
    "# Clean data\n",
    "\n",
    "def str2num(s):\n",
    "    \n",
    "    '''\n",
    "    float <- str\n",
    "    \n",
    "    Accounts for irregular phrases such as '1 to 4' in the counts data\n",
    "    by taking the mean of all integers occuring in the phrase.\n",
    "    '''\n",
    "    \n",
    "    assert type(s) is str, \"Case counts is not a string\"\n",
    "    counts = [int(n) for n in s.split() if s.isdigit()]\n",
    "    if len(counts):\n",
    "        return np.mean(counts)\n",
    "    return np.nan\n",
    "        \n",
    "utla_raw.TotalCases = [str2num(s) for s in utla_raw.TotalCases]\n",
    "utla_raw.dropna(subset=['TotalCases'],inplace=True)\n",
    "utla_raw.Date = pd.to_datetime(utla_raw.Date)\n",
    "utla_raw = utla_raw[utla_raw.Date < pd.to_datetime('today').strftime(\"%m/%d/%Y\")] # remove today's data as it seems to be underreported\n"
   ]
  },
  {
   "cell_type": "code",
   "execution_count": 5,
   "metadata": {},
   "outputs": [],
   "source": [
    "UKcases = epidemic(casedata = utla_raw, popdata = popdata)"
   ]
  },
  {
   "cell_type": "code",
   "execution_count": 6,
   "metadata": {},
   "outputs": [
    {
     "data": {
      "application/vnd.plotly.v1+json": {
       "config": {
        "plotlyServerURL": "https://plot.ly"
       },
       "data": [
        {
         "line": {
          "color": "rgba(255, 153, 51, 1.0)",
          "dash": "solid",
          "shape": "linear",
          "width": 1.3
         },
         "marker": {
          "size": 12,
          "symbol": "circle"
         },
         "mode": "lines+markers",
         "name": "TotalCases",
         "text": "",
         "type": "scatter",
         "x": [
          "2020-03-07",
          "2020-03-08",
          "2020-03-09",
          "2020-03-10",
          "2020-03-11",
          "2020-03-12",
          "2020-03-13",
          "2020-03-14",
          "2020-03-15",
          "2020-03-16",
          "2020-03-17",
          "2020-03-18",
          "2020-03-19",
          "2020-03-20",
          "2020-03-21",
          "2020-03-22",
          "2020-03-23",
          "2020-03-24",
          "2020-03-25",
          "2020-03-26",
          "2020-03-27",
          "2020-03-28",
          "2020-03-29"
         ],
         "y": [
          1,
          1,
          1,
          1,
          2,
          2,
          2,
          5,
          8,
          15,
          20,
          25,
          34,
          34,
          75,
          91,
          137,
          187,
          228,
          290,
          366,
          428,
          513
         ]
        },
        {
         "name": "DailyIncidents",
         "type": "bar",
         "x": [
          "2020-03-07T00:00:00",
          "2020-03-08T00:00:00",
          "2020-03-09T00:00:00",
          "2020-03-10T00:00:00",
          "2020-03-11T00:00:00",
          "2020-03-12T00:00:00",
          "2020-03-13T00:00:00",
          "2020-03-14T00:00:00",
          "2020-03-15T00:00:00",
          "2020-03-16T00:00:00",
          "2020-03-17T00:00:00",
          "2020-03-18T00:00:00",
          "2020-03-19T00:00:00",
          "2020-03-20T00:00:00",
          "2020-03-21T00:00:00",
          "2020-03-22T00:00:00",
          "2020-03-23T00:00:00",
          "2020-03-24T00:00:00",
          "2020-03-25T00:00:00",
          "2020-03-26T00:00:00",
          "2020-03-27T00:00:00",
          "2020-03-28T00:00:00",
          "2020-03-29T00:00:00"
         ],
         "y": [
          1,
          0,
          0,
          0,
          1,
          0,
          0,
          3,
          3,
          7,
          5,
          5,
          9,
          0,
          41,
          16,
          46,
          50,
          41,
          62,
          76,
          62,
          85
         ]
        },
        {
         "line": {
          "color": "green"
         },
         "name": "EstTotalCases (GLM)",
         "type": "scatter",
         "x": [
          "2020-03-07T00:00:00",
          "2020-03-08T00:00:00",
          "2020-03-09T00:00:00",
          "2020-03-10T00:00:00",
          "2020-03-11T00:00:00",
          "2020-03-12T00:00:00",
          "2020-03-13T00:00:00",
          "2020-03-14T00:00:00",
          "2020-03-15T00:00:00",
          "2020-03-16T00:00:00",
          "2020-03-17T00:00:00",
          "2020-03-18T00:00:00",
          "2020-03-19T00:00:00",
          "2020-03-20T00:00:00",
          "2020-03-21T00:00:00",
          "2020-03-22T00:00:00",
          "2020-03-23T00:00:00",
          "2020-03-24T00:00:00",
          "2020-03-25T00:00:00",
          "2020-03-26T00:00:00",
          "2020-03-27T00:00:00",
          "2020-03-28T00:00:00",
          "2020-03-29T00:00:00",
          "2020-03-30T00:00:00",
          "2020-03-31T00:00:00",
          "2020-04-01T00:00:00",
          "2020-04-02T00:00:00",
          "2020-04-03T00:00:00",
          "2020-04-04T00:00:00",
          "2020-04-05T00:00:00"
         ],
         "y": [
          1,
          1.4756256551510238,
          2.146049500834088,
          3.0792503903135087,
          4.3631375974882864,
          6.11036604257501,
          8.464083254129502,
          11.604745861824775,
          15.7581570296769,
          21.204890230926246,
          28.291278362564622,
          37.44216334714405,
          49.17560878663045,
          64.11979573417035,
          83.03232470532959,
          106.82215314724678,
          136.57439442792787,
          173.57819370008383,
          219.35787292534914,
          275.7074990718292,
          344.72896974738137,
          428.87362327171104,
          530.9872702347179,
          654.3583765230075,
          802.768851503658,
          980.5468062813276,
          1192.620019261943,
          1444.5686570758553,
          1742.6751277391713,
          2093.9683623350306
         ]
        },
        {
         "marker": {
          "color": "blue"
         },
         "name": "EstDailyIncidents (GLM)",
         "type": "bar",
         "x": [
          "2020-03-07T00:00:00",
          "2020-03-08T00:00:00",
          "2020-03-09T00:00:00",
          "2020-03-10T00:00:00",
          "2020-03-11T00:00:00",
          "2020-03-12T00:00:00",
          "2020-03-13T00:00:00",
          "2020-03-14T00:00:00",
          "2020-03-15T00:00:00",
          "2020-03-16T00:00:00",
          "2020-03-17T00:00:00",
          "2020-03-18T00:00:00",
          "2020-03-19T00:00:00",
          "2020-03-20T00:00:00",
          "2020-03-21T00:00:00",
          "2020-03-22T00:00:00",
          "2020-03-23T00:00:00",
          "2020-03-24T00:00:00",
          "2020-03-25T00:00:00",
          "2020-03-26T00:00:00",
          "2020-03-27T00:00:00",
          "2020-03-28T00:00:00",
          "2020-03-29T00:00:00",
          "2020-03-30T00:00:00",
          "2020-03-31T00:00:00",
          "2020-04-01T00:00:00",
          "2020-04-02T00:00:00",
          "2020-04-03T00:00:00",
          "2020-04-04T00:00:00",
          "2020-04-05T00:00:00"
         ],
         "y": [
          0.47562565515102384,
          0.6704238456830642,
          0.9332008894794206,
          1.2838872071747778,
          1.7472284450867237,
          2.3537172115544918,
          3.1406626076952726,
          4.153411167852125,
          5.446733201249346,
          7.086388131638376,
          9.150884984579431,
          11.733445439486395,
          14.944186947539905,
          18.912528971159233,
          23.789828441917194,
          29.75224128068109,
          37.00379927215596,
          45.77967922526531,
          56.34962614648006,
          69.02147067555217,
          84.14465352432967,
          102.11364696300689,
          123.37110628828952,
          148.41047498065052,
          177.7779547776696,
          212.0732129806155,
          251.94863781391223,
          298.10647066331603,
          351.2932345958593
         ]
        }
       ],
       "layout": {
        "legend": {
         "bgcolor": "#F5F6F9",
         "font": {
          "color": "#4D5663"
         }
        },
        "paper_bgcolor": "#F5F6F9",
        "plot_bgcolor": "#F5F6F9",
        "template": {
         "data": {
          "bar": [
           {
            "error_x": {
             "color": "#2a3f5f"
            },
            "error_y": {
             "color": "#2a3f5f"
            },
            "marker": {
             "line": {
              "color": "#E5ECF6",
              "width": 0.5
             }
            },
            "type": "bar"
           }
          ],
          "barpolar": [
           {
            "marker": {
             "line": {
              "color": "#E5ECF6",
              "width": 0.5
             }
            },
            "type": "barpolar"
           }
          ],
          "carpet": [
           {
            "aaxis": {
             "endlinecolor": "#2a3f5f",
             "gridcolor": "white",
             "linecolor": "white",
             "minorgridcolor": "white",
             "startlinecolor": "#2a3f5f"
            },
            "baxis": {
             "endlinecolor": "#2a3f5f",
             "gridcolor": "white",
             "linecolor": "white",
             "minorgridcolor": "white",
             "startlinecolor": "#2a3f5f"
            },
            "type": "carpet"
           }
          ],
          "choropleth": [
           {
            "colorbar": {
             "outlinewidth": 0,
             "ticks": ""
            },
            "type": "choropleth"
           }
          ],
          "contour": [
           {
            "colorbar": {
             "outlinewidth": 0,
             "ticks": ""
            },
            "colorscale": [
             [
              0,
              "#0d0887"
             ],
             [
              0.1111111111111111,
              "#46039f"
             ],
             [
              0.2222222222222222,
              "#7201a8"
             ],
             [
              0.3333333333333333,
              "#9c179e"
             ],
             [
              0.4444444444444444,
              "#bd3786"
             ],
             [
              0.5555555555555556,
              "#d8576b"
             ],
             [
              0.6666666666666666,
              "#ed7953"
             ],
             [
              0.7777777777777778,
              "#fb9f3a"
             ],
             [
              0.8888888888888888,
              "#fdca26"
             ],
             [
              1,
              "#f0f921"
             ]
            ],
            "type": "contour"
           }
          ],
          "contourcarpet": [
           {
            "colorbar": {
             "outlinewidth": 0,
             "ticks": ""
            },
            "type": "contourcarpet"
           }
          ],
          "heatmap": [
           {
            "colorbar": {
             "outlinewidth": 0,
             "ticks": ""
            },
            "colorscale": [
             [
              0,
              "#0d0887"
             ],
             [
              0.1111111111111111,
              "#46039f"
             ],
             [
              0.2222222222222222,
              "#7201a8"
             ],
             [
              0.3333333333333333,
              "#9c179e"
             ],
             [
              0.4444444444444444,
              "#bd3786"
             ],
             [
              0.5555555555555556,
              "#d8576b"
             ],
             [
              0.6666666666666666,
              "#ed7953"
             ],
             [
              0.7777777777777778,
              "#fb9f3a"
             ],
             [
              0.8888888888888888,
              "#fdca26"
             ],
             [
              1,
              "#f0f921"
             ]
            ],
            "type": "heatmap"
           }
          ],
          "heatmapgl": [
           {
            "colorbar": {
             "outlinewidth": 0,
             "ticks": ""
            },
            "colorscale": [
             [
              0,
              "#0d0887"
             ],
             [
              0.1111111111111111,
              "#46039f"
             ],
             [
              0.2222222222222222,
              "#7201a8"
             ],
             [
              0.3333333333333333,
              "#9c179e"
             ],
             [
              0.4444444444444444,
              "#bd3786"
             ],
             [
              0.5555555555555556,
              "#d8576b"
             ],
             [
              0.6666666666666666,
              "#ed7953"
             ],
             [
              0.7777777777777778,
              "#fb9f3a"
             ],
             [
              0.8888888888888888,
              "#fdca26"
             ],
             [
              1,
              "#f0f921"
             ]
            ],
            "type": "heatmapgl"
           }
          ],
          "histogram": [
           {
            "marker": {
             "colorbar": {
              "outlinewidth": 0,
              "ticks": ""
             }
            },
            "type": "histogram"
           }
          ],
          "histogram2d": [
           {
            "colorbar": {
             "outlinewidth": 0,
             "ticks": ""
            },
            "colorscale": [
             [
              0,
              "#0d0887"
             ],
             [
              0.1111111111111111,
              "#46039f"
             ],
             [
              0.2222222222222222,
              "#7201a8"
             ],
             [
              0.3333333333333333,
              "#9c179e"
             ],
             [
              0.4444444444444444,
              "#bd3786"
             ],
             [
              0.5555555555555556,
              "#d8576b"
             ],
             [
              0.6666666666666666,
              "#ed7953"
             ],
             [
              0.7777777777777778,
              "#fb9f3a"
             ],
             [
              0.8888888888888888,
              "#fdca26"
             ],
             [
              1,
              "#f0f921"
             ]
            ],
            "type": "histogram2d"
           }
          ],
          "histogram2dcontour": [
           {
            "colorbar": {
             "outlinewidth": 0,
             "ticks": ""
            },
            "colorscale": [
             [
              0,
              "#0d0887"
             ],
             [
              0.1111111111111111,
              "#46039f"
             ],
             [
              0.2222222222222222,
              "#7201a8"
             ],
             [
              0.3333333333333333,
              "#9c179e"
             ],
             [
              0.4444444444444444,
              "#bd3786"
             ],
             [
              0.5555555555555556,
              "#d8576b"
             ],
             [
              0.6666666666666666,
              "#ed7953"
             ],
             [
              0.7777777777777778,
              "#fb9f3a"
             ],
             [
              0.8888888888888888,
              "#fdca26"
             ],
             [
              1,
              "#f0f921"
             ]
            ],
            "type": "histogram2dcontour"
           }
          ],
          "mesh3d": [
           {
            "colorbar": {
             "outlinewidth": 0,
             "ticks": ""
            },
            "type": "mesh3d"
           }
          ],
          "parcoords": [
           {
            "line": {
             "colorbar": {
              "outlinewidth": 0,
              "ticks": ""
             }
            },
            "type": "parcoords"
           }
          ],
          "pie": [
           {
            "automargin": true,
            "type": "pie"
           }
          ],
          "scatter": [
           {
            "marker": {
             "colorbar": {
              "outlinewidth": 0,
              "ticks": ""
             }
            },
            "type": "scatter"
           }
          ],
          "scatter3d": [
           {
            "line": {
             "colorbar": {
              "outlinewidth": 0,
              "ticks": ""
             }
            },
            "marker": {
             "colorbar": {
              "outlinewidth": 0,
              "ticks": ""
             }
            },
            "type": "scatter3d"
           }
          ],
          "scattercarpet": [
           {
            "marker": {
             "colorbar": {
              "outlinewidth": 0,
              "ticks": ""
             }
            },
            "type": "scattercarpet"
           }
          ],
          "scattergeo": [
           {
            "marker": {
             "colorbar": {
              "outlinewidth": 0,
              "ticks": ""
             }
            },
            "type": "scattergeo"
           }
          ],
          "scattergl": [
           {
            "marker": {
             "colorbar": {
              "outlinewidth": 0,
              "ticks": ""
             }
            },
            "type": "scattergl"
           }
          ],
          "scattermapbox": [
           {
            "marker": {
             "colorbar": {
              "outlinewidth": 0,
              "ticks": ""
             }
            },
            "type": "scattermapbox"
           }
          ],
          "scatterpolar": [
           {
            "marker": {
             "colorbar": {
              "outlinewidth": 0,
              "ticks": ""
             }
            },
            "type": "scatterpolar"
           }
          ],
          "scatterpolargl": [
           {
            "marker": {
             "colorbar": {
              "outlinewidth": 0,
              "ticks": ""
             }
            },
            "type": "scatterpolargl"
           }
          ],
          "scatterternary": [
           {
            "marker": {
             "colorbar": {
              "outlinewidth": 0,
              "ticks": ""
             }
            },
            "type": "scatterternary"
           }
          ],
          "surface": [
           {
            "colorbar": {
             "outlinewidth": 0,
             "ticks": ""
            },
            "colorscale": [
             [
              0,
              "#0d0887"
             ],
             [
              0.1111111111111111,
              "#46039f"
             ],
             [
              0.2222222222222222,
              "#7201a8"
             ],
             [
              0.3333333333333333,
              "#9c179e"
             ],
             [
              0.4444444444444444,
              "#bd3786"
             ],
             [
              0.5555555555555556,
              "#d8576b"
             ],
             [
              0.6666666666666666,
              "#ed7953"
             ],
             [
              0.7777777777777778,
              "#fb9f3a"
             ],
             [
              0.8888888888888888,
              "#fdca26"
             ],
             [
              1,
              "#f0f921"
             ]
            ],
            "type": "surface"
           }
          ],
          "table": [
           {
            "cells": {
             "fill": {
              "color": "#EBF0F8"
             },
             "line": {
              "color": "white"
             }
            },
            "header": {
             "fill": {
              "color": "#C8D4E3"
             },
             "line": {
              "color": "white"
             }
            },
            "type": "table"
           }
          ]
         },
         "layout": {
          "annotationdefaults": {
           "arrowcolor": "#2a3f5f",
           "arrowhead": 0,
           "arrowwidth": 1
          },
          "coloraxis": {
           "colorbar": {
            "outlinewidth": 0,
            "ticks": ""
           }
          },
          "colorscale": {
           "diverging": [
            [
             0,
             "#8e0152"
            ],
            [
             0.1,
             "#c51b7d"
            ],
            [
             0.2,
             "#de77ae"
            ],
            [
             0.3,
             "#f1b6da"
            ],
            [
             0.4,
             "#fde0ef"
            ],
            [
             0.5,
             "#f7f7f7"
            ],
            [
             0.6,
             "#e6f5d0"
            ],
            [
             0.7,
             "#b8e186"
            ],
            [
             0.8,
             "#7fbc41"
            ],
            [
             0.9,
             "#4d9221"
            ],
            [
             1,
             "#276419"
            ]
           ],
           "sequential": [
            [
             0,
             "#0d0887"
            ],
            [
             0.1111111111111111,
             "#46039f"
            ],
            [
             0.2222222222222222,
             "#7201a8"
            ],
            [
             0.3333333333333333,
             "#9c179e"
            ],
            [
             0.4444444444444444,
             "#bd3786"
            ],
            [
             0.5555555555555556,
             "#d8576b"
            ],
            [
             0.6666666666666666,
             "#ed7953"
            ],
            [
             0.7777777777777778,
             "#fb9f3a"
            ],
            [
             0.8888888888888888,
             "#fdca26"
            ],
            [
             1,
             "#f0f921"
            ]
           ],
           "sequentialminus": [
            [
             0,
             "#0d0887"
            ],
            [
             0.1111111111111111,
             "#46039f"
            ],
            [
             0.2222222222222222,
             "#7201a8"
            ],
            [
             0.3333333333333333,
             "#9c179e"
            ],
            [
             0.4444444444444444,
             "#bd3786"
            ],
            [
             0.5555555555555556,
             "#d8576b"
            ],
            [
             0.6666666666666666,
             "#ed7953"
            ],
            [
             0.7777777777777778,
             "#fb9f3a"
            ],
            [
             0.8888888888888888,
             "#fdca26"
            ],
            [
             1,
             "#f0f921"
            ]
           ]
          },
          "colorway": [
           "#636efa",
           "#EF553B",
           "#00cc96",
           "#ab63fa",
           "#FFA15A",
           "#19d3f3",
           "#FF6692",
           "#B6E880",
           "#FF97FF",
           "#FECB52"
          ],
          "font": {
           "color": "#2a3f5f"
          },
          "geo": {
           "bgcolor": "white",
           "lakecolor": "white",
           "landcolor": "#E5ECF6",
           "showlakes": true,
           "showland": true,
           "subunitcolor": "white"
          },
          "hoverlabel": {
           "align": "left"
          },
          "hovermode": "closest",
          "mapbox": {
           "style": "light"
          },
          "paper_bgcolor": "white",
          "plot_bgcolor": "#E5ECF6",
          "polar": {
           "angularaxis": {
            "gridcolor": "white",
            "linecolor": "white",
            "ticks": ""
           },
           "bgcolor": "#E5ECF6",
           "radialaxis": {
            "gridcolor": "white",
            "linecolor": "white",
            "ticks": ""
           }
          },
          "scene": {
           "xaxis": {
            "backgroundcolor": "#E5ECF6",
            "gridcolor": "white",
            "gridwidth": 2,
            "linecolor": "white",
            "showbackground": true,
            "ticks": "",
            "zerolinecolor": "white"
           },
           "yaxis": {
            "backgroundcolor": "#E5ECF6",
            "gridcolor": "white",
            "gridwidth": 2,
            "linecolor": "white",
            "showbackground": true,
            "ticks": "",
            "zerolinecolor": "white"
           },
           "zaxis": {
            "backgroundcolor": "#E5ECF6",
            "gridcolor": "white",
            "gridwidth": 2,
            "linecolor": "white",
            "showbackground": true,
            "ticks": "",
            "zerolinecolor": "white"
           }
          },
          "shapedefaults": {
           "line": {
            "color": "#2a3f5f"
           }
          },
          "ternary": {
           "aaxis": {
            "gridcolor": "white",
            "linecolor": "white",
            "ticks": ""
           },
           "baxis": {
            "gridcolor": "white",
            "linecolor": "white",
            "ticks": ""
           },
           "bgcolor": "#E5ECF6",
           "caxis": {
            "gridcolor": "white",
            "linecolor": "white",
            "ticks": ""
           }
          },
          "title": {
           "x": 0.05
          },
          "xaxis": {
           "automargin": true,
           "gridcolor": "white",
           "linecolor": "white",
           "ticks": "",
           "title": {
            "standoff": 15
           },
           "zerolinecolor": "white",
           "zerolinewidth": 2
          },
          "yaxis": {
           "automargin": true,
           "gridcolor": "white",
           "linecolor": "white",
           "ticks": "",
           "title": {
            "standoff": 15
           },
           "zerolinecolor": "white",
           "zerolinewidth": 2
          }
         }
        },
        "title": {
         "font": {
          "color": "#4D5663"
         },
         "text": "Case count Birmingham"
        },
        "xaxis": {
         "gridcolor": "#E1E5ED",
         "showgrid": true,
         "tickfont": {
          "color": "#4D5663"
         },
         "title": {
          "font": {
           "color": "#4D5663"
          },
          "text": "Date"
         },
         "zerolinecolor": "#E1E5ED"
        },
        "yaxis": {
         "gridcolor": "#E1E5ED",
         "showgrid": true,
         "tickfont": {
          "color": "#4D5663"
         },
         "title": {
          "font": {
           "color": "#4D5663"
          },
          "text": "Total cases"
         },
         "zerolinecolor": "#E1E5ED"
        }
       }
      },
      "text/html": [
       "<div>\n",
       "        \n",
       "        \n",
       "            <div id=\"c5a57604-5b55-40dd-8725-d1e53f4ac8bb\" class=\"plotly-graph-div\" style=\"height:525px; width:100%;\"></div>\n",
       "            <script type=\"text/javascript\">\n",
       "                require([\"plotly\"], function(Plotly) {\n",
       "                    window.PLOTLYENV=window.PLOTLYENV || {};\n",
       "                    \n",
       "                if (document.getElementById(\"c5a57604-5b55-40dd-8725-d1e53f4ac8bb\")) {\n",
       "                    Plotly.newPlot(\n",
       "                        'c5a57604-5b55-40dd-8725-d1e53f4ac8bb',\n",
       "                        [{\"line\": {\"color\": \"rgba(255, 153, 51, 1.0)\", \"dash\": \"solid\", \"shape\": \"linear\", \"width\": 1.3}, \"marker\": {\"size\": 12, \"symbol\": \"circle\"}, \"mode\": \"lines+markers\", \"name\": \"TotalCases\", \"text\": \"\", \"type\": \"scatter\", \"x\": [\"2020-03-07\", \"2020-03-08\", \"2020-03-09\", \"2020-03-10\", \"2020-03-11\", \"2020-03-12\", \"2020-03-13\", \"2020-03-14\", \"2020-03-15\", \"2020-03-16\", \"2020-03-17\", \"2020-03-18\", \"2020-03-19\", \"2020-03-20\", \"2020-03-21\", \"2020-03-22\", \"2020-03-23\", \"2020-03-24\", \"2020-03-25\", \"2020-03-26\", \"2020-03-27\", \"2020-03-28\", \"2020-03-29\"], \"y\": [1.0, 1.0, 1.0, 1.0, 2.0, 2.0, 2.0, 5.0, 8.0, 15.0, 20.0, 25.0, 34.0, 34.0, 75.0, 91.0, 137.0, 187.0, 228.0, 290.0, 366.0, 428.0, 513.0]}, {\"name\": \"DailyIncidents\", \"type\": \"bar\", \"x\": [\"2020-03-07T00:00:00\", \"2020-03-08T00:00:00\", \"2020-03-09T00:00:00\", \"2020-03-10T00:00:00\", \"2020-03-11T00:00:00\", \"2020-03-12T00:00:00\", \"2020-03-13T00:00:00\", \"2020-03-14T00:00:00\", \"2020-03-15T00:00:00\", \"2020-03-16T00:00:00\", \"2020-03-17T00:00:00\", \"2020-03-18T00:00:00\", \"2020-03-19T00:00:00\", \"2020-03-20T00:00:00\", \"2020-03-21T00:00:00\", \"2020-03-22T00:00:00\", \"2020-03-23T00:00:00\", \"2020-03-24T00:00:00\", \"2020-03-25T00:00:00\", \"2020-03-26T00:00:00\", \"2020-03-27T00:00:00\", \"2020-03-28T00:00:00\", \"2020-03-29T00:00:00\"], \"y\": [1.0, 0.0, 0.0, 0.0, 1.0, 0.0, 0.0, 3.0, 3.0, 7.0, 5.0, 5.0, 9.0, 0.0, 41.0, 16.0, 46.0, 50.0, 41.0, 62.0, 76.0, 62.0, 85.0]}, {\"line\": {\"color\": \"green\"}, \"name\": \"EstTotalCases (GLM)\", \"type\": \"scatter\", \"x\": [\"2020-03-07T00:00:00\", \"2020-03-08T00:00:00\", \"2020-03-09T00:00:00\", \"2020-03-10T00:00:00\", \"2020-03-11T00:00:00\", \"2020-03-12T00:00:00\", \"2020-03-13T00:00:00\", \"2020-03-14T00:00:00\", \"2020-03-15T00:00:00\", \"2020-03-16T00:00:00\", \"2020-03-17T00:00:00\", \"2020-03-18T00:00:00\", \"2020-03-19T00:00:00\", \"2020-03-20T00:00:00\", \"2020-03-21T00:00:00\", \"2020-03-22T00:00:00\", \"2020-03-23T00:00:00\", \"2020-03-24T00:00:00\", \"2020-03-25T00:00:00\", \"2020-03-26T00:00:00\", \"2020-03-27T00:00:00\", \"2020-03-28T00:00:00\", \"2020-03-29T00:00:00\", \"2020-03-30T00:00:00\", \"2020-03-31T00:00:00\", \"2020-04-01T00:00:00\", \"2020-04-02T00:00:00\", \"2020-04-03T00:00:00\", \"2020-04-04T00:00:00\", \"2020-04-05T00:00:00\"], \"y\": [1.0, 1.4756256551510238, 2.146049500834088, 3.0792503903135087, 4.3631375974882864, 6.11036604257501, 8.464083254129502, 11.604745861824775, 15.7581570296769, 21.204890230926246, 28.291278362564622, 37.44216334714405, 49.17560878663045, 64.11979573417035, 83.03232470532959, 106.82215314724678, 136.57439442792787, 173.57819370008383, 219.35787292534914, 275.7074990718292, 344.72896974738137, 428.87362327171104, 530.9872702347179, 654.3583765230075, 802.768851503658, 980.5468062813276, 1192.620019261943, 1444.5686570758553, 1742.6751277391713, 2093.9683623350306]}, {\"marker\": {\"color\": \"blue\"}, \"name\": \"EstDailyIncidents (GLM)\", \"type\": \"bar\", \"x\": [\"2020-03-07T00:00:00\", \"2020-03-08T00:00:00\", \"2020-03-09T00:00:00\", \"2020-03-10T00:00:00\", \"2020-03-11T00:00:00\", \"2020-03-12T00:00:00\", \"2020-03-13T00:00:00\", \"2020-03-14T00:00:00\", \"2020-03-15T00:00:00\", \"2020-03-16T00:00:00\", \"2020-03-17T00:00:00\", \"2020-03-18T00:00:00\", \"2020-03-19T00:00:00\", \"2020-03-20T00:00:00\", \"2020-03-21T00:00:00\", \"2020-03-22T00:00:00\", \"2020-03-23T00:00:00\", \"2020-03-24T00:00:00\", \"2020-03-25T00:00:00\", \"2020-03-26T00:00:00\", \"2020-03-27T00:00:00\", \"2020-03-28T00:00:00\", \"2020-03-29T00:00:00\", \"2020-03-30T00:00:00\", \"2020-03-31T00:00:00\", \"2020-04-01T00:00:00\", \"2020-04-02T00:00:00\", \"2020-04-03T00:00:00\", \"2020-04-04T00:00:00\", \"2020-04-05T00:00:00\"], \"y\": [0.47562565515102384, 0.6704238456830642, 0.9332008894794206, 1.2838872071747778, 1.7472284450867237, 2.3537172115544918, 3.1406626076952726, 4.153411167852125, 5.446733201249346, 7.086388131638376, 9.150884984579431, 11.733445439486395, 14.944186947539905, 18.912528971159233, 23.789828441917194, 29.75224128068109, 37.00379927215596, 45.77967922526531, 56.34962614648006, 69.02147067555217, 84.14465352432967, 102.11364696300689, 123.37110628828952, 148.41047498065052, 177.7779547776696, 212.0732129806155, 251.94863781391223, 298.10647066331603, 351.2932345958593]}],\n",
       "                        {\"legend\": {\"bgcolor\": \"#F5F6F9\", \"font\": {\"color\": \"#4D5663\"}}, \"paper_bgcolor\": \"#F5F6F9\", \"plot_bgcolor\": \"#F5F6F9\", \"template\": {\"data\": {\"bar\": [{\"error_x\": {\"color\": \"#2a3f5f\"}, \"error_y\": {\"color\": \"#2a3f5f\"}, \"marker\": {\"line\": {\"color\": \"#E5ECF6\", \"width\": 0.5}}, \"type\": \"bar\"}], \"barpolar\": [{\"marker\": {\"line\": {\"color\": \"#E5ECF6\", \"width\": 0.5}}, \"type\": \"barpolar\"}], \"carpet\": [{\"aaxis\": {\"endlinecolor\": \"#2a3f5f\", \"gridcolor\": \"white\", \"linecolor\": \"white\", \"minorgridcolor\": \"white\", \"startlinecolor\": \"#2a3f5f\"}, \"baxis\": {\"endlinecolor\": \"#2a3f5f\", \"gridcolor\": \"white\", \"linecolor\": \"white\", \"minorgridcolor\": \"white\", \"startlinecolor\": \"#2a3f5f\"}, \"type\": \"carpet\"}], \"choropleth\": [{\"colorbar\": {\"outlinewidth\": 0, \"ticks\": \"\"}, \"type\": \"choropleth\"}], \"contour\": [{\"colorbar\": {\"outlinewidth\": 0, \"ticks\": \"\"}, \"colorscale\": [[0.0, \"#0d0887\"], [0.1111111111111111, \"#46039f\"], [0.2222222222222222, \"#7201a8\"], [0.3333333333333333, \"#9c179e\"], [0.4444444444444444, \"#bd3786\"], [0.5555555555555556, \"#d8576b\"], [0.6666666666666666, \"#ed7953\"], [0.7777777777777778, \"#fb9f3a\"], [0.8888888888888888, \"#fdca26\"], [1.0, \"#f0f921\"]], \"type\": \"contour\"}], \"contourcarpet\": [{\"colorbar\": {\"outlinewidth\": 0, \"ticks\": \"\"}, \"type\": \"contourcarpet\"}], \"heatmap\": [{\"colorbar\": {\"outlinewidth\": 0, \"ticks\": \"\"}, \"colorscale\": [[0.0, \"#0d0887\"], [0.1111111111111111, \"#46039f\"], [0.2222222222222222, \"#7201a8\"], [0.3333333333333333, \"#9c179e\"], [0.4444444444444444, \"#bd3786\"], [0.5555555555555556, \"#d8576b\"], [0.6666666666666666, \"#ed7953\"], [0.7777777777777778, \"#fb9f3a\"], [0.8888888888888888, \"#fdca26\"], [1.0, \"#f0f921\"]], \"type\": \"heatmap\"}], \"heatmapgl\": [{\"colorbar\": {\"outlinewidth\": 0, \"ticks\": \"\"}, \"colorscale\": [[0.0, \"#0d0887\"], [0.1111111111111111, \"#46039f\"], [0.2222222222222222, \"#7201a8\"], [0.3333333333333333, \"#9c179e\"], [0.4444444444444444, \"#bd3786\"], [0.5555555555555556, \"#d8576b\"], [0.6666666666666666, \"#ed7953\"], [0.7777777777777778, \"#fb9f3a\"], [0.8888888888888888, \"#fdca26\"], [1.0, \"#f0f921\"]], \"type\": \"heatmapgl\"}], \"histogram\": [{\"marker\": {\"colorbar\": {\"outlinewidth\": 0, \"ticks\": \"\"}}, \"type\": \"histogram\"}], \"histogram2d\": [{\"colorbar\": {\"outlinewidth\": 0, \"ticks\": \"\"}, \"colorscale\": [[0.0, \"#0d0887\"], [0.1111111111111111, \"#46039f\"], [0.2222222222222222, \"#7201a8\"], [0.3333333333333333, \"#9c179e\"], [0.4444444444444444, \"#bd3786\"], [0.5555555555555556, \"#d8576b\"], [0.6666666666666666, \"#ed7953\"], [0.7777777777777778, \"#fb9f3a\"], [0.8888888888888888, \"#fdca26\"], [1.0, \"#f0f921\"]], \"type\": \"histogram2d\"}], \"histogram2dcontour\": [{\"colorbar\": {\"outlinewidth\": 0, \"ticks\": \"\"}, \"colorscale\": [[0.0, \"#0d0887\"], [0.1111111111111111, \"#46039f\"], [0.2222222222222222, \"#7201a8\"], [0.3333333333333333, \"#9c179e\"], [0.4444444444444444, \"#bd3786\"], [0.5555555555555556, \"#d8576b\"], [0.6666666666666666, \"#ed7953\"], [0.7777777777777778, \"#fb9f3a\"], [0.8888888888888888, \"#fdca26\"], [1.0, \"#f0f921\"]], \"type\": \"histogram2dcontour\"}], \"mesh3d\": [{\"colorbar\": {\"outlinewidth\": 0, \"ticks\": \"\"}, \"type\": \"mesh3d\"}], \"parcoords\": [{\"line\": {\"colorbar\": {\"outlinewidth\": 0, \"ticks\": \"\"}}, \"type\": \"parcoords\"}], \"pie\": [{\"automargin\": true, \"type\": \"pie\"}], \"scatter\": [{\"marker\": {\"colorbar\": {\"outlinewidth\": 0, \"ticks\": \"\"}}, \"type\": \"scatter\"}], \"scatter3d\": [{\"line\": {\"colorbar\": {\"outlinewidth\": 0, \"ticks\": \"\"}}, \"marker\": {\"colorbar\": {\"outlinewidth\": 0, \"ticks\": \"\"}}, \"type\": \"scatter3d\"}], \"scattercarpet\": [{\"marker\": {\"colorbar\": {\"outlinewidth\": 0, \"ticks\": \"\"}}, \"type\": \"scattercarpet\"}], \"scattergeo\": [{\"marker\": {\"colorbar\": {\"outlinewidth\": 0, \"ticks\": \"\"}}, \"type\": \"scattergeo\"}], \"scattergl\": [{\"marker\": {\"colorbar\": {\"outlinewidth\": 0, \"ticks\": \"\"}}, \"type\": \"scattergl\"}], \"scattermapbox\": [{\"marker\": {\"colorbar\": {\"outlinewidth\": 0, \"ticks\": \"\"}}, \"type\": \"scattermapbox\"}], \"scatterpolar\": [{\"marker\": {\"colorbar\": {\"outlinewidth\": 0, \"ticks\": \"\"}}, \"type\": \"scatterpolar\"}], \"scatterpolargl\": [{\"marker\": {\"colorbar\": {\"outlinewidth\": 0, \"ticks\": \"\"}}, \"type\": \"scatterpolargl\"}], \"scatterternary\": [{\"marker\": {\"colorbar\": {\"outlinewidth\": 0, \"ticks\": \"\"}}, \"type\": \"scatterternary\"}], \"surface\": [{\"colorbar\": {\"outlinewidth\": 0, \"ticks\": \"\"}, \"colorscale\": [[0.0, \"#0d0887\"], [0.1111111111111111, \"#46039f\"], [0.2222222222222222, \"#7201a8\"], [0.3333333333333333, \"#9c179e\"], [0.4444444444444444, \"#bd3786\"], [0.5555555555555556, \"#d8576b\"], [0.6666666666666666, \"#ed7953\"], [0.7777777777777778, \"#fb9f3a\"], [0.8888888888888888, \"#fdca26\"], [1.0, \"#f0f921\"]], \"type\": \"surface\"}], \"table\": [{\"cells\": {\"fill\": {\"color\": \"#EBF0F8\"}, \"line\": {\"color\": \"white\"}}, \"header\": {\"fill\": {\"color\": \"#C8D4E3\"}, \"line\": {\"color\": \"white\"}}, \"type\": \"table\"}]}, \"layout\": {\"annotationdefaults\": {\"arrowcolor\": \"#2a3f5f\", \"arrowhead\": 0, \"arrowwidth\": 1}, \"coloraxis\": {\"colorbar\": {\"outlinewidth\": 0, \"ticks\": \"\"}}, \"colorscale\": {\"diverging\": [[0, \"#8e0152\"], [0.1, \"#c51b7d\"], [0.2, \"#de77ae\"], [0.3, \"#f1b6da\"], [0.4, \"#fde0ef\"], [0.5, \"#f7f7f7\"], [0.6, \"#e6f5d0\"], [0.7, \"#b8e186\"], [0.8, \"#7fbc41\"], [0.9, \"#4d9221\"], [1, \"#276419\"]], \"sequential\": [[0.0, \"#0d0887\"], [0.1111111111111111, \"#46039f\"], [0.2222222222222222, \"#7201a8\"], [0.3333333333333333, \"#9c179e\"], [0.4444444444444444, \"#bd3786\"], [0.5555555555555556, \"#d8576b\"], [0.6666666666666666, \"#ed7953\"], [0.7777777777777778, \"#fb9f3a\"], [0.8888888888888888, \"#fdca26\"], [1.0, \"#f0f921\"]], \"sequentialminus\": [[0.0, \"#0d0887\"], [0.1111111111111111, \"#46039f\"], [0.2222222222222222, \"#7201a8\"], [0.3333333333333333, \"#9c179e\"], [0.4444444444444444, \"#bd3786\"], [0.5555555555555556, \"#d8576b\"], [0.6666666666666666, \"#ed7953\"], [0.7777777777777778, \"#fb9f3a\"], [0.8888888888888888, \"#fdca26\"], [1.0, \"#f0f921\"]]}, \"colorway\": [\"#636efa\", \"#EF553B\", \"#00cc96\", \"#ab63fa\", \"#FFA15A\", \"#19d3f3\", \"#FF6692\", \"#B6E880\", \"#FF97FF\", \"#FECB52\"], \"font\": {\"color\": \"#2a3f5f\"}, \"geo\": {\"bgcolor\": \"white\", \"lakecolor\": \"white\", \"landcolor\": \"#E5ECF6\", \"showlakes\": true, \"showland\": true, \"subunitcolor\": \"white\"}, \"hoverlabel\": {\"align\": \"left\"}, \"hovermode\": \"closest\", \"mapbox\": {\"style\": \"light\"}, \"paper_bgcolor\": \"white\", \"plot_bgcolor\": \"#E5ECF6\", \"polar\": {\"angularaxis\": {\"gridcolor\": \"white\", \"linecolor\": \"white\", \"ticks\": \"\"}, \"bgcolor\": \"#E5ECF6\", \"radialaxis\": {\"gridcolor\": \"white\", \"linecolor\": \"white\", \"ticks\": \"\"}}, \"scene\": {\"xaxis\": {\"backgroundcolor\": \"#E5ECF6\", \"gridcolor\": \"white\", \"gridwidth\": 2, \"linecolor\": \"white\", \"showbackground\": true, \"ticks\": \"\", \"zerolinecolor\": \"white\"}, \"yaxis\": {\"backgroundcolor\": \"#E5ECF6\", \"gridcolor\": \"white\", \"gridwidth\": 2, \"linecolor\": \"white\", \"showbackground\": true, \"ticks\": \"\", \"zerolinecolor\": \"white\"}, \"zaxis\": {\"backgroundcolor\": \"#E5ECF6\", \"gridcolor\": \"white\", \"gridwidth\": 2, \"linecolor\": \"white\", \"showbackground\": true, \"ticks\": \"\", \"zerolinecolor\": \"white\"}}, \"shapedefaults\": {\"line\": {\"color\": \"#2a3f5f\"}}, \"ternary\": {\"aaxis\": {\"gridcolor\": \"white\", \"linecolor\": \"white\", \"ticks\": \"\"}, \"baxis\": {\"gridcolor\": \"white\", \"linecolor\": \"white\", \"ticks\": \"\"}, \"bgcolor\": \"#E5ECF6\", \"caxis\": {\"gridcolor\": \"white\", \"linecolor\": \"white\", \"ticks\": \"\"}}, \"title\": {\"x\": 0.05}, \"xaxis\": {\"automargin\": true, \"gridcolor\": \"white\", \"linecolor\": \"white\", \"ticks\": \"\", \"title\": {\"standoff\": 15}, \"zerolinecolor\": \"white\", \"zerolinewidth\": 2}, \"yaxis\": {\"automargin\": true, \"gridcolor\": \"white\", \"linecolor\": \"white\", \"ticks\": \"\", \"title\": {\"standoff\": 15}, \"zerolinecolor\": \"white\", \"zerolinewidth\": 2}}}, \"title\": {\"font\": {\"color\": \"#4D5663\"}, \"text\": \"Case count Birmingham\"}, \"xaxis\": {\"gridcolor\": \"#E1E5ED\", \"showgrid\": true, \"tickfont\": {\"color\": \"#4D5663\"}, \"title\": {\"font\": {\"color\": \"#4D5663\"}, \"text\": \"Date\"}, \"zerolinecolor\": \"#E1E5ED\"}, \"yaxis\": {\"gridcolor\": \"#E1E5ED\", \"showgrid\": true, \"tickfont\": {\"color\": \"#4D5663\"}, \"title\": {\"font\": {\"color\": \"#4D5663\"}, \"text\": \"Total cases\"}, \"zerolinecolor\": \"#E1E5ED\"}},\n",
       "                        {\"responsive\": true}\n",
       "                    ).then(function(){\n",
       "                            \n",
       "var gd = document.getElementById('c5a57604-5b55-40dd-8725-d1e53f4ac8bb');\n",
       "var x = new MutationObserver(function (mutations, observer) {{\n",
       "        var display = window.getComputedStyle(gd).display;\n",
       "        if (!display || display === 'none') {{\n",
       "            console.log([gd, 'removed!']);\n",
       "            Plotly.purge(gd);\n",
       "            observer.disconnect();\n",
       "        }}\n",
       "}});\n",
       "\n",
       "// Listen for the removal of the full notebook cells\n",
       "var notebookContainer = gd.closest('#notebook-container');\n",
       "if (notebookContainer) {{\n",
       "    x.observe(notebookContainer, {childList: true});\n",
       "}}\n",
       "\n",
       "// Listen for the clearing of the current output cell\n",
       "var outputEl = gd.closest('.output');\n",
       "if (outputEl) {{\n",
       "    x.observe(outputEl, {childList: true});\n",
       "}}\n",
       "\n",
       "                        })\n",
       "                };\n",
       "                });\n",
       "            </script>\n",
       "        </div>"
      ]
     },
     "metadata": {},
     "output_type": "display_data"
    }
   ],
   "source": [
    "UKcases.fit_target(\"Birmingham\", GLM_Model, visualise=True, assess=False)"
   ]
  },
  {
   "cell_type": "code",
   "execution_count": 7,
   "metadata": {},
   "outputs": [],
   "source": [
    "UKcases.fit_all(GLM_Model, verbose=False)"
   ]
  },
  {
   "cell_type": "code",
   "execution_count": 8,
   "metadata": {},
   "outputs": [
    {
     "data": {
      "text/html": [
       "<div><table id=\"c7d02ae4-0c1d-4134-9171-1ce3210c4f5e\" class=\"display\"><thead>\n",
       "    <tr style=\"text-align: right;\">\n",
       "      <th></th>\n",
       "      <th>Code</th>\n",
       "      <th>Name</th>\n",
       "      <th>Geog</th>\n",
       "      <th>Area</th>\n",
       "      <th>Population</th>\n",
       "      <th>PopDensity</th>\n",
       "      <th>MedAge</th>\n",
       "      <th>r</th>\n",
       "      <th>p</th>\n",
       "      <th>K</th>\n",
       "      <th>LatestTotalCases</th>\n",
       "    </tr>\n",
       "  </thead></table>\n",
       "<script type=\"text/javascript\">\n",
       "require([\"datatables\"], function (datatables) {\n",
       "    $(document).ready(function () {        \n",
       "        var dt_args = {\"columnDefs\": [{\"width\": \"70px\", \"targets\": \"_all\"}], \"data\": [[137, \"E06000020\", \"Telford and Wrekin\", \"Unitary Authority\", 290.0, 177799.0, 612.0, 39.4, \"2.392773978459592\", \"0.24436030809916792\", \"142239.19990027984\", 34.0], [226, \"E09000020\", \"Kensington and Chelsea\", \"London Borough\", 12.0, 156197.0, 12884.0, 39.4, \"1.9377889084132585\", \"0.2996307293766376\", \"124957.59999997074\", 141.0], [380, \"W06000018\", \"Caerphilly\", \"Unitary Authority\", 277.0, 181019.0, 653.0, 41.6, \"1.894285688209976\", \"0.1213053348382421\", \"18101.90000139945\", 23.0], [373, \"W06000011\", \"Swansea\", \"Unitary Authority\", 380.0, 246466.0, 649.0, 39.6, \"1.5424047718763125\", \"0.3516786380622455\", \"24646.600000000817\", 19.0], [233, \"E09000033\", \"Westminster\", \"London Borough\", 21.0, 255324.0, 11883.0, 36.1, \"1.2371241090674643\", \"0.5100569062854844\", \"25532.400000000005\", 226.0], [63, \"E06000011\", \"East Riding of Yorkshire\", \"Unitary Authority\", 2405.0, 339614.0, 141.0, 48.8, \"1.0992902157995126\", \"0.17822011553830824\", \"271691.1991224789\", 31.0], [235, \"E09000003\", \"Barnet\", \"London Borough\", 87.0, 392140.0, 4520.0, 37.0, \"1.076328647038631\", \"0.4656923991049086\", \"39214.00000000832\", 119.0], [23, \"E06000006\", \"Halton\", \"Unitary Authority\", 79.0, 128432.0, 1624.0, 41.0, \"1.026211635897646\", \"8.062753776385375e-20\", \"102743.99887836713\", 16.0], [236, \"E09000004\", \"Bexley\", \"London Borough\", 61.0, 247258.0, 4082.0, 38.8, \"0.9379957910693669\", \"0.5819401798158182\", \"197806.39999953407\", 119.0], [229, \"E09000025\", \"Newham\", \"London Borough\", 36.0, 352005.0, 9723.0, 31.9, \"0.9143344717927026\", \"0.6962785014881064\", \"281603.9999998437\", 230.0], [205, \"E10000020\", \"Norfolk\", \"County\", 5380.0, 903680.0, 168.0, 45.6, \"0.8737918936444048\", \"0.6321110366853556\", \"722943.9999999065\", 107.0], [369, \"W06000023\", \"Powys\", \"Unitary Authority\", 5181.0, 132447.0, 26.0, 49.9, \"0.8720794891846743\", \"9.92070638253009e-31\", \"13244.700000000006\", 8.0], [39, \"E08000007\", \"Stockport\", \"Metropolitan District\", 126.0, 291775.0, 2315.0, 42.5, \"0.862542492469385\", \"0.5408455843758981\", \"29177.50007211868\", 79.0], [372, \"W06000010\", \"Carmarthenshire\", \"Unitary Authority\", 2370.0, 187568.0, 79.0, 46.3, \"0.8293560352759995\", \"6.246810103215091e-14\", \"18756.80000487957\", 8.0], [277, \"E10000014\", \"Hampshire\", \"County\", 3679.0, 1376316.0, 374.0, 44.3, \"0.8023807154333454\", \"0.6922711842253085\", \"1101052.79998224\", 432.0], [374, \"W06000012\", \"Neath Port Talbot\", \"Unitary Authority\", 441.0, 142906.0, 324.0, 43.3, \"0.8017456756928937\", \"0.09778173370130057\", \"14290.600002293348\", 15.0], [8, \"E06000002\", \"Middlesbrough\", \"Unitary Authority\", 54.0, 140545.0, 2608.0, 36.2, \"0.7981224861062125\", \"0.6206113052734024\", \"112435.84065423433\", 26.0], [224, \"E09000014\", \"Haringey\", \"London Borough\", 30.0, 270624.0, 9143.0, 35.4, \"0.7975211193879824\", \"0.6078766317640851\", \"216499.19997562154\", 141.0], [230, \"E09000028\", \"Southwark\", \"London Borough\", 29.0, 317256.0, 10992.0, 33.4, \"0.79415336006611\", \"0.6807291973675316\", \"253804.79999374764\", 365.0], [242, \"E09000011\", \"Greenwich\", \"London Borough\", 47.0, 286186.0, 6046.0, 34.7, \"0.7235062841823552\", \"0.6636338715171922\", \"28618.600000080798\", 168.0], [227, \"E09000022\", \"Lambeth\", \"London Borough\", 27.0, 325917.0, 12156.0, 33.1, \"0.7040419380275843\", \"0.7126480998645742\", \"32591.700000000335\", 358.0], [239, \"E09000008\", \"Croydon\", \"London Borough\", 86.0, 385346.0, 4455.0, 37.4, \"0.7006429592869615\", \"0.7354181656897734\", \"38534.600000000035\", 289.0], [38, \"E08000006\", \"Salford\", \"Metropolitan District\", 97.0, 254408.0, 2617.0, 35.0, \"0.6950097416612313\", \"0.6947513745176058\", \"203526.39988991534\", 92.0], [232, \"E09000032\", \"Wandsworth\", \"London Borough\", 34.0, 326474.0, 9528.0, 33.9, \"0.6861464517215701\", \"0.6998956483079576\", \"32647.40000105292\", 287.0], [225, \"E09000019\", \"Islington\", \"London Borough\", 15.0, 239142.0, 16097.0, 32.1, \"0.6852365727948607\", \"0.6599763495569065\", \"191313.5970342551\", 141.0], [80, \"E08000019\", \"Sheffield\", \"Metropolitan District\", 368.0, 582506.0, 1583.0, 35.4, \"0.6750434864979061\", \"0.7888881432905291\", \"58250.60000000029\", 387.0], [241, \"E09000010\", \"Enfield\", \"London Borough\", 81.0, 333869.0, 4130.0, 36.1, \"0.6664188691771704\", \"0.6681895462008591\", \"33386.9000000946\", 151.0], [262, \"E06000045\", \"Southampton\", \"Unitary Authority\", 50.0, 252796.0, 5065.0, 32.2, \"0.659396374723391\", \"0.5953786315389563\", \"25279.600001655755\", 43.0], [237, \"E09000005\", \"Brent\", \"London Borough\", 43.0, 330795.0, 7652.0, 35.3, \"0.6563453261463288\", \"0.7244821963077288\", \"33079.500000022395\", 321.0], [159, \"E08000030\", \"Walsall\", \"Metropolitan District\", 104.0, 283378.0, 2725.0, 38.2, \"0.6529022344009286\", \"0.7167602954551938\", \"29569.0991553564\", 125.0], [9, \"E06000057\", \"Northumberland\", \"Unitary Authority\", 5014.0, 320274.0, 64.0, 48.0, \"0.6490705039911355\", \"0.7594906236297677\", \"45378.79650003665\", 61.0], [157, \"E08000028\", \"Sandwell\", \"Metropolitan District\", 86.0, 327378.0, 3826.0, 36.5, \"0.6487494830747189\", \"0.776779552688445\", \"32737.8000988098\", 138.0], [220, \"E09000007\", \"Camden\", \"London Borough\", 22.0, 262226.0, 12035.0, 33.9, \"0.6407474321500393\", \"0.6075203900259784\", \"209780.7999994235\", 119.0], [21, \"E06000049\", \"Cheshire East\", \"Unitary Authority\", 1166.0, 380790.0, 326.0, 46.2, \"0.6338890009763773\", \"0.5995395047893731\", \"304631.99958761426\", 54.0], [259, \"E06000044\", \"Portsmouth\", \"Unitary Authority\", 40.0, 215133.0, 5327.0, 33.9, \"0.6255137991009628\", \"0.6685411377041007\", \"21513.300141883297\", 70.0], [243, \"E09000015\", \"Harrow\", \"London Borough\", 50.0, 250149.0, 4957.0, 38.0, \"0.5947421344794811\", \"0.7255492704107306\", \"25014.90001011389\", 251.0], [160, \"E08000031\", \"Wolverhampton\", \"Metropolitan District\", 69.0, 262008.0, 3773.0, 37.7, \"0.5899637389950101\", \"0.7045499659720063\", \"26200.800000000036\", 153.0], [302, \"E10000025\", \"Oxfordshire\", \"County\", 2605.0, 687524.0, 264.0, 39.8, \"0.5444005578902946\", \"0.6806443645480543\", \"550019.1972181104\", 140.0], [384, \"W06000022\", \"Newport\", \"Unitary Authority\", 191.0, 153302.0, 805.0, 38.8, \"0.5417654253522821\", \"0.7570435232481995\", \"15330.200027940853\", 38.0], [20, \"E06000009\", \"Blackpool\", \"Unitary Authority\", 35.0, 139305.0, 3997.0, 43.5, \"0.5374476484630949\", \"0.041133872485210894\", \"111443.99999882231\", 10.0], [240, \"E09000009\", \"Ealing\", \"London Borough\", 56.0, 341982.0, 6157.0, 36.7, \"0.531883383758347\", \"0.7624029893249885\", \"273585.5231095535\", 265.0], [68, \"E10000023\", \"North Yorkshire\", \"County\", 8038.0, 614505.0, 76.0, 47.8, \"0.5049139053358385\", \"0.7610317466257365\", \"61450.500003176\", 88.0], [234, \"E09000002\", \"Barking and Dagenham\", \"London Borough\", 36.0, 211998.0, 5871.0, 32.3, \"0.49442146446796326\", \"0.7263811253037987\", \"21199.80000000725\", 100.0], [329, \"E06000022\", \"Bath and North East Somerset\", \"Unitary Authority\", 346.0, 192106.0, 555.0, 38.2, \"0.49122798008155394\", \"0.6373239989714713\", \"19210.600000004197\", 36.0], [341, \"E10000008\", \"Devon\", \"County\", 6564.0, 795286.0, 121.0, 47.3, \"0.4897221541699931\", \"0.6127345543066943\", \"636228.7987735323\", 91.0], [136, \"E06000021\", \"Stoke-on-Trent\", \"Unitary Authority\", 93.0, 255833.0, 2738.0, 37.7, \"0.47555068365292075\", \"0.7668513257064207\", \"25583.300005891273\", 28.0], [246, \"E09000018\", \"Hounslow\", \"London Borough\", 56.0, 270782.0, 4837.0, 36.0, \"0.470907601081232\", \"0.745810744582989\", \"27078.200000001354\", 152.0], [22, \"E06000050\", \"Cheshire West and Chester\", \"Unitary Authority\", 917.0, 340502.0, 371.0, 44.4, \"0.46283716065696845\", \"0.6209915783231892\", \"272401.59992705926\", 34.0], [248, \"E09000024\", \"Merton\", \"London Borough\", 38.0, 206186.0, 5480.0, 37.1, \"0.46095643348031734\", \"0.7559634704877239\", \"20618.600000000344\", 161.0], [161, \"E10000034\", \"Worcestershire\", \"County\", 1741.0, 592057.0, 340.0, 45.0, \"0.45958563089903276\", \"0.8431074266478057\", \"59205.700000008605\", 126.0], [92, \"E10000007\", \"Derbyshire\", \"County\", 2547.0, 796142.0, 313.0, 45.5, \"0.4590213932492388\", \"0.7870715817922062\", \"79614.20000000269\", 210.0], [170, \"E06000056\", \"Central Bedfordshire\", \"Unitary Authority\", 716.0, 283606.0, 396.0, 41.3, \"0.45283079450661023\", \"0.7597956455563474\", \"226884.79999894628\", 56.0], [89, \"E06000016\", \"Leicester\", \"Unitary Authority\", 73.0, 355218.0, 4843.0, 31.6, \"0.449676718271762\", \"0.776942444670235\", \"35521.80001923213\", 65.0], [245, \"E09000017\", \"Hillingdon\", \"London Borough\", 116.0, 304824.0, 2635.0, 35.9, \"0.4426615068574275\", \"0.7698129880507101\", \"30482.400000004698\", 163.0], [271, \"E10000011\", \"East Sussex\", \"County\", 1709.0, 554590.0, 325.0, 47.8, \"0.43468901052654835\", \"0.7489518466749766\", \"55459.00002255438\", 44.0], [223, \"E09000013\", \"Hammersmith and Fulham\", \"London Borough\", 16.0, 185426.0, 11308.0, 34.8, \"0.43356868517242575\", \"0.7605883815639829\", \"148340.7999882564\", 144.0], [228, \"E09000023\", \"Lewisham\", \"London Borough\", 35.0, 303536.0, 8636.0, 35.0, \"0.43153801475323605\", \"0.8075264701971748\", \"30353.600000274117\", 218.0], [25, \"E10000006\", \"Cumbria\", \"County\", 6767.0, 498888.0, 74.0, 47.6, \"0.42853080421728795\", \"0.8346426173224607\", \"49888.80000000008\", 292.0], [222, \"E09000012\", \"Hackney\", \"London Borough\", 19.0, 279665.0, 14681.0, 33.0, \"0.42709914712657854\", \"0.7883503071225295\", \"223731.99983325903\", 177.0], [194, \"E10000015\", \"Hertfordshire\", \"County\", 1643.0, 1184365.0, 721.0, 40.0, \"0.4245061296241234\", \"0.8085059116167962\", \"947491.9999991558\", 282.0], [333, \"E06000059\", \"Dorset\", \"Unitary Authority\", 2491.0, 376484.0, 151.0, 50.5, \"0.3987987365372202\", \"0.7079484633637529\", \"37648.4000001577\", 36.0], [16, \"E08000023\", \"South Tyneside\", \"Metropolitan District\", 64.0, 150265.0, 2334.0, 43.5, \"0.39815500216941374\", \"0.8376674255283597\", \"120211.99999319282\", 27.0], [154, \"E08000025\", \"Birmingham\", \"Metropolitan District\", 268.0, 1141374.0, 4262.0, 32.6, \"0.3967327636644231\", \"0.9002824389054805\", \"114137.40000000621\", 513.0], [266, \"E10000002\", \"Buckinghamshire\", \"County\", 1565.0, 540059.0, 345.0, 42.0, \"0.39663469593573975\", \"0.7749666503470726\", \"432047.1998953206\", 128.0], [174, \"E06000034\", \"Thurrock\", \"Unitary Authority\", 163.0, 172525.0, 1055.0, 36.9, \"0.3964425632698087\", \"0.7804463034119044\", \"17266.795723520474\", 37.0], [255, \"E06000043\", \"Brighton and Hove\", \"Unitary Authority\", 83.0, 290395.0, 3508.0, 35.4, \"0.39534231154820726\", \"0.5096184605461218\", \"232315.99998791332\", 33.0], [231, \"E09000030\", \"Tower Hamlets\", \"London Borough\", 20.0, 317705.0, 16057.0, 31.3, \"0.3931656285005908\", \"0.8334893608474083\", \"254163.99999035354\", 184.0], [65, \"E06000012\", \"North East Lincolnshire\", \"Unitary Authority\", 192.0, 159821.0, 833.0, 42.4, \"0.3813267744815212\", \"0.9999999999999999\", \"127856.79999999999\", 16.0], [238, \"E09000006\", \"Bromley\", \"London Borough\", 150.0, 331096.0, 2205.0, 40.6, \"0.36562576493611393\", \"0.8764220745668394\", \"264876.7999540753\", 268.0], [125, \"E10000024\", \"Nottinghamshire\", \"County\", 2085.0, 823126.0, 395.0, 43.8, \"0.3549292409513342\", \"0.8604115755276954\", \"658500.7975544273\", 193.0], [339, \"E06000027\", \"Torbay\", \"Unitary Authority\", 63.0, 135780.0, 2159.0, 48.6, \"0.34409256470944594\", \"0.5530238746830548\", \"108623.99999999836\", 30.0], [265, \"E06000041\", \"Wokingham\", \"Unitary Authority\", 179.0, 167979.0, 939.0, 41.6, \"0.34363114973989406\", \"0.4889241357965311\", \"134383.1999968656\", 23.0], [244, \"E09000016\", \"Havering\", \"London Borough\", 112.0, 257810.0, 2295.0, 39.2, \"0.3416573526672542\", \"0.8518796758638936\", \"25781.000000002517\", 105.0], [252, \"E09000031\", \"Waltham Forest\", \"London Borough\", 39.0, 276700.0, 7130.0, 34.9, \"0.3357352090546934\", \"0.9079614993796598\", \"27670.000000000433\", 182.0], [336, \"E06000026\", \"Plymouth\", \"Unitary Authority\", 80.0, 263100.0, 3296.0, 38.3, \"0.3352300528622831\", \"0.8252575695700405\", \"26310.000000028005\", 42.0], [158, \"E08000029\", \"Solihull\", \"Metropolitan District\", 178.0, 214909.0, 1205.0, 43.3, \"0.3314661266093962\", \"0.9999999999999999\", \"171927.1999999993\", 74.0], [35, \"E08000003\", \"Manchester\", \"Metropolitan District\", 116.0, 547627.0, 4735.0, 30.0, \"0.3307009696138308\", \"0.7962750751787886\", \"438101.5990367685\", 91.0], [88, \"E06000015\", \"Derby\", \"Unitary Authority\", 78.0, 257174.0, 3296.0, 36.9, \"0.3267707912328617\", \"0.9103368006005286\", \"25717.400000000005\", 105.0], [337, \"E06000025\", \"South Gloucestershire\", \"Unitary Authority\", 497.0, 282644.0, 569.0, 40.7, \"0.3261120812617798\", \"0.8146566110398717\", \"226115.19997431326\", 53.0], [250, \"E09000027\", \"Richmond upon Thames\", \"London Borough\", 57.0, 196904.0, 3430.0, 40.7, \"0.32280904528630844\", \"0.8778742218947322\", \"19690.400000000005\", 94.0], [308, \"E10000030\", \"Surrey\", \"County\", 1663.0, 1189934.0, 716.0, 42.0, \"0.3203611666989946\", \"0.9405236720181476\", \"119106.90494249883\", 338.0], [101, \"E10000018\", \"Leicestershire\", \"County\", 2083.0, 698268.0, 335.0, 43.2, \"0.32002826627699493\", \"0.8755585040758744\", \"69826.80000001218\", 141.0], [40, \"E08000008\", \"Tameside\", \"Metropolitan District\", 103.0, 225197.0, 2183.0, 40.2, \"0.31818939892173254\", \"0.7743050088692275\", \"22519.70000000006\", 58.0], [251, \"E09000029\", \"Sutton\", \"London Borough\", 44.0, 204525.0, 4665.0, 39.2, \"0.3030309235372317\", \"0.8800266357478423\", \"163619.99558456056\", 93.0], [90, \"E06000018\", \"Nottingham\", \"Unitary Authority\", 75.0, 331069.0, 4437.0, 29.7, \"0.301472816535006\", \"0.8543799631901655\", \"33106.90000000321\", 97.0], [181, \"E10000012\", \"Essex\", \"County\", 3464.0, 1477764.0, 427.0, 42.8, \"0.3011146015859206\", \"0.9357309832827708\", \"1182211.1927384017\", 244.0], [175, \"E10000003\", \"Cambridgeshire\", \"County\", 3046.0, 651482.0, 214.0, 41.0, \"0.301086291314521\", \"0.9088402202569661\", \"521185.59964287165\", 100.0], [57, \"E08000011\", \"Knowsley\", \"Metropolitan District\", 87.0, 149571.0, 1729.0, 39.6, \"0.295160489392061\", \"0.9445841996936728\", \"119656.79981876735\", 26.0], [249, \"E09000026\", \"Redbridge\", \"London Borough\", 56.0, 303858.0, 5386.0, 35.5, \"0.2928375748096925\", \"0.9046030205542539\", \"30385.800001183885\", 143.0], [169, \"E06000055\", \"Bedford\", \"Unitary Authority\", 476.0, 171623.0, 360.0, 40.2, \"0.2887526813467268\", \"0.9999999999999999\", \"137298.39999999997\", 32.0], [86, \"E08000036\", \"Wakefield\", \"Metropolitan District\", 339.0, 345038.0, 1019.0, 41.8, \"0.28489596511387866\", \"0.9638780014745167\", \"276030.3999746856\", 54.0], [37, \"E08000005\", \"Rochdale\", \"Metropolitan District\", 158.0, 220001.0, 1391.0, 38.1, \"0.2830858206666919\", \"0.9051512021472947\", \"176000.799989809\", 65.0], [138, \"E10000028\", \"Staffordshire\", \"County\", 2620.0, 875219.0, 334.0, 44.6, \"0.2802540388631094\", \"0.9521172969823154\", \"87521.90000002875\", 212.0], [254, \"E06000036\", \"Bracknell Forest\", \"Unitary Authority\", 109.0, 121676.0, 1112.0, 39.1, \"0.2762096547108853\", \"0.5500670589873815\", \"94196.30842128243\", 19.0], [289, \"E10000016\", \"Kent\", \"County\", 3545.0, 1568623.0, 442.0, 42.1, \"0.2730106370672992\", \"0.9743740139613183\", \"156862.30000005628\", 253.0], [147, \"E10000031\", \"Warwickshire\", \"County\", 1975.0, 571010.0, 289.0, 43.1, \"0.26971746029074184\", \"0.9430561071935365\", \"57101.00000002856\", 127.0], [135, \"E06000051\", \"Shropshire\", \"Unitary Authority\", 3197.0, 320274.0, 100.0, 47.4, \"0.2680304515888754\", \"0.9167060630354243\", \"32027.400000011752\", 67.0], [350, \"E10000013\", \"Gloucestershire\", \"County\", 2653.0, 633558.0, 239.0, 44.3, \"0.26023449888130096\", \"0.922398601896014\", \"63355.80000000067\", 107.0], [340, \"E06000054\", \"Wiltshire\", \"Unitary Authority\", 3255.0, 498064.0, 153.0, 44.6, \"0.2590584105123661\", \"0.8654974754337309\", \"49806.40000000194\", 67.0], [85, \"E08000035\", \"Leeds\", \"Metropolitan District\", 552.0, 789194.0, 1430.0, 35.4, \"0.25517038842341927\", \"0.9299472699932178\", \"631355.1987777852\", 113.0], [156, \"E08000027\", \"Dudley\", \"Metropolitan District\", 98.0, 320626.0, 3273.0, 42.1, \"0.2541375852269531\", \"0.9736069227754565\", \"256500.79894858817\", 122.0], [320, \"E10000032\", \"West Sussex\", \"County\", 1991.0, 858852.0, 431.0, 45.1, \"0.25381488950199954\", \"0.9386996766033774\", \"85885.20000000547\", 113.0], [78, \"E08000017\", \"Doncaster\", \"Metropolitan District\", 568.0, 310542.0, 547.0, 41.3, \"0.25315704442751785\", \"0.9999999999999999\", \"248433.59999998202\", 44.0], [261, \"E06000039\", \"Slough\", \"Unitary Authority\", 33.0, 149112.0, 4582.0, 34.8, \"0.2512586861137033\", \"0.9542718021027159\", \"119289.59999921551\", 73.0], [41, \"E08000009\", \"Trafford\", \"Metropolitan District\", 106.0, 236370.0, 2229.0, 40.6, \"0.2503365457428934\", \"0.8919790336208246\", \"189095.99999999435\", 77.0], [331, \"E06000023\", \"Bristol, City of\", \"Unitary Authority\", 110.0, 463405.0, 4224.0, 32.5, \"0.24804425772457916\", \"0.9010032831414743\", \"46340.500000028995\", 78.0], [60, \"E08000013\", \"St. Helens\", \"Metropolitan District\", 136.0, 180049.0, 1320.0, 43.0, \"0.247391856194187\", \"0.9999999999999999\", \"144039.19971882968\", 39.0], [43, \"E10000017\", \"Lancashire\", \"County\", 2903.0, 1210053.0, 417.0, 42.7, \"0.24730608829231315\", \"0.9982751133819204\", \"968042.3999967116\", 231.0], [332, \"E06000052\", \"Cornwall\", \"Unitary Authority\", 3546.0, 565968.0, 160.0, 47.2, \"0.24608272908217566\", \"0.8808133407036072\", \"56596.80000248452\", 64.0], [14, \"E08000021\", \"Newcastle upon Tyne\", \"Metropolitan District\", 113.0, 300196.0, 2646.0, 32.4, \"0.24334859813445595\", \"0.9807416030175315\", \"30127.2355570499\", 155.0], [263, \"E06000037\", \"West Berkshire\", \"Unitary Authority\", 704.0, 158527.0, 225.0, 43.2, \"0.23507065826894502\", \"0.9991796058471619\", \"15852.700000072122\", 40.0], [36, \"E08000004\", \"Oldham\", \"Metropolitan District\", 142.0, 235623.0, 1655.0, 37.1, \"0.23012301198103818\", \"0.938493944729068\", \"188498.39800612355\", 82.0], [5, \"E06000047\", \"County Durham\", \"Unitary Authority\", 2226.0, 526980.0, 237.0, 43.5, \"0.2298198879344667\", \"0.9999999999999999\", \"421583.9999976877\", 81.0], [58, \"E08000012\", \"Liverpool\", \"Metropolitan District\", 112.0, 494814.0, 4424.0, 34.7, \"0.22930279158821243\", \"0.9999999999999999\", \"395851.1999999988\", 157.0], [11, \"E06000004\", \"Stockton-on-Tees\", \"Unitary Authority\", 205.0, 197213.0, 962.0, 40.4, \"0.22665750800720352\", \"0.9139649875388237\", \"157770.3999996073\", 34.0], [13, \"E08000037\", \"Gateshead\", \"Metropolitan District\", 142.0, 202508.0, 1423.0, 41.3, \"0.22549252048071095\", \"0.9999999999999744\", \"162006.3999995251\", 44.0], [213, \"E10000029\", \"Suffolk\", \"County\", 3801.0, 758556.0, 200.0, 45.1, \"0.22458866704159824\", \"0.9999867422262482\", \"79909.29215552905\", 87.0], [84, \"E08000034\", \"Kirklees\", \"Metropolitan District\", 409.0, 438727.0, 1074.0, 39.4, \"0.22081184893706274\", \"0.9999999999974499\", \"350981.59999998455\", 60.0], [377, \"W06000015\", \"Cardiff\", \"Unitary Authority\", 141.0, 364248.0, 2585.0, 33.6, \"0.22055449090779455\", \"0.9999999999999999\", \"291398.39999960194\", 28.0], [117, \"E10000021\", \"Northamptonshire\", \"County\", 2364.0, 747622.0, 316.0, 40.8, \"0.21985946832677442\", \"0.9999999999945747\", \"598097.5999999938\", 126.0], [260, \"E06000038\", \"Reading\", \"Unitary Authority\", 40.0, 163203.0, 4040.0, 34.4, \"0.21653770579220397\", \"0.9840939463989851\", \"130562.39574571076\", 27.0], [79, \"E08000018\", \"Rotherham\", \"Metropolitan District\", 287.0, 264671.0, 924.0, 42.1, \"0.21589084256105365\", \"0.9999999999999999\", \"211736.79995337815\", 60.0], [17, \"E08000024\", \"Sunderland\", \"Metropolitan District\", 137.0, 277417.0, 2018.0, 42.2, \"0.21521708533736986\", \"0.9999999999999999\", \"221933.59997960698\", 76.0], [59, \"E08000014\", \"Sefton\", \"Metropolitan District\", 155.0, 275396.0, 1777.0, 46.4, \"0.21032691370674655\", \"0.9999999999999999\", \"220316.799995051\", 45.0], [247, \"E09000021\", \"Kingston upon Thames\", \"London Borough\", 37.0, 175470.0, 4709.0, 37.2, \"0.20938583553755472\", \"0.9777083988921005\", \"140375.99999987718\", 82.0], [264, \"E06000040\", \"Windsor and Maidenhead\", \"Unitary Authority\", 197.0, 150906.0, 768.0, 42.1, \"0.20331575045816902\", \"0.9999999999999555\", \"120724.79999999913\", 48.0], [10, \"E06000003\", \"Redcar and Cleveland\", \"Unitary Authority\", 245.0, 136718.0, 558.0, 45.0, \"0.20300992957077296\", \"0.9999999999999999\", \"109374.39999895016\", 25.0], [7, \"E06000001\", \"Hartlepool\", \"Unitary Authority\", 94.0, 93242.0, 997.0, 41.8, \"0.20265723120850682\", \"0.9999999999999949\", \"74593.5999999998\", 11.0], [357, \"E10000027\", \"Somerset\", \"County\", 3451.0, 559399.0, 162.0, 47.0, \"0.20197139367287248\", \"0.8819685558601419\", \"55939.90004459335\", 36.0], [33, \"E08000001\", \"Bolton\", \"Metropolitan District\", 140.0, 285372.0, 2041.0, 38.8, \"0.1997244964103572\", \"0.9059204027042073\", \"228297.5997063048\", 42.0], [19, \"E06000008\", \"Blackburn with Darwen\", \"Unitary Authority\", 137.0, 148942.0, 1087.0, 36.3, \"0.1992633614865207\", \"0.9999999999999999\", \"119153.59999995322\", 12.0], [258, \"E06000042\", \"Milton Keynes\", \"Unitary Authority\", 309.0, 268607.0, 870.0, 37.6, \"0.19833336659562162\", \"0.9999999999999999\", \"214885.5999634176\", 82.0], [330, \"E06000058\", \"Bournemouth, Christchurch and Poole\", \"Unitary Authority\", 161.0, 395784.0, 2453.0, 42.4, \"0.19344982091967225\", \"0.8954997890107972\", \"316627.1999670945\", 34.0], [335, \"E06000024\", \"North Somerset\", \"Unitary Authority\", 374.0, 213919.0, 572.0, 45.9, \"0.19263340305843488\", \"0.9839927282547637\", \"21391.900003099283\", 32.0], [83, \"E08000033\", \"Calderdale\", \"Metropolitan District\", 364.0, 210082.0, 577.0, 42.2, \"0.19229200966226342\", \"0.9999999999995728\", \"168065.5982922517\", 29.0], [155, \"E08000026\", \"Coventry\", \"Metropolitan District\", 99.0, 366785.0, 3718.0, 32.1, \"0.1921066094109149\", \"0.99999999998664\", \"293427.99999997235\", 79.0], [109, \"E10000019\", \"Lincolnshire\", \"County\", 5937.0, 755833.0, 127.0, 45.7, \"0.18919366220697795\", \"0.9999999999999999\", \"604666.3999983486\", 72.0], [77, \"E08000016\", \"Barnsley\", \"Metropolitan District\", 329.0, 245199.0, 745.0, 42.5, \"0.18760012421440228\", \"0.9999999999999999\", \"196159.1999254909\", 70.0], [171, \"E06000032\", \"Luton\", \"Unitary Authority\", 43.0, 214109.0, 4939.0, 34.2, \"0.18606199584699418\", \"0.9999999999999999\", \"171287.19998770545\", 63.0], [257, \"E06000035\", \"Medway\", \"Unitary Authority\", 194.0, 277855.0, 1436.0, 38.1, \"0.1843141017777075\", \"0.9999999999999998\", \"222283.99999999997\", 57.0], [15, \"E08000022\", \"North Tyneside\", \"Metropolitan District\", 82.0, 205985.0, 2502.0, 43.4, \"0.18278063688985494\", \"0.9999999999999999\", \"164787.9999989571\", 62.0], [134, \"E06000019\", \"Herefordshire, County of\", \"Unitary Authority\", 2180.0, 192107.0, 88.0, 47.0, \"0.18170476963434506\", \"0.9833403653041141\", \"19210.700000010747\", 25.0], [34, \"E08000002\", \"Bury\", \"Metropolitan District\", 99.0, 190108.0, 1911.0, 40.4, \"0.17660120966670942\", \"0.9999999999999999\", \"152086.3999999999\", 55.0], [6, \"E06000005\", \"Darlington\", \"Unitary Authority\", 197.0, 106566.0, 540.0, 43.1, \"0.17477077982624997\", \"0.9999999999999997\", \"85252.79999999992\", 15.0], [61, \"E08000015\", \"Wirral\", \"Metropolitan District\", 157.0, 323235.0, 2058.0, 44.3, \"0.17021859080683008\", \"0.9999999999999999\", \"258587.99987510242\", 44.0], [82, \"E08000032\", \"Bradford\", \"Metropolitan District\", 366.0, 537173.0, 1466.0, 36.2, \"0.16964024408302286\", \"0.9999999999999999\", \"429738.39969136036\", 46.0], [24, \"E06000007\", \"Warrington\", \"Unitary Authority\", 181.0, 209547.0, 1160.0, 42.2, \"0.1669606807783386\", \"0.9999999999999999\", \"167637.5997903296\", 21.0], [67, \"E06000014\", \"York\", \"Unitary Authority\", 272.0, 209893.0, 772.0, 37.6, \"0.1639061359625951\", \"0.8937152427153577\", \"167914.39988660178\", 21.0], [42, \"E08000010\", \"Wigan\", \"Metropolitan District\", 188.0, 326088.0, 1733.0, 42.2, \"0.1577820435229942\", \"0.9999999999999769\", \"260870.3999997868\", 39.0], [173, \"E06000033\", \"Southend-on-Sea\", \"Unitary Authority\", 42.0, 182463.0, 4370.0, 41.6, \"0.14112772858895356\", \"0.9999999999999999\", \"145970.39999944298\", 24.0], [338, \"E06000030\", \"Swindon\", \"Unitary Authority\", 230.0, 221996.0, 965.0, 39.8, \"0.13642850074426827\", \"0.9999999999995361\", \"177596.79886232823\", 26.0], [371, \"W06000009\", \"Pembrokeshire\", \"Unitary Authority\", 1619.0, 125055.0, 77.0, 48.0, \"0.13288563141162843\", \"9.306109063052936e-11\", \"12505.500011190594\", 2.0], [172, \"E06000031\", \"Peterborough\", \"Unitary Authority\", 343.0, 201041.0, 585.0, 36.5, \"0.1274506105178492\", \"0.9999999999999999\", \"160832.79999991265\", 21.0], [66, \"E06000013\", \"North Lincolnshire\", \"Unitary Authority\", 846.0, 172005.0, 203.0, 44.1, \"0.1239196897288049\", \"0.9999999999999999\", \"137603.99319293606\", 13.0], [256, \"E06000046\", \"Isle of Wight\", \"Unitary Authority\", 380.0, 141538.0, 373.0, 50.1, \"0.09519113501335204\", \"0.9999999999999989\", \"113230.3999999999\", 10.0], [64, \"E06000010\", \"Kingston upon Hull, City of\", \"Unitary Authority\", 71.0, 260645.0, 3648.0, 35.6, \"0.06914468297906298\", \"0.9999999999985457\", \"206641.35614569002\", 9.0]]};\n",
       "        dt_args = eval_functions(dt_args);\n",
       "        table = $('#c7d02ae4-0c1d-4134-9171-1ce3210c4f5e').DataTable(dt_args);\n",
       "    });\n",
       "})\n",
       "</script>\n",
       "</div>\n"
      ],
      "text/plain": [
       "          Code                         Name               Geog    Area  \\\n",
       "137  E06000020           Telford and Wrekin  Unitary Authority   290.0   \n",
       "226  E09000020       Kensington and Chelsea     London Borough    12.0   \n",
       "380  W06000018                   Caerphilly  Unitary Authority   277.0   \n",
       "373  W06000011                      Swansea  Unitary Authority   380.0   \n",
       "233  E09000033                  Westminster     London Borough    21.0   \n",
       "..         ...                          ...                ...     ...   \n",
       "371  W06000009                Pembrokeshire  Unitary Authority  1619.0   \n",
       "172  E06000031                 Peterborough  Unitary Authority   343.0   \n",
       "66   E06000013           North Lincolnshire  Unitary Authority   846.0   \n",
       "256  E06000046                Isle of Wight  Unitary Authority   380.0   \n",
       "64   E06000010  Kingston upon Hull, City of  Unitary Authority    71.0   \n",
       "\n",
       "     Population  PopDensity  MedAge          r            p        K  \\\n",
       "137    177799.0       612.0    39.4    2.39277      0.24436   142239   \n",
       "226    156197.0     12884.0    39.4    1.93779     0.299631   124958   \n",
       "380    181019.0       653.0    41.6    1.89429     0.121305  18101.9   \n",
       "373    246466.0       649.0    39.6     1.5424     0.351679  24646.6   \n",
       "233    255324.0     11883.0    36.1    1.23712     0.510057  25532.4   \n",
       "..          ...         ...     ...        ...          ...      ...   \n",
       "371    125055.0        77.0    48.0   0.132886  9.30611e-11  12505.5   \n",
       "172    201041.0       585.0    36.5   0.127451            1   160833   \n",
       "66     172005.0       203.0    44.1    0.12392            1   137604   \n",
       "256    141538.0       373.0    50.1  0.0951911            1   113230   \n",
       "64     260645.0      3648.0    35.6  0.0691447            1   206641   \n",
       "\n",
       "     LatestTotalCases  \n",
       "137              34.0  \n",
       "226             141.0  \n",
       "380              23.0  \n",
       "373              19.0  \n",
       "233             226.0  \n",
       "..                ...  \n",
       "371               2.0  \n",
       "172              21.0  \n",
       "66               13.0  \n",
       "256              10.0  \n",
       "64                9.0  \n",
       "\n",
       "[156 rows x 11 columns]"
      ]
     },
     "execution_count": 8,
     "metadata": {},
     "output_type": "execute_result"
    }
   ],
   "source": [
    "UKcases.popdata.dropna(inplace=True)\n",
    "df = UKcases.popdata.sort_values(by=['r', 'p'],ascending=False)\n",
    "\n",
    "df"
   ]
  },
  {
   "cell_type": "code",
   "execution_count": 9,
   "metadata": {},
   "outputs": [
    {
     "data": {
      "application/vnd.plotly.v1+json": {
       "config": {
        "plotlyServerURL": "https://plot.ly"
       },
       "data": [
        {
         "hovertemplate": "<br><b>%{text}</b><br>Growth rate (r): %{x:.2f}<br>Growth dampening (p): %{y:.2f}",
         "line": {
          "color": "rgba(255, 153, 51, 1.0)",
          "dash": "solid",
          "shape": "linear",
          "width": 1.3
         },
         "marker": {
          "size": [
           13.183347464017316,
           8.12415060330663,
           7.193685818395112,
           9.774289614064447,
           12.332621592519935,
           9.656627474604601,
           10.579081573848484,
           11.352568901754783,
           15.13027535075774,
           12.381403155135274,
           9.887510598012987,
           12.992200020858993,
           7.4547199493640015,
           6.907755278982138,
           11.966952139692824,
           10.579081573848484,
           8.317766166719343,
           9.13356731317027,
           17.030261406804847,
           11.213008854850106,
           12.021999555697413,
           13.53257851955055,
           13.220157741792761,
           12.523161809686911,
           13.565365731147121,
           13.108343557401064,
           12.181329031639258,
           13.031416265561052,
           10.990684938388938,
           16.327253131565378,
           9.774289614064447,
           15.168737416044923,
           11.419987469310959,
           10.990684938388938,
           11.352568901754783,
           10.30196161345544,
           6.591673732008658,
           8.317766166719343,
           7.694848072384611,
           9.13356731317027,
           13.43201044343462,
           12.745485726148079,
           11.352568901754783,
           12.2830336866663,
           17.875274079089344,
           11.485924189467285,
           10.101887489959422,
           12.2830336866663,
           14.182163456137022,
           11.966952139692824,
           13.96188105047257,
           12.523161809686911,
           13.724132935510148,
           16.041322592152405,
           14.846279671134505,
           12.829998357048165,
           14.508845720854435,
           15.788070566714657,
           9.656627474604601,
           12.614077858172898,
           9.996613530525611,
           10.579081573848484,
           16.069758824016038,
           14.532561259375774,
           18.720827535512306,
           13.108343557401064,
           14.41206313419977,
           14.781761055471616,
           12.912195279612511,
           14.484941211906904,
           15.091313764177306,
           14.508845720854435,
           10.39720770839918,
           12.076055072205449,
           12.429404179174597,
           9.13356731317027,
           9.534161491043838,
           10.832753737932673,
           13.815510557964275,
           16.491504675879607,
           16.92572121281434,
           14.018486503385716,
           13.397724355963751,
           14.337370479334588,
           15.528449197721486,
           14.909439898728003,
           14.846279671134505,
           14.846279671134505,
           14.846279671134505,
           17.6415989592021,
           16.153485188367267,
           16.314237926769586,
           17.699692060747473,
           15.644807272826958,
           16.978446647278865,
           16.26160499781686,
           13.815510557964275,
           14.337370479334588,
           14.337370479334588,
           17.314323369390046,
           16.77296094153257,
           16.9992800643373,
           16.739189477958668,
           15.051839510444772,
           15.371891938209776,
           16.576358817395352,
           13.96188105047257,
           15.281250602420286,
           15.07164156253883,
           13.220157741792761,
           15.24421309495339,
           14.888533890779721,
           13.629884346810012,
           13.597798479459769,
           15.612020061230385,
           8.83331693749932,
           10.489522684399441,
           6.907755278982138,
           12.129153803503652,
           13.220157741792761,
           12.745485726148079,
           9.887510598012987,
           12.871378323445173,
           11.283600347080688,
           11.06663836234181,
           11.613603032723674,
           9.406482647787449,
           14.556090791758852,
           11.352568901754783,
           18.205276764732332,
           16.60016846618256,
           14.824927267827912,
           17.469137686449056,
           14.182163456137022,
           10.75055681536833,
           10.579081573848484,
           13.070126480068776,
           12.476649250079014,
           10.75055681536833,
           10.39720770839918,
           11.213008854850106,
           11.910875740656365,
           9.774289614064447,
           10.203592144986466,
           12.614077858172898,
           13.53257851955055,
           14.018486503385716,
           10.75055681536833,
           6.238324625039507,
           2.0794415416798357,
           6.238324625039507,
           8.83331693749932,
           8.12415060330663,
           9.996613530525611,
           9.406482647787449,
           10.912758479179157
          ],
          "symbol": "circle"
         },
         "mode": "markers",
         "name": "p",
         "text": [
          "County Durham (latest total cases: 81)",
          "Darlington (latest total cases: 15)",
          "Hartlepool (latest total cases: 11)",
          "Middlesbrough (latest total cases: 26)",
          "Northumberland (latest total cases: 61)",
          "Redcar and Cleveland (latest total cases: 25)",
          "Stockton-on-Tees (latest total cases: 34)",
          "Gateshead (latest total cases: 44)",
          "Newcastle upon Tyne (latest total cases: 155)",
          "North Tyneside (latest total cases: 62)",
          "South Tyneside (latest total cases: 27)",
          "Sunderland (latest total cases: 76)",
          "Blackburn with Darwen (latest total cases: 12)",
          "Blackpool (latest total cases: 10)",
          "Cheshire East (latest total cases: 54)",
          "Cheshire West and Chester (latest total cases: 34)",
          "Halton (latest total cases: 16)",
          "Warrington (latest total cases: 21)",
          "Cumbria (latest total cases: 292)",
          "Bolton (latest total cases: 42)",
          "Bury (latest total cases: 55)",
          "Manchester (latest total cases: 91)",
          "Oldham (latest total cases: 82)",
          "Rochdale (latest total cases: 65)",
          "Salford (latest total cases: 92)",
          "Stockport (latest total cases: 79)",
          "Tameside (latest total cases: 58)",
          "Trafford (latest total cases: 77)",
          "Wigan (latest total cases: 39)",
          "Lancashire (latest total cases: 231)",
          "Knowsley (latest total cases: 26)",
          "Liverpool (latest total cases: 157)",
          "Sefton (latest total cases: 45)",
          "St. Helens (latest total cases: 39)",
          "Wirral (latest total cases: 44)",
          "East Riding of Yorkshire (latest total cases: 31)",
          "Kingston upon Hull, City of (latest total cases: 9)",
          "North East Lincolnshire (latest total cases: 16)",
          "North Lincolnshire (latest total cases: 13)",
          "York (latest total cases: 21)",
          "North Yorkshire (latest total cases: 88)",
          "Barnsley (latest total cases: 70)",
          "Doncaster (latest total cases: 44)",
          "Rotherham (latest total cases: 60)",
          "Sheffield (latest total cases: 387)",
          "Bradford (latest total cases: 46)",
          "Calderdale (latest total cases: 29)",
          "Kirklees (latest total cases: 60)",
          "Leeds (latest total cases: 113)",
          "Wakefield (latest total cases: 54)",
          "Derby (latest total cases: 105)",
          "Leicester (latest total cases: 65)",
          "Nottingham (latest total cases: 97)",
          "Derbyshire (latest total cases: 210)",
          "Leicestershire (latest total cases: 141)",
          "Lincolnshire (latest total cases: 72)",
          "Northamptonshire (latest total cases: 126)",
          "Nottinghamshire (latest total cases: 193)",
          "Herefordshire, County of (latest total cases: 25)",
          "Shropshire (latest total cases: 67)",
          "Stoke-on-Trent (latest total cases: 28)",
          "Telford and Wrekin (latest total cases: 34)",
          "Staffordshire (latest total cases: 212)",
          "Warwickshire (latest total cases: 127)",
          "Birmingham (latest total cases: 513)",
          "Coventry (latest total cases: 79)",
          "Dudley (latest total cases: 122)",
          "Sandwell (latest total cases: 138)",
          "Solihull (latest total cases: 74)",
          "Walsall (latest total cases: 125)",
          "Wolverhampton (latest total cases: 153)",
          "Worcestershire (latest total cases: 126)",
          "Bedford (latest total cases: 32)",
          "Central Bedfordshire (latest total cases: 56)",
          "Luton (latest total cases: 63)",
          "Peterborough (latest total cases: 21)",
          "Southend-on-Sea (latest total cases: 24)",
          "Thurrock (latest total cases: 37)",
          "Cambridgeshire (latest total cases: 100)",
          "Essex (latest total cases: 244)",
          "Hertfordshire (latest total cases: 282)",
          "Norfolk (latest total cases: 107)",
          "Suffolk (latest total cases: 87)",
          "Camden (latest total cases: 119)",
          "Hackney (latest total cases: 177)",
          "Hammersmith and Fulham (latest total cases: 144)",
          "Haringey (latest total cases: 141)",
          "Islington (latest total cases: 141)",
          "Kensington and Chelsea (latest total cases: 141)",
          "Lambeth (latest total cases: 358)",
          "Lewisham (latest total cases: 218)",
          "Newham (latest total cases: 230)",
          "Southwark (latest total cases: 365)",
          "Tower Hamlets (latest total cases: 184)",
          "Wandsworth (latest total cases: 287)",
          "Westminster (latest total cases: 226)",
          "Barking and Dagenham (latest total cases: 100)",
          "Barnet (latest total cases: 119)",
          "Bexley (latest total cases: 119)",
          "Brent (latest total cases: 321)",
          "Bromley (latest total cases: 268)",
          "Croydon (latest total cases: 289)",
          "Ealing (latest total cases: 265)",
          "Enfield (latest total cases: 151)",
          "Greenwich (latest total cases: 168)",
          "Harrow (latest total cases: 251)",
          "Havering (latest total cases: 105)",
          "Hillingdon (latest total cases: 163)",
          "Hounslow (latest total cases: 152)",
          "Kingston upon Thames (latest total cases: 82)",
          "Merton (latest total cases: 161)",
          "Redbridge (latest total cases: 143)",
          "Richmond upon Thames (latest total cases: 94)",
          "Sutton (latest total cases: 93)",
          "Waltham Forest (latest total cases: 182)",
          "Bracknell Forest (latest total cases: 19)",
          "Brighton and Hove (latest total cases: 33)",
          "Isle of Wight (latest total cases: 10)",
          "Medway (latest total cases: 57)",
          "Milton Keynes (latest total cases: 82)",
          "Portsmouth (latest total cases: 70)",
          "Reading (latest total cases: 27)",
          "Slough (latest total cases: 73)",
          "Southampton (latest total cases: 43)",
          "West Berkshire (latest total cases: 40)",
          "Windsor and Maidenhead (latest total cases: 48)",
          "Wokingham (latest total cases: 23)",
          "Buckinghamshire (latest total cases: 128)",
          "East Sussex (latest total cases: 44)",
          "Hampshire (latest total cases: 432)",
          "Kent (latest total cases: 253)",
          "Oxfordshire (latest total cases: 140)",
          "Surrey (latest total cases: 338)",
          "West Sussex (latest total cases: 113)",
          "Bath and North East Somerset (latest total cases: 36)",
          "Bournemouth, Christchurch and Poole (latest total cases: 34)",
          "Bristol, City of (latest total cases: 78)",
          "Cornwall (latest total cases: 64)",
          "Dorset (latest total cases: 36)",
          "North Somerset (latest total cases: 32)",
          "Plymouth (latest total cases: 42)",
          "South Gloucestershire (latest total cases: 53)",
          "Swindon (latest total cases: 26)",
          "Torbay (latest total cases: 30)",
          "Wiltshire (latest total cases: 67)",
          "Devon (latest total cases: 91)",
          "Gloucestershire (latest total cases: 107)",
          "Somerset (latest total cases: 36)",
          "Powys (latest total cases: 8)",
          "Pembrokeshire (latest total cases: 2)",
          "Carmarthenshire (latest total cases: 8)",
          "Swansea (latest total cases: 19)",
          "Neath Port Talbot (latest total cases: 15)",
          "Cardiff (latest total cases: 28)",
          "Caerphilly (latest total cases: 23)",
          "Newport (latest total cases: 38)"
         ],
         "type": "scatter",
         "x": [
          0.2298198879344667,
          0.17477077982624997,
          0.20265723120850682,
          0.7981224861062125,
          0.6490705039911355,
          0.20300992957077296,
          0.22665750800720352,
          0.22549252048071095,
          0.24334859813445595,
          0.18278063688985494,
          0.39815500216941374,
          0.21521708533736986,
          0.1992633614865207,
          0.5374476484630949,
          0.6338890009763773,
          0.46283716065696845,
          1.026211635897646,
          0.1669606807783386,
          0.42853080421728795,
          0.1997244964103572,
          0.17660120966670942,
          0.3307009696138308,
          0.23012301198103818,
          0.2830858206666919,
          0.6950097416612313,
          0.862542492469385,
          0.31818939892173254,
          0.2503365457428934,
          0.1577820435229942,
          0.24730608829231315,
          0.295160489392061,
          0.22930279158821243,
          0.21032691370674655,
          0.247391856194187,
          0.17021859080683008,
          1.0992902157995126,
          0.06914468297906298,
          0.3813267744815212,
          0.1239196897288049,
          0.1639061359625951,
          0.5049139053358385,
          0.18760012421440228,
          0.25315704442751785,
          0.21589084256105365,
          0.6750434864979061,
          0.16964024408302286,
          0.19229200966226342,
          0.22081184893706274,
          0.25517038842341927,
          0.28489596511387866,
          0.3267707912328617,
          0.449676718271762,
          0.301472816535006,
          0.4590213932492388,
          0.32002826627699493,
          0.18919366220697795,
          0.21985946832677442,
          0.3549292409513342,
          0.18170476963434506,
          0.2680304515888754,
          0.47555068365292075,
          2.392773978459592,
          0.2802540388631094,
          0.26971746029074184,
          0.3967327636644231,
          0.1921066094109149,
          0.2541375852269531,
          0.6487494830747189,
          0.3314661266093962,
          0.6529022344009286,
          0.5899637389950101,
          0.45958563089903276,
          0.2887526813467268,
          0.45283079450661023,
          0.18606199584699418,
          0.1274506105178492,
          0.14112772858895356,
          0.3964425632698087,
          0.301086291314521,
          0.3011146015859206,
          0.4245061296241234,
          0.8737918936444048,
          0.22458866704159824,
          0.6407474321500393,
          0.42709914712657854,
          0.43356868517242575,
          0.7975211193879824,
          0.6852365727948607,
          1.9377889084132585,
          0.7040419380275843,
          0.43153801475323605,
          0.9143344717927026,
          0.79415336006611,
          0.3931656285005908,
          0.6861464517215701,
          1.2371241090674643,
          0.49442146446796326,
          1.076328647038631,
          0.9379957910693669,
          0.6563453261463288,
          0.36562576493611393,
          0.7006429592869615,
          0.531883383758347,
          0.6664188691771704,
          0.7235062841823552,
          0.5947421344794811,
          0.3416573526672542,
          0.4426615068574275,
          0.470907601081232,
          0.20938583553755472,
          0.46095643348031734,
          0.2928375748096925,
          0.32280904528630844,
          0.3030309235372317,
          0.3357352090546934,
          0.2762096547108853,
          0.39534231154820726,
          0.09519113501335204,
          0.1843141017777075,
          0.19833336659562162,
          0.6255137991009628,
          0.21653770579220397,
          0.2512586861137033,
          0.659396374723391,
          0.23507065826894502,
          0.20331575045816902,
          0.34363114973989406,
          0.39663469593573975,
          0.43468901052654835,
          0.8023807154333454,
          0.2730106370672992,
          0.5444005578902946,
          0.3203611666989946,
          0.25381488950199954,
          0.49122798008155394,
          0.19344982091967225,
          0.24804425772457916,
          0.24608272908217566,
          0.3987987365372202,
          0.19263340305843488,
          0.3352300528622831,
          0.3261120812617798,
          0.13642850074426827,
          0.34409256470944594,
          0.2590584105123661,
          0.4897221541699931,
          0.26023449888130096,
          0.20197139367287248,
          0.8720794891846743,
          0.13288563141162843,
          0.8293560352759995,
          1.5424047718763125,
          0.8017456756928937,
          0.22055449090779455,
          1.894285688209976,
          0.5417654253522821
         ],
         "y": [
          0.9999999999999999,
          0.9999999999999997,
          0.9999999999999949,
          0.6206113052734024,
          0.7594906236297677,
          0.9999999999999999,
          0.9139649875388237,
          0.9999999999999744,
          0.9807416030175315,
          0.9999999999999999,
          0.8376674255283597,
          0.9999999999999999,
          0.9999999999999999,
          0.041133872485210894,
          0.5995395047893731,
          0.6209915783231892,
          8.062753776385375e-20,
          0.9999999999999999,
          0.8346426173224607,
          0.9059204027042073,
          0.9999999999999999,
          0.7962750751787886,
          0.938493944729068,
          0.9051512021472947,
          0.6947513745176058,
          0.5408455843758981,
          0.7743050088692275,
          0.8919790336208246,
          0.9999999999999769,
          0.9982751133819204,
          0.9445841996936728,
          0.9999999999999999,
          0.9999999999999999,
          0.9999999999999999,
          0.9999999999999999,
          0.17822011553830824,
          0.9999999999985457,
          0.9999999999999999,
          0.9999999999999999,
          0.8937152427153577,
          0.7610317466257365,
          0.9999999999999999,
          0.9999999999999999,
          0.9999999999999999,
          0.7888881432905291,
          0.9999999999999999,
          0.9999999999995728,
          0.9999999999974499,
          0.9299472699932178,
          0.9638780014745167,
          0.9103368006005286,
          0.776942444670235,
          0.8543799631901655,
          0.7870715817922062,
          0.8755585040758744,
          0.9999999999999999,
          0.9999999999945747,
          0.8604115755276954,
          0.9833403653041141,
          0.9167060630354243,
          0.7668513257064207,
          0.24436030809916792,
          0.9521172969823154,
          0.9430561071935365,
          0.9002824389054805,
          0.99999999998664,
          0.9736069227754565,
          0.776779552688445,
          0.9999999999999999,
          0.7167602954551938,
          0.7045499659720063,
          0.8431074266478057,
          0.9999999999999999,
          0.7597956455563474,
          0.9999999999999999,
          0.9999999999999999,
          0.9999999999999999,
          0.7804463034119044,
          0.9088402202569661,
          0.9357309832827708,
          0.8085059116167962,
          0.6321110366853556,
          0.9999867422262482,
          0.6075203900259784,
          0.7883503071225295,
          0.7605883815639829,
          0.6078766317640851,
          0.6599763495569065,
          0.2996307293766376,
          0.7126480998645742,
          0.8075264701971748,
          0.6962785014881064,
          0.6807291973675316,
          0.8334893608474083,
          0.6998956483079576,
          0.5100569062854844,
          0.7263811253037987,
          0.4656923991049086,
          0.5819401798158182,
          0.7244821963077288,
          0.8764220745668394,
          0.7354181656897734,
          0.7624029893249885,
          0.6681895462008591,
          0.6636338715171922,
          0.7255492704107306,
          0.8518796758638936,
          0.7698129880507101,
          0.745810744582989,
          0.9777083988921005,
          0.7559634704877239,
          0.9046030205542539,
          0.8778742218947322,
          0.8800266357478423,
          0.9079614993796598,
          0.5500670589873815,
          0.5096184605461218,
          0.9999999999999989,
          0.9999999999999998,
          0.9999999999999999,
          0.6685411377041007,
          0.9840939463989851,
          0.9542718021027159,
          0.5953786315389563,
          0.9991796058471619,
          0.9999999999999555,
          0.4889241357965311,
          0.7749666503470726,
          0.7489518466749766,
          0.6922711842253085,
          0.9743740139613183,
          0.6806443645480543,
          0.9405236720181476,
          0.9386996766033774,
          0.6373239989714713,
          0.8954997890107972,
          0.9010032831414743,
          0.8808133407036072,
          0.7079484633637529,
          0.9839927282547637,
          0.8252575695700405,
          0.8146566110398717,
          0.9999999999995361,
          0.5530238746830548,
          0.8654974754337309,
          0.6127345543066943,
          0.922398601896014,
          0.8819685558601419,
          9.92070638253009e-31,
          9.306109063052936e-11,
          6.246810103215091e-14,
          0.3516786380622455,
          0.09778173370130057,
          0.9999999999999999,
          0.1213053348382421,
          0.7570435232481995
         ]
        }
       ],
       "layout": {
        "legend": {
         "bgcolor": "#F5F6F9",
         "font": {
          "color": "#4D5663"
         }
        },
        "paper_bgcolor": "#F5F6F9",
        "plot_bgcolor": "#F5F6F9",
        "template": {
         "data": {
          "bar": [
           {
            "error_x": {
             "color": "#2a3f5f"
            },
            "error_y": {
             "color": "#2a3f5f"
            },
            "marker": {
             "line": {
              "color": "#E5ECF6",
              "width": 0.5
             }
            },
            "type": "bar"
           }
          ],
          "barpolar": [
           {
            "marker": {
             "line": {
              "color": "#E5ECF6",
              "width": 0.5
             }
            },
            "type": "barpolar"
           }
          ],
          "carpet": [
           {
            "aaxis": {
             "endlinecolor": "#2a3f5f",
             "gridcolor": "white",
             "linecolor": "white",
             "minorgridcolor": "white",
             "startlinecolor": "#2a3f5f"
            },
            "baxis": {
             "endlinecolor": "#2a3f5f",
             "gridcolor": "white",
             "linecolor": "white",
             "minorgridcolor": "white",
             "startlinecolor": "#2a3f5f"
            },
            "type": "carpet"
           }
          ],
          "choropleth": [
           {
            "colorbar": {
             "outlinewidth": 0,
             "ticks": ""
            },
            "type": "choropleth"
           }
          ],
          "contour": [
           {
            "colorbar": {
             "outlinewidth": 0,
             "ticks": ""
            },
            "colorscale": [
             [
              0,
              "#0d0887"
             ],
             [
              0.1111111111111111,
              "#46039f"
             ],
             [
              0.2222222222222222,
              "#7201a8"
             ],
             [
              0.3333333333333333,
              "#9c179e"
             ],
             [
              0.4444444444444444,
              "#bd3786"
             ],
             [
              0.5555555555555556,
              "#d8576b"
             ],
             [
              0.6666666666666666,
              "#ed7953"
             ],
             [
              0.7777777777777778,
              "#fb9f3a"
             ],
             [
              0.8888888888888888,
              "#fdca26"
             ],
             [
              1,
              "#f0f921"
             ]
            ],
            "type": "contour"
           }
          ],
          "contourcarpet": [
           {
            "colorbar": {
             "outlinewidth": 0,
             "ticks": ""
            },
            "type": "contourcarpet"
           }
          ],
          "heatmap": [
           {
            "colorbar": {
             "outlinewidth": 0,
             "ticks": ""
            },
            "colorscale": [
             [
              0,
              "#0d0887"
             ],
             [
              0.1111111111111111,
              "#46039f"
             ],
             [
              0.2222222222222222,
              "#7201a8"
             ],
             [
              0.3333333333333333,
              "#9c179e"
             ],
             [
              0.4444444444444444,
              "#bd3786"
             ],
             [
              0.5555555555555556,
              "#d8576b"
             ],
             [
              0.6666666666666666,
              "#ed7953"
             ],
             [
              0.7777777777777778,
              "#fb9f3a"
             ],
             [
              0.8888888888888888,
              "#fdca26"
             ],
             [
              1,
              "#f0f921"
             ]
            ],
            "type": "heatmap"
           }
          ],
          "heatmapgl": [
           {
            "colorbar": {
             "outlinewidth": 0,
             "ticks": ""
            },
            "colorscale": [
             [
              0,
              "#0d0887"
             ],
             [
              0.1111111111111111,
              "#46039f"
             ],
             [
              0.2222222222222222,
              "#7201a8"
             ],
             [
              0.3333333333333333,
              "#9c179e"
             ],
             [
              0.4444444444444444,
              "#bd3786"
             ],
             [
              0.5555555555555556,
              "#d8576b"
             ],
             [
              0.6666666666666666,
              "#ed7953"
             ],
             [
              0.7777777777777778,
              "#fb9f3a"
             ],
             [
              0.8888888888888888,
              "#fdca26"
             ],
             [
              1,
              "#f0f921"
             ]
            ],
            "type": "heatmapgl"
           }
          ],
          "histogram": [
           {
            "marker": {
             "colorbar": {
              "outlinewidth": 0,
              "ticks": ""
             }
            },
            "type": "histogram"
           }
          ],
          "histogram2d": [
           {
            "colorbar": {
             "outlinewidth": 0,
             "ticks": ""
            },
            "colorscale": [
             [
              0,
              "#0d0887"
             ],
             [
              0.1111111111111111,
              "#46039f"
             ],
             [
              0.2222222222222222,
              "#7201a8"
             ],
             [
              0.3333333333333333,
              "#9c179e"
             ],
             [
              0.4444444444444444,
              "#bd3786"
             ],
             [
              0.5555555555555556,
              "#d8576b"
             ],
             [
              0.6666666666666666,
              "#ed7953"
             ],
             [
              0.7777777777777778,
              "#fb9f3a"
             ],
             [
              0.8888888888888888,
              "#fdca26"
             ],
             [
              1,
              "#f0f921"
             ]
            ],
            "type": "histogram2d"
           }
          ],
          "histogram2dcontour": [
           {
            "colorbar": {
             "outlinewidth": 0,
             "ticks": ""
            },
            "colorscale": [
             [
              0,
              "#0d0887"
             ],
             [
              0.1111111111111111,
              "#46039f"
             ],
             [
              0.2222222222222222,
              "#7201a8"
             ],
             [
              0.3333333333333333,
              "#9c179e"
             ],
             [
              0.4444444444444444,
              "#bd3786"
             ],
             [
              0.5555555555555556,
              "#d8576b"
             ],
             [
              0.6666666666666666,
              "#ed7953"
             ],
             [
              0.7777777777777778,
              "#fb9f3a"
             ],
             [
              0.8888888888888888,
              "#fdca26"
             ],
             [
              1,
              "#f0f921"
             ]
            ],
            "type": "histogram2dcontour"
           }
          ],
          "mesh3d": [
           {
            "colorbar": {
             "outlinewidth": 0,
             "ticks": ""
            },
            "type": "mesh3d"
           }
          ],
          "parcoords": [
           {
            "line": {
             "colorbar": {
              "outlinewidth": 0,
              "ticks": ""
             }
            },
            "type": "parcoords"
           }
          ],
          "pie": [
           {
            "automargin": true,
            "type": "pie"
           }
          ],
          "scatter": [
           {
            "marker": {
             "colorbar": {
              "outlinewidth": 0,
              "ticks": ""
             }
            },
            "type": "scatter"
           }
          ],
          "scatter3d": [
           {
            "line": {
             "colorbar": {
              "outlinewidth": 0,
              "ticks": ""
             }
            },
            "marker": {
             "colorbar": {
              "outlinewidth": 0,
              "ticks": ""
             }
            },
            "type": "scatter3d"
           }
          ],
          "scattercarpet": [
           {
            "marker": {
             "colorbar": {
              "outlinewidth": 0,
              "ticks": ""
             }
            },
            "type": "scattercarpet"
           }
          ],
          "scattergeo": [
           {
            "marker": {
             "colorbar": {
              "outlinewidth": 0,
              "ticks": ""
             }
            },
            "type": "scattergeo"
           }
          ],
          "scattergl": [
           {
            "marker": {
             "colorbar": {
              "outlinewidth": 0,
              "ticks": ""
             }
            },
            "type": "scattergl"
           }
          ],
          "scattermapbox": [
           {
            "marker": {
             "colorbar": {
              "outlinewidth": 0,
              "ticks": ""
             }
            },
            "type": "scattermapbox"
           }
          ],
          "scatterpolar": [
           {
            "marker": {
             "colorbar": {
              "outlinewidth": 0,
              "ticks": ""
             }
            },
            "type": "scatterpolar"
           }
          ],
          "scatterpolargl": [
           {
            "marker": {
             "colorbar": {
              "outlinewidth": 0,
              "ticks": ""
             }
            },
            "type": "scatterpolargl"
           }
          ],
          "scatterternary": [
           {
            "marker": {
             "colorbar": {
              "outlinewidth": 0,
              "ticks": ""
             }
            },
            "type": "scatterternary"
           }
          ],
          "surface": [
           {
            "colorbar": {
             "outlinewidth": 0,
             "ticks": ""
            },
            "colorscale": [
             [
              0,
              "#0d0887"
             ],
             [
              0.1111111111111111,
              "#46039f"
             ],
             [
              0.2222222222222222,
              "#7201a8"
             ],
             [
              0.3333333333333333,
              "#9c179e"
             ],
             [
              0.4444444444444444,
              "#bd3786"
             ],
             [
              0.5555555555555556,
              "#d8576b"
             ],
             [
              0.6666666666666666,
              "#ed7953"
             ],
             [
              0.7777777777777778,
              "#fb9f3a"
             ],
             [
              0.8888888888888888,
              "#fdca26"
             ],
             [
              1,
              "#f0f921"
             ]
            ],
            "type": "surface"
           }
          ],
          "table": [
           {
            "cells": {
             "fill": {
              "color": "#EBF0F8"
             },
             "line": {
              "color": "white"
             }
            },
            "header": {
             "fill": {
              "color": "#C8D4E3"
             },
             "line": {
              "color": "white"
             }
            },
            "type": "table"
           }
          ]
         },
         "layout": {
          "annotationdefaults": {
           "arrowcolor": "#2a3f5f",
           "arrowhead": 0,
           "arrowwidth": 1
          },
          "coloraxis": {
           "colorbar": {
            "outlinewidth": 0,
            "ticks": ""
           }
          },
          "colorscale": {
           "diverging": [
            [
             0,
             "#8e0152"
            ],
            [
             0.1,
             "#c51b7d"
            ],
            [
             0.2,
             "#de77ae"
            ],
            [
             0.3,
             "#f1b6da"
            ],
            [
             0.4,
             "#fde0ef"
            ],
            [
             0.5,
             "#f7f7f7"
            ],
            [
             0.6,
             "#e6f5d0"
            ],
            [
             0.7,
             "#b8e186"
            ],
            [
             0.8,
             "#7fbc41"
            ],
            [
             0.9,
             "#4d9221"
            ],
            [
             1,
             "#276419"
            ]
           ],
           "sequential": [
            [
             0,
             "#0d0887"
            ],
            [
             0.1111111111111111,
             "#46039f"
            ],
            [
             0.2222222222222222,
             "#7201a8"
            ],
            [
             0.3333333333333333,
             "#9c179e"
            ],
            [
             0.4444444444444444,
             "#bd3786"
            ],
            [
             0.5555555555555556,
             "#d8576b"
            ],
            [
             0.6666666666666666,
             "#ed7953"
            ],
            [
             0.7777777777777778,
             "#fb9f3a"
            ],
            [
             0.8888888888888888,
             "#fdca26"
            ],
            [
             1,
             "#f0f921"
            ]
           ],
           "sequentialminus": [
            [
             0,
             "#0d0887"
            ],
            [
             0.1111111111111111,
             "#46039f"
            ],
            [
             0.2222222222222222,
             "#7201a8"
            ],
            [
             0.3333333333333333,
             "#9c179e"
            ],
            [
             0.4444444444444444,
             "#bd3786"
            ],
            [
             0.5555555555555556,
             "#d8576b"
            ],
            [
             0.6666666666666666,
             "#ed7953"
            ],
            [
             0.7777777777777778,
             "#fb9f3a"
            ],
            [
             0.8888888888888888,
             "#fdca26"
            ],
            [
             1,
             "#f0f921"
            ]
           ]
          },
          "colorway": [
           "#636efa",
           "#EF553B",
           "#00cc96",
           "#ab63fa",
           "#FFA15A",
           "#19d3f3",
           "#FF6692",
           "#B6E880",
           "#FF97FF",
           "#FECB52"
          ],
          "font": {
           "color": "#2a3f5f"
          },
          "geo": {
           "bgcolor": "white",
           "lakecolor": "white",
           "landcolor": "#E5ECF6",
           "showlakes": true,
           "showland": true,
           "subunitcolor": "white"
          },
          "hoverlabel": {
           "align": "left"
          },
          "hovermode": "closest",
          "mapbox": {
           "style": "light"
          },
          "paper_bgcolor": "white",
          "plot_bgcolor": "#E5ECF6",
          "polar": {
           "angularaxis": {
            "gridcolor": "white",
            "linecolor": "white",
            "ticks": ""
           },
           "bgcolor": "#E5ECF6",
           "radialaxis": {
            "gridcolor": "white",
            "linecolor": "white",
            "ticks": ""
           }
          },
          "scene": {
           "xaxis": {
            "backgroundcolor": "#E5ECF6",
            "gridcolor": "white",
            "gridwidth": 2,
            "linecolor": "white",
            "showbackground": true,
            "ticks": "",
            "zerolinecolor": "white"
           },
           "yaxis": {
            "backgroundcolor": "#E5ECF6",
            "gridcolor": "white",
            "gridwidth": 2,
            "linecolor": "white",
            "showbackground": true,
            "ticks": "",
            "zerolinecolor": "white"
           },
           "zaxis": {
            "backgroundcolor": "#E5ECF6",
            "gridcolor": "white",
            "gridwidth": 2,
            "linecolor": "white",
            "showbackground": true,
            "ticks": "",
            "zerolinecolor": "white"
           }
          },
          "shapedefaults": {
           "line": {
            "color": "#2a3f5f"
           }
          },
          "ternary": {
           "aaxis": {
            "gridcolor": "white",
            "linecolor": "white",
            "ticks": ""
           },
           "baxis": {
            "gridcolor": "white",
            "linecolor": "white",
            "ticks": ""
           },
           "bgcolor": "#E5ECF6",
           "caxis": {
            "gridcolor": "white",
            "linecolor": "white",
            "ticks": ""
           }
          },
          "title": {
           "x": 0.05
          },
          "xaxis": {
           "automargin": true,
           "gridcolor": "white",
           "linecolor": "white",
           "ticks": "",
           "title": {
            "standoff": 15
           },
           "zerolinecolor": "white",
           "zerolinewidth": 2
          },
          "yaxis": {
           "automargin": true,
           "gridcolor": "white",
           "linecolor": "white",
           "ticks": "",
           "title": {
            "standoff": 15
           },
           "zerolinecolor": "white",
           "zerolinewidth": 2
          }
         }
        },
        "title": {
         "font": {
          "color": "#4D5663"
         },
         "text": "Growth rate vs growth rate dampening per city in England + Wales"
        },
        "xaxis": {
         "gridcolor": "#E1E5ED",
         "showgrid": true,
         "tickfont": {
          "color": "#4D5663"
         },
         "title": {
          "font": {
           "color": "#4D5663"
          },
          "text": "Growth rate (r)"
         },
         "zerolinecolor": "#E1E5ED"
        },
        "yaxis": {
         "autorange": "reversed",
         "gridcolor": "#E1E5ED",
         "showgrid": true,
         "tickfont": {
          "color": "#4D5663"
         },
         "title": {
          "font": {
           "color": "#4D5663"
          },
          "text": "Growth rate dampening (p)"
         },
         "zerolinecolor": "#E1E5ED"
        }
       }
      },
      "text/html": [
       "<div>\n",
       "        \n",
       "        \n",
       "            <div id=\"b0ffcab6-4f6e-4075-af19-9f2d63d3aacc\" class=\"plotly-graph-div\" style=\"height:525px; width:100%;\"></div>\n",
       "            <script type=\"text/javascript\">\n",
       "                require([\"plotly\"], function(Plotly) {\n",
       "                    window.PLOTLYENV=window.PLOTLYENV || {};\n",
       "                    \n",
       "                if (document.getElementById(\"b0ffcab6-4f6e-4075-af19-9f2d63d3aacc\")) {\n",
       "                    Plotly.newPlot(\n",
       "                        'b0ffcab6-4f6e-4075-af19-9f2d63d3aacc',\n",
       "                        [{\"hovertemplate\": \"<br><b>%{text}</b><br>Growth rate (r): %{x:.2f}<br>Growth dampening (p): %{y:.2f}\", \"line\": {\"color\": \"rgba(255, 153, 51, 1.0)\", \"dash\": \"solid\", \"shape\": \"linear\", \"width\": 1.3}, \"marker\": {\"size\": [13.183347464017316, 8.12415060330663, 7.193685818395112, 9.774289614064447, 12.332621592519935, 9.656627474604601, 10.579081573848484, 11.352568901754783, 15.13027535075774, 12.381403155135274, 9.887510598012987, 12.992200020858993, 7.4547199493640015, 6.907755278982138, 11.966952139692824, 10.579081573848484, 8.317766166719343, 9.13356731317027, 17.030261406804847, 11.213008854850106, 12.021999555697413, 13.53257851955055, 13.220157741792761, 12.523161809686911, 13.565365731147121, 13.108343557401064, 12.181329031639258, 13.031416265561052, 10.990684938388938, 16.327253131565378, 9.774289614064447, 15.168737416044923, 11.419987469310959, 10.990684938388938, 11.352568901754783, 10.30196161345544, 6.591673732008658, 8.317766166719343, 7.694848072384611, 9.13356731317027, 13.43201044343462, 12.745485726148079, 11.352568901754783, 12.2830336866663, 17.875274079089344, 11.485924189467285, 10.101887489959422, 12.2830336866663, 14.182163456137022, 11.966952139692824, 13.96188105047257, 12.523161809686911, 13.724132935510148, 16.041322592152405, 14.846279671134505, 12.829998357048165, 14.508845720854435, 15.788070566714657, 9.656627474604601, 12.614077858172898, 9.996613530525611, 10.579081573848484, 16.069758824016038, 14.532561259375774, 18.720827535512306, 13.108343557401064, 14.41206313419977, 14.781761055471616, 12.912195279612511, 14.484941211906904, 15.091313764177306, 14.508845720854435, 10.39720770839918, 12.076055072205449, 12.429404179174597, 9.13356731317027, 9.534161491043838, 10.832753737932673, 13.815510557964275, 16.491504675879607, 16.92572121281434, 14.018486503385716, 13.397724355963751, 14.337370479334588, 15.528449197721486, 14.909439898728003, 14.846279671134505, 14.846279671134505, 14.846279671134505, 17.6415989592021, 16.153485188367267, 16.314237926769586, 17.699692060747473, 15.644807272826958, 16.978446647278865, 16.26160499781686, 13.815510557964275, 14.337370479334588, 14.337370479334588, 17.314323369390046, 16.77296094153257, 16.9992800643373, 16.739189477958668, 15.051839510444772, 15.371891938209776, 16.576358817395352, 13.96188105047257, 15.281250602420286, 15.07164156253883, 13.220157741792761, 15.24421309495339, 14.888533890779721, 13.629884346810012, 13.597798479459769, 15.612020061230385, 8.83331693749932, 10.489522684399441, 6.907755278982138, 12.129153803503652, 13.220157741792761, 12.745485726148079, 9.887510598012987, 12.871378323445173, 11.283600347080688, 11.06663836234181, 11.613603032723674, 9.406482647787449, 14.556090791758852, 11.352568901754783, 18.205276764732332, 16.60016846618256, 14.824927267827912, 17.469137686449056, 14.182163456137022, 10.75055681536833, 10.579081573848484, 13.070126480068776, 12.476649250079014, 10.75055681536833, 10.39720770839918, 11.213008854850106, 11.910875740656365, 9.774289614064447, 10.203592144986466, 12.614077858172898, 13.53257851955055, 14.018486503385716, 10.75055681536833, 6.238324625039507, 2.0794415416798357, 6.238324625039507, 8.83331693749932, 8.12415060330663, 9.996613530525611, 9.406482647787449, 10.912758479179157], \"symbol\": \"circle\"}, \"mode\": \"markers\", \"name\": \"p\", \"text\": [\"County Durham (latest total cases: 81)\", \"Darlington (latest total cases: 15)\", \"Hartlepool (latest total cases: 11)\", \"Middlesbrough (latest total cases: 26)\", \"Northumberland (latest total cases: 61)\", \"Redcar and Cleveland (latest total cases: 25)\", \"Stockton-on-Tees (latest total cases: 34)\", \"Gateshead (latest total cases: 44)\", \"Newcastle upon Tyne (latest total cases: 155)\", \"North Tyneside (latest total cases: 62)\", \"South Tyneside (latest total cases: 27)\", \"Sunderland (latest total cases: 76)\", \"Blackburn with Darwen (latest total cases: 12)\", \"Blackpool (latest total cases: 10)\", \"Cheshire East (latest total cases: 54)\", \"Cheshire West and Chester (latest total cases: 34)\", \"Halton (latest total cases: 16)\", \"Warrington (latest total cases: 21)\", \"Cumbria (latest total cases: 292)\", \"Bolton (latest total cases: 42)\", \"Bury (latest total cases: 55)\", \"Manchester (latest total cases: 91)\", \"Oldham (latest total cases: 82)\", \"Rochdale (latest total cases: 65)\", \"Salford (latest total cases: 92)\", \"Stockport (latest total cases: 79)\", \"Tameside (latest total cases: 58)\", \"Trafford (latest total cases: 77)\", \"Wigan (latest total cases: 39)\", \"Lancashire (latest total cases: 231)\", \"Knowsley (latest total cases: 26)\", \"Liverpool (latest total cases: 157)\", \"Sefton (latest total cases: 45)\", \"St. Helens (latest total cases: 39)\", \"Wirral (latest total cases: 44)\", \"East Riding of Yorkshire (latest total cases: 31)\", \"Kingston upon Hull, City of (latest total cases: 9)\", \"North East Lincolnshire (latest total cases: 16)\", \"North Lincolnshire (latest total cases: 13)\", \"York (latest total cases: 21)\", \"North Yorkshire (latest total cases: 88)\", \"Barnsley (latest total cases: 70)\", \"Doncaster (latest total cases: 44)\", \"Rotherham (latest total cases: 60)\", \"Sheffield (latest total cases: 387)\", \"Bradford (latest total cases: 46)\", \"Calderdale (latest total cases: 29)\", \"Kirklees (latest total cases: 60)\", \"Leeds (latest total cases: 113)\", \"Wakefield (latest total cases: 54)\", \"Derby (latest total cases: 105)\", \"Leicester (latest total cases: 65)\", \"Nottingham (latest total cases: 97)\", \"Derbyshire (latest total cases: 210)\", \"Leicestershire (latest total cases: 141)\", \"Lincolnshire (latest total cases: 72)\", \"Northamptonshire (latest total cases: 126)\", \"Nottinghamshire (latest total cases: 193)\", \"Herefordshire, County of (latest total cases: 25)\", \"Shropshire (latest total cases: 67)\", \"Stoke-on-Trent (latest total cases: 28)\", \"Telford and Wrekin (latest total cases: 34)\", \"Staffordshire (latest total cases: 212)\", \"Warwickshire (latest total cases: 127)\", \"Birmingham (latest total cases: 513)\", \"Coventry (latest total cases: 79)\", \"Dudley (latest total cases: 122)\", \"Sandwell (latest total cases: 138)\", \"Solihull (latest total cases: 74)\", \"Walsall (latest total cases: 125)\", \"Wolverhampton (latest total cases: 153)\", \"Worcestershire (latest total cases: 126)\", \"Bedford (latest total cases: 32)\", \"Central Bedfordshire (latest total cases: 56)\", \"Luton (latest total cases: 63)\", \"Peterborough (latest total cases: 21)\", \"Southend-on-Sea (latest total cases: 24)\", \"Thurrock (latest total cases: 37)\", \"Cambridgeshire (latest total cases: 100)\", \"Essex (latest total cases: 244)\", \"Hertfordshire (latest total cases: 282)\", \"Norfolk (latest total cases: 107)\", \"Suffolk (latest total cases: 87)\", \"Camden (latest total cases: 119)\", \"Hackney (latest total cases: 177)\", \"Hammersmith and Fulham (latest total cases: 144)\", \"Haringey (latest total cases: 141)\", \"Islington (latest total cases: 141)\", \"Kensington and Chelsea (latest total cases: 141)\", \"Lambeth (latest total cases: 358)\", \"Lewisham (latest total cases: 218)\", \"Newham (latest total cases: 230)\", \"Southwark (latest total cases: 365)\", \"Tower Hamlets (latest total cases: 184)\", \"Wandsworth (latest total cases: 287)\", \"Westminster (latest total cases: 226)\", \"Barking and Dagenham (latest total cases: 100)\", \"Barnet (latest total cases: 119)\", \"Bexley (latest total cases: 119)\", \"Brent (latest total cases: 321)\", \"Bromley (latest total cases: 268)\", \"Croydon (latest total cases: 289)\", \"Ealing (latest total cases: 265)\", \"Enfield (latest total cases: 151)\", \"Greenwich (latest total cases: 168)\", \"Harrow (latest total cases: 251)\", \"Havering (latest total cases: 105)\", \"Hillingdon (latest total cases: 163)\", \"Hounslow (latest total cases: 152)\", \"Kingston upon Thames (latest total cases: 82)\", \"Merton (latest total cases: 161)\", \"Redbridge (latest total cases: 143)\", \"Richmond upon Thames (latest total cases: 94)\", \"Sutton (latest total cases: 93)\", \"Waltham Forest (latest total cases: 182)\", \"Bracknell Forest (latest total cases: 19)\", \"Brighton and Hove (latest total cases: 33)\", \"Isle of Wight (latest total cases: 10)\", \"Medway (latest total cases: 57)\", \"Milton Keynes (latest total cases: 82)\", \"Portsmouth (latest total cases: 70)\", \"Reading (latest total cases: 27)\", \"Slough (latest total cases: 73)\", \"Southampton (latest total cases: 43)\", \"West Berkshire (latest total cases: 40)\", \"Windsor and Maidenhead (latest total cases: 48)\", \"Wokingham (latest total cases: 23)\", \"Buckinghamshire (latest total cases: 128)\", \"East Sussex (latest total cases: 44)\", \"Hampshire (latest total cases: 432)\", \"Kent (latest total cases: 253)\", \"Oxfordshire (latest total cases: 140)\", \"Surrey (latest total cases: 338)\", \"West Sussex (latest total cases: 113)\", \"Bath and North East Somerset (latest total cases: 36)\", \"Bournemouth, Christchurch and Poole (latest total cases: 34)\", \"Bristol, City of (latest total cases: 78)\", \"Cornwall (latest total cases: 64)\", \"Dorset (latest total cases: 36)\", \"North Somerset (latest total cases: 32)\", \"Plymouth (latest total cases: 42)\", \"South Gloucestershire (latest total cases: 53)\", \"Swindon (latest total cases: 26)\", \"Torbay (latest total cases: 30)\", \"Wiltshire (latest total cases: 67)\", \"Devon (latest total cases: 91)\", \"Gloucestershire (latest total cases: 107)\", \"Somerset (latest total cases: 36)\", \"Powys (latest total cases: 8)\", \"Pembrokeshire (latest total cases: 2)\", \"Carmarthenshire (latest total cases: 8)\", \"Swansea (latest total cases: 19)\", \"Neath Port Talbot (latest total cases: 15)\", \"Cardiff (latest total cases: 28)\", \"Caerphilly (latest total cases: 23)\", \"Newport (latest total cases: 38)\"], \"type\": \"scatter\", \"x\": [0.2298198879344667, 0.17477077982624997, 0.20265723120850682, 0.7981224861062125, 0.6490705039911355, 0.20300992957077296, 0.22665750800720352, 0.22549252048071095, 0.24334859813445595, 0.18278063688985494, 0.39815500216941374, 0.21521708533736986, 0.1992633614865207, 0.5374476484630949, 0.6338890009763773, 0.46283716065696845, 1.026211635897646, 0.1669606807783386, 0.42853080421728795, 0.1997244964103572, 0.17660120966670942, 0.3307009696138308, 0.23012301198103818, 0.2830858206666919, 0.6950097416612313, 0.862542492469385, 0.31818939892173254, 0.2503365457428934, 0.1577820435229942, 0.24730608829231315, 0.295160489392061, 0.22930279158821243, 0.21032691370674655, 0.247391856194187, 0.17021859080683008, 1.0992902157995126, 0.06914468297906298, 0.3813267744815212, 0.1239196897288049, 0.1639061359625951, 0.5049139053358385, 0.18760012421440228, 0.25315704442751785, 0.21589084256105365, 0.6750434864979061, 0.16964024408302286, 0.19229200966226342, 0.22081184893706274, 0.25517038842341927, 0.28489596511387866, 0.3267707912328617, 0.449676718271762, 0.301472816535006, 0.4590213932492388, 0.32002826627699493, 0.18919366220697795, 0.21985946832677442, 0.3549292409513342, 0.18170476963434506, 0.2680304515888754, 0.47555068365292075, 2.392773978459592, 0.2802540388631094, 0.26971746029074184, 0.3967327636644231, 0.1921066094109149, 0.2541375852269531, 0.6487494830747189, 0.3314661266093962, 0.6529022344009286, 0.5899637389950101, 0.45958563089903276, 0.2887526813467268, 0.45283079450661023, 0.18606199584699418, 0.1274506105178492, 0.14112772858895356, 0.3964425632698087, 0.301086291314521, 0.3011146015859206, 0.4245061296241234, 0.8737918936444048, 0.22458866704159824, 0.6407474321500393, 0.42709914712657854, 0.43356868517242575, 0.7975211193879824, 0.6852365727948607, 1.9377889084132585, 0.7040419380275843, 0.43153801475323605, 0.9143344717927026, 0.79415336006611, 0.3931656285005908, 0.6861464517215701, 1.2371241090674643, 0.49442146446796326, 1.076328647038631, 0.9379957910693669, 0.6563453261463288, 0.36562576493611393, 0.7006429592869615, 0.531883383758347, 0.6664188691771704, 0.7235062841823552, 0.5947421344794811, 0.3416573526672542, 0.4426615068574275, 0.470907601081232, 0.20938583553755472, 0.46095643348031734, 0.2928375748096925, 0.32280904528630844, 0.3030309235372317, 0.3357352090546934, 0.2762096547108853, 0.39534231154820726, 0.09519113501335204, 0.1843141017777075, 0.19833336659562162, 0.6255137991009628, 0.21653770579220397, 0.2512586861137033, 0.659396374723391, 0.23507065826894502, 0.20331575045816902, 0.34363114973989406, 0.39663469593573975, 0.43468901052654835, 0.8023807154333454, 0.2730106370672992, 0.5444005578902946, 0.3203611666989946, 0.25381488950199954, 0.49122798008155394, 0.19344982091967225, 0.24804425772457916, 0.24608272908217566, 0.3987987365372202, 0.19263340305843488, 0.3352300528622831, 0.3261120812617798, 0.13642850074426827, 0.34409256470944594, 0.2590584105123661, 0.4897221541699931, 0.26023449888130096, 0.20197139367287248, 0.8720794891846743, 0.13288563141162843, 0.8293560352759995, 1.5424047718763125, 0.8017456756928937, 0.22055449090779455, 1.894285688209976, 0.5417654253522821], \"y\": [0.9999999999999999, 0.9999999999999997, 0.9999999999999949, 0.6206113052734024, 0.7594906236297677, 0.9999999999999999, 0.9139649875388237, 0.9999999999999744, 0.9807416030175315, 0.9999999999999999, 0.8376674255283597, 0.9999999999999999, 0.9999999999999999, 0.041133872485210894, 0.5995395047893731, 0.6209915783231892, 8.062753776385375e-20, 0.9999999999999999, 0.8346426173224607, 0.9059204027042073, 0.9999999999999999, 0.7962750751787886, 0.938493944729068, 0.9051512021472947, 0.6947513745176058, 0.5408455843758981, 0.7743050088692275, 0.8919790336208246, 0.9999999999999769, 0.9982751133819204, 0.9445841996936728, 0.9999999999999999, 0.9999999999999999, 0.9999999999999999, 0.9999999999999999, 0.17822011553830824, 0.9999999999985457, 0.9999999999999999, 0.9999999999999999, 0.8937152427153577, 0.7610317466257365, 0.9999999999999999, 0.9999999999999999, 0.9999999999999999, 0.7888881432905291, 0.9999999999999999, 0.9999999999995728, 0.9999999999974499, 0.9299472699932178, 0.9638780014745167, 0.9103368006005286, 0.776942444670235, 0.8543799631901655, 0.7870715817922062, 0.8755585040758744, 0.9999999999999999, 0.9999999999945747, 0.8604115755276954, 0.9833403653041141, 0.9167060630354243, 0.7668513257064207, 0.24436030809916792, 0.9521172969823154, 0.9430561071935365, 0.9002824389054805, 0.99999999998664, 0.9736069227754565, 0.776779552688445, 0.9999999999999999, 0.7167602954551938, 0.7045499659720063, 0.8431074266478057, 0.9999999999999999, 0.7597956455563474, 0.9999999999999999, 0.9999999999999999, 0.9999999999999999, 0.7804463034119044, 0.9088402202569661, 0.9357309832827708, 0.8085059116167962, 0.6321110366853556, 0.9999867422262482, 0.6075203900259784, 0.7883503071225295, 0.7605883815639829, 0.6078766317640851, 0.6599763495569065, 0.2996307293766376, 0.7126480998645742, 0.8075264701971748, 0.6962785014881064, 0.6807291973675316, 0.8334893608474083, 0.6998956483079576, 0.5100569062854844, 0.7263811253037987, 0.4656923991049086, 0.5819401798158182, 0.7244821963077288, 0.8764220745668394, 0.7354181656897734, 0.7624029893249885, 0.6681895462008591, 0.6636338715171922, 0.7255492704107306, 0.8518796758638936, 0.7698129880507101, 0.745810744582989, 0.9777083988921005, 0.7559634704877239, 0.9046030205542539, 0.8778742218947322, 0.8800266357478423, 0.9079614993796598, 0.5500670589873815, 0.5096184605461218, 0.9999999999999989, 0.9999999999999998, 0.9999999999999999, 0.6685411377041007, 0.9840939463989851, 0.9542718021027159, 0.5953786315389563, 0.9991796058471619, 0.9999999999999555, 0.4889241357965311, 0.7749666503470726, 0.7489518466749766, 0.6922711842253085, 0.9743740139613183, 0.6806443645480543, 0.9405236720181476, 0.9386996766033774, 0.6373239989714713, 0.8954997890107972, 0.9010032831414743, 0.8808133407036072, 0.7079484633637529, 0.9839927282547637, 0.8252575695700405, 0.8146566110398717, 0.9999999999995361, 0.5530238746830548, 0.8654974754337309, 0.6127345543066943, 0.922398601896014, 0.8819685558601419, 9.92070638253009e-31, 9.306109063052936e-11, 6.246810103215091e-14, 0.3516786380622455, 0.09778173370130057, 0.9999999999999999, 0.1213053348382421, 0.7570435232481995]}],\n",
       "                        {\"legend\": {\"bgcolor\": \"#F5F6F9\", \"font\": {\"color\": \"#4D5663\"}}, \"paper_bgcolor\": \"#F5F6F9\", \"plot_bgcolor\": \"#F5F6F9\", \"template\": {\"data\": {\"bar\": [{\"error_x\": {\"color\": \"#2a3f5f\"}, \"error_y\": {\"color\": \"#2a3f5f\"}, \"marker\": {\"line\": {\"color\": \"#E5ECF6\", \"width\": 0.5}}, \"type\": \"bar\"}], \"barpolar\": [{\"marker\": {\"line\": {\"color\": \"#E5ECF6\", \"width\": 0.5}}, \"type\": \"barpolar\"}], \"carpet\": [{\"aaxis\": {\"endlinecolor\": \"#2a3f5f\", \"gridcolor\": \"white\", \"linecolor\": \"white\", \"minorgridcolor\": \"white\", \"startlinecolor\": \"#2a3f5f\"}, \"baxis\": {\"endlinecolor\": \"#2a3f5f\", \"gridcolor\": \"white\", \"linecolor\": \"white\", \"minorgridcolor\": \"white\", \"startlinecolor\": \"#2a3f5f\"}, \"type\": \"carpet\"}], \"choropleth\": [{\"colorbar\": {\"outlinewidth\": 0, \"ticks\": \"\"}, \"type\": \"choropleth\"}], \"contour\": [{\"colorbar\": {\"outlinewidth\": 0, \"ticks\": \"\"}, \"colorscale\": [[0.0, \"#0d0887\"], [0.1111111111111111, \"#46039f\"], [0.2222222222222222, \"#7201a8\"], [0.3333333333333333, \"#9c179e\"], [0.4444444444444444, \"#bd3786\"], [0.5555555555555556, \"#d8576b\"], [0.6666666666666666, \"#ed7953\"], [0.7777777777777778, \"#fb9f3a\"], [0.8888888888888888, \"#fdca26\"], [1.0, \"#f0f921\"]], \"type\": \"contour\"}], \"contourcarpet\": [{\"colorbar\": {\"outlinewidth\": 0, \"ticks\": \"\"}, \"type\": \"contourcarpet\"}], \"heatmap\": [{\"colorbar\": {\"outlinewidth\": 0, \"ticks\": \"\"}, \"colorscale\": [[0.0, \"#0d0887\"], [0.1111111111111111, \"#46039f\"], [0.2222222222222222, \"#7201a8\"], [0.3333333333333333, \"#9c179e\"], [0.4444444444444444, \"#bd3786\"], [0.5555555555555556, \"#d8576b\"], [0.6666666666666666, \"#ed7953\"], [0.7777777777777778, \"#fb9f3a\"], [0.8888888888888888, \"#fdca26\"], [1.0, \"#f0f921\"]], \"type\": \"heatmap\"}], \"heatmapgl\": [{\"colorbar\": {\"outlinewidth\": 0, \"ticks\": \"\"}, \"colorscale\": [[0.0, \"#0d0887\"], [0.1111111111111111, \"#46039f\"], [0.2222222222222222, \"#7201a8\"], [0.3333333333333333, \"#9c179e\"], [0.4444444444444444, \"#bd3786\"], [0.5555555555555556, \"#d8576b\"], [0.6666666666666666, \"#ed7953\"], [0.7777777777777778, \"#fb9f3a\"], [0.8888888888888888, \"#fdca26\"], [1.0, \"#f0f921\"]], \"type\": \"heatmapgl\"}], \"histogram\": [{\"marker\": {\"colorbar\": {\"outlinewidth\": 0, \"ticks\": \"\"}}, \"type\": \"histogram\"}], \"histogram2d\": [{\"colorbar\": {\"outlinewidth\": 0, \"ticks\": \"\"}, \"colorscale\": [[0.0, \"#0d0887\"], [0.1111111111111111, \"#46039f\"], [0.2222222222222222, \"#7201a8\"], [0.3333333333333333, \"#9c179e\"], [0.4444444444444444, \"#bd3786\"], [0.5555555555555556, \"#d8576b\"], [0.6666666666666666, \"#ed7953\"], [0.7777777777777778, \"#fb9f3a\"], [0.8888888888888888, \"#fdca26\"], [1.0, \"#f0f921\"]], \"type\": \"histogram2d\"}], \"histogram2dcontour\": [{\"colorbar\": {\"outlinewidth\": 0, \"ticks\": \"\"}, \"colorscale\": [[0.0, \"#0d0887\"], [0.1111111111111111, \"#46039f\"], [0.2222222222222222, \"#7201a8\"], [0.3333333333333333, \"#9c179e\"], [0.4444444444444444, \"#bd3786\"], [0.5555555555555556, \"#d8576b\"], [0.6666666666666666, \"#ed7953\"], [0.7777777777777778, \"#fb9f3a\"], [0.8888888888888888, \"#fdca26\"], [1.0, \"#f0f921\"]], \"type\": \"histogram2dcontour\"}], \"mesh3d\": [{\"colorbar\": {\"outlinewidth\": 0, \"ticks\": \"\"}, \"type\": \"mesh3d\"}], \"parcoords\": [{\"line\": {\"colorbar\": {\"outlinewidth\": 0, \"ticks\": \"\"}}, \"type\": \"parcoords\"}], \"pie\": [{\"automargin\": true, \"type\": \"pie\"}], \"scatter\": [{\"marker\": {\"colorbar\": {\"outlinewidth\": 0, \"ticks\": \"\"}}, \"type\": \"scatter\"}], \"scatter3d\": [{\"line\": {\"colorbar\": {\"outlinewidth\": 0, \"ticks\": \"\"}}, \"marker\": {\"colorbar\": {\"outlinewidth\": 0, \"ticks\": \"\"}}, \"type\": \"scatter3d\"}], \"scattercarpet\": [{\"marker\": {\"colorbar\": {\"outlinewidth\": 0, \"ticks\": \"\"}}, \"type\": \"scattercarpet\"}], \"scattergeo\": [{\"marker\": {\"colorbar\": {\"outlinewidth\": 0, \"ticks\": \"\"}}, \"type\": \"scattergeo\"}], \"scattergl\": [{\"marker\": {\"colorbar\": {\"outlinewidth\": 0, \"ticks\": \"\"}}, \"type\": \"scattergl\"}], \"scattermapbox\": [{\"marker\": {\"colorbar\": {\"outlinewidth\": 0, \"ticks\": \"\"}}, \"type\": \"scattermapbox\"}], \"scatterpolar\": [{\"marker\": {\"colorbar\": {\"outlinewidth\": 0, \"ticks\": \"\"}}, \"type\": \"scatterpolar\"}], \"scatterpolargl\": [{\"marker\": {\"colorbar\": {\"outlinewidth\": 0, \"ticks\": \"\"}}, \"type\": \"scatterpolargl\"}], \"scatterternary\": [{\"marker\": {\"colorbar\": {\"outlinewidth\": 0, \"ticks\": \"\"}}, \"type\": \"scatterternary\"}], \"surface\": [{\"colorbar\": {\"outlinewidth\": 0, \"ticks\": \"\"}, \"colorscale\": [[0.0, \"#0d0887\"], [0.1111111111111111, \"#46039f\"], [0.2222222222222222, \"#7201a8\"], [0.3333333333333333, \"#9c179e\"], [0.4444444444444444, \"#bd3786\"], [0.5555555555555556, \"#d8576b\"], [0.6666666666666666, \"#ed7953\"], [0.7777777777777778, \"#fb9f3a\"], [0.8888888888888888, \"#fdca26\"], [1.0, \"#f0f921\"]], \"type\": \"surface\"}], \"table\": [{\"cells\": {\"fill\": {\"color\": \"#EBF0F8\"}, \"line\": {\"color\": \"white\"}}, \"header\": {\"fill\": {\"color\": \"#C8D4E3\"}, \"line\": {\"color\": \"white\"}}, \"type\": \"table\"}]}, \"layout\": {\"annotationdefaults\": {\"arrowcolor\": \"#2a3f5f\", \"arrowhead\": 0, \"arrowwidth\": 1}, \"coloraxis\": {\"colorbar\": {\"outlinewidth\": 0, \"ticks\": \"\"}}, \"colorscale\": {\"diverging\": [[0, \"#8e0152\"], [0.1, \"#c51b7d\"], [0.2, \"#de77ae\"], [0.3, \"#f1b6da\"], [0.4, \"#fde0ef\"], [0.5, \"#f7f7f7\"], [0.6, \"#e6f5d0\"], [0.7, \"#b8e186\"], [0.8, \"#7fbc41\"], [0.9, \"#4d9221\"], [1, \"#276419\"]], \"sequential\": [[0.0, \"#0d0887\"], [0.1111111111111111, \"#46039f\"], [0.2222222222222222, \"#7201a8\"], [0.3333333333333333, \"#9c179e\"], [0.4444444444444444, \"#bd3786\"], [0.5555555555555556, \"#d8576b\"], [0.6666666666666666, \"#ed7953\"], [0.7777777777777778, \"#fb9f3a\"], [0.8888888888888888, \"#fdca26\"], [1.0, \"#f0f921\"]], \"sequentialminus\": [[0.0, \"#0d0887\"], [0.1111111111111111, \"#46039f\"], [0.2222222222222222, \"#7201a8\"], [0.3333333333333333, \"#9c179e\"], [0.4444444444444444, \"#bd3786\"], [0.5555555555555556, \"#d8576b\"], [0.6666666666666666, \"#ed7953\"], [0.7777777777777778, \"#fb9f3a\"], [0.8888888888888888, \"#fdca26\"], [1.0, \"#f0f921\"]]}, \"colorway\": [\"#636efa\", \"#EF553B\", \"#00cc96\", \"#ab63fa\", \"#FFA15A\", \"#19d3f3\", \"#FF6692\", \"#B6E880\", \"#FF97FF\", \"#FECB52\"], \"font\": {\"color\": \"#2a3f5f\"}, \"geo\": {\"bgcolor\": \"white\", \"lakecolor\": \"white\", \"landcolor\": \"#E5ECF6\", \"showlakes\": true, \"showland\": true, \"subunitcolor\": \"white\"}, \"hoverlabel\": {\"align\": \"left\"}, \"hovermode\": \"closest\", \"mapbox\": {\"style\": \"light\"}, \"paper_bgcolor\": \"white\", \"plot_bgcolor\": \"#E5ECF6\", \"polar\": {\"angularaxis\": {\"gridcolor\": \"white\", \"linecolor\": \"white\", \"ticks\": \"\"}, \"bgcolor\": \"#E5ECF6\", \"radialaxis\": {\"gridcolor\": \"white\", \"linecolor\": \"white\", \"ticks\": \"\"}}, \"scene\": {\"xaxis\": {\"backgroundcolor\": \"#E5ECF6\", \"gridcolor\": \"white\", \"gridwidth\": 2, \"linecolor\": \"white\", \"showbackground\": true, \"ticks\": \"\", \"zerolinecolor\": \"white\"}, \"yaxis\": {\"backgroundcolor\": \"#E5ECF6\", \"gridcolor\": \"white\", \"gridwidth\": 2, \"linecolor\": \"white\", \"showbackground\": true, \"ticks\": \"\", \"zerolinecolor\": \"white\"}, \"zaxis\": {\"backgroundcolor\": \"#E5ECF6\", \"gridcolor\": \"white\", \"gridwidth\": 2, \"linecolor\": \"white\", \"showbackground\": true, \"ticks\": \"\", \"zerolinecolor\": \"white\"}}, \"shapedefaults\": {\"line\": {\"color\": \"#2a3f5f\"}}, \"ternary\": {\"aaxis\": {\"gridcolor\": \"white\", \"linecolor\": \"white\", \"ticks\": \"\"}, \"baxis\": {\"gridcolor\": \"white\", \"linecolor\": \"white\", \"ticks\": \"\"}, \"bgcolor\": \"#E5ECF6\", \"caxis\": {\"gridcolor\": \"white\", \"linecolor\": \"white\", \"ticks\": \"\"}}, \"title\": {\"x\": 0.05}, \"xaxis\": {\"automargin\": true, \"gridcolor\": \"white\", \"linecolor\": \"white\", \"ticks\": \"\", \"title\": {\"standoff\": 15}, \"zerolinecolor\": \"white\", \"zerolinewidth\": 2}, \"yaxis\": {\"automargin\": true, \"gridcolor\": \"white\", \"linecolor\": \"white\", \"ticks\": \"\", \"title\": {\"standoff\": 15}, \"zerolinecolor\": \"white\", \"zerolinewidth\": 2}}}, \"title\": {\"font\": {\"color\": \"#4D5663\"}, \"text\": \"Growth rate vs growth rate dampening per city in England + Wales\"}, \"xaxis\": {\"gridcolor\": \"#E1E5ED\", \"showgrid\": true, \"tickfont\": {\"color\": \"#4D5663\"}, \"title\": {\"font\": {\"color\": \"#4D5663\"}, \"text\": \"Growth rate (r)\"}, \"zerolinecolor\": \"#E1E5ED\"}, \"yaxis\": {\"autorange\": \"reversed\", \"gridcolor\": \"#E1E5ED\", \"showgrid\": true, \"tickfont\": {\"color\": \"#4D5663\"}, \"title\": {\"font\": {\"color\": \"#4D5663\"}, \"text\": \"Growth rate dampening (p)\"}, \"zerolinecolor\": \"#E1E5ED\"}},\n",
       "                        {\"responsive\": true}\n",
       "                    ).then(function(){\n",
       "                            \n",
       "var gd = document.getElementById('b0ffcab6-4f6e-4075-af19-9f2d63d3aacc');\n",
       "var x = new MutationObserver(function (mutations, observer) {{\n",
       "        var display = window.getComputedStyle(gd).display;\n",
       "        if (!display || display === 'none') {{\n",
       "            console.log([gd, 'removed!']);\n",
       "            Plotly.purge(gd);\n",
       "            observer.disconnect();\n",
       "        }}\n",
       "}});\n",
       "\n",
       "// Listen for the removal of the full notebook cells\n",
       "var notebookContainer = gd.closest('#notebook-container');\n",
       "if (notebookContainer) {{\n",
       "    x.observe(notebookContainer, {childList: true});\n",
       "}}\n",
       "\n",
       "// Listen for the clearing of the current output cell\n",
       "var outputEl = gd.closest('.output');\n",
       "if (outputEl) {{\n",
       "    x.observe(outputEl, {childList: true});\n",
       "}}\n",
       "\n",
       "                        })\n",
       "                };\n",
       "                });\n",
       "            </script>\n",
       "        </div>"
      ]
     },
     "metadata": {},
     "output_type": "display_data"
    }
   ],
   "source": [
    "fig = UKcases.popdata.iplot(x=\"r\",y=\"p\",mode=\"markers\",\n",
    "                            size=np.log(UKcases.popdata.LatestTotalCases)*3,\n",
    "                            xTitle=\"Growth rate (r)\", yTitle=\"Growth rate dampening (p)\",\n",
    "                            title=\"Growth rate vs growth rate dampening per city in England + Wales\",\n",
    "                            asFigure=True)\n",
    "\n",
    "fig.update_yaxes(autorange=\"reversed\")\n",
    "fig.update_traces(hovertemplate = '<br><b>%{text}</b>'\n",
    "                                  '<br>Growth rate (r): %{x:.2f}'\n",
    "                                  '<br>Growth dampening (p): %{y:.2f}',\n",
    "                   text = [x+\" (latest total cases: \"+str(int(y))+\")\" for (x,y) in zip(UKcases.popdata.Name.values, UKcases.popdata.LatestTotalCases.values)])\n",
    "\n",
    "fig.show()"
   ]
  }
 ],
 "metadata": {
  "kernelspec": {
   "display_name": "Python 3",
   "language": "python",
   "name": "python3"
  },
  "language_info": {
   "codemirror_mode": {
    "name": "ipython",
    "version": 3
   },
   "file_extension": ".py",
   "mimetype": "text/x-python",
   "name": "python",
   "nbconvert_exporter": "python",
   "pygments_lexer": "ipython3",
   "version": "3.8.2"
  }
 },
 "nbformat": 4,
 "nbformat_minor": 4
}
